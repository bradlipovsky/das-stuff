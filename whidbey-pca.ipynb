{
 "cells": [
  {
   "cell_type": "markdown",
   "id": "1ae5dd46",
   "metadata": {},
   "source": [
    "# Examining ocean waves with the Whidbey Cable"
   ]
  },
  {
   "cell_type": "code",
   "execution_count": 1,
   "id": "dfe2c7f7",
   "metadata": {},
   "outputs": [],
   "source": [
    "import h5py\n",
    "import matplotlib.pyplot as plt\n",
    "from scipy.signal import butter, filtfilt, detrend\n",
    "from numpy.fft import fftshift, fft2, fftfreq\n",
    "import numpy as np\n",
    "import datetime\n",
    "import pandas as pd\n",
    "from dasquakes import *\n",
    "import obspy\n",
    "from obspy import UTCDateTime\n",
    "from obspy.clients.fdsn import Client\n",
    "from libcomcat.search import search\n",
    "from libcomcat.dataframes import get_summary_data_frame\n",
    "import matplotlib.dates as mdates"
   ]
  },
  {
   "cell_type": "markdown",
   "id": "567d5ccf",
   "metadata": {},
   "source": [
    "### Load the DAS Data"
   ]
  },
  {
   "cell_type": "code",
   "execution_count": 20,
   "id": "9aacd396",
   "metadata": {
    "scrolled": false
   },
   "outputs": [],
   "source": [
    "def fk_analysis(t0=datetime.datetime(2022, 5, 17, 1, 57, 0),\n",
    "                draw_figure = True):\n",
    "    cable = 'whidbey'\n",
    "    record_length = 10 #minutes\n",
    "\n",
    "\n",
    "    prefix, network_name, datastore = data_wrangler(cable,record_length,t0)\n",
    "    data,dates,attrs = open_sintela_file(prefix,\n",
    "                                         t0,\n",
    "                                         datastore,\n",
    "                                         number_of_files=record_length,\n",
    "                                         verbose=True)\n",
    "    dx = attrs['SpatialSamplingInterval']\n",
    "    x_max=data.shape[1] * dx\n",
    "    date_format = mdates.DateFormatter('%H:%M:%S')\n",
    "    x_lims = mdates.date2num(dates)\n",
    "    \n",
    "    # Entire subsea region:\n",
    "    x1 = 1225\n",
    "    x2 = 1600\n",
    "\n",
    "    # Whidbey half of subsea region:\n",
    "    # x1 = 1225\n",
    "    # x2 = 1412\n",
    "\n",
    "    # Camano half of subsea region:\n",
    "    # x1 = 1412\n",
    "    # x2 = 1600\n",
    "\n",
    "    xmax = 1720\n",
    "\n",
    "    subsea_data = detrend(data[:,x1:x2])\n",
    "\n",
    "    ft = fftshift(fft2(subsea_data))\n",
    "    f = fftshift(fftfreq(subsea_data.shape[0], d=0.01))\n",
    "    k = fftshift(fftfreq(subsea_data.shape[1], d=attrs['SpatialSamplingInterval']))\n",
    "    \n",
    "    \n",
    "    \n",
    "    \n",
    "    '''\n",
    "    Make a figure\n",
    "    '''\n",
    "    if draw_figure == True:\n",
    "        plt.subplots(1,2,figsize=(15,8))\n",
    "        das_vmax=1\n",
    "\n",
    "\n",
    "        low_cut = 0.2\n",
    "        hi_cut = 2\n",
    "\n",
    "        b,a = butter(2,(low_cut,hi_cut),'bp',fs=attrs['MaximumFrequency']*2)\n",
    "        subsea_data_filt = filtfilt(b,a,subsea_data,axis=0)\n",
    "\n",
    "\n",
    "        ax=plt.subplot(121)\n",
    "        ax.imshow(subsea_data_filt.T,vmin=-das_vmax,vmax=das_vmax,\n",
    "                   cmap='seismic',aspect='auto', \n",
    "                   extent=[x_lims[0],x_lims[-1],(xmax-x2)*dx,(xmax-x1)*dx])\n",
    "        ax.xaxis.set_major_formatter(date_format)\n",
    "        ax.xaxis_date()\n",
    "        # ax.set_xlim(x_lims[5000],x_lims[15000])\n",
    "        for i, tick in enumerate(ax.xaxis.get_ticklabels()):\n",
    "            if i % 2 != 0:\n",
    "                tick.set_visible(False)\n",
    "\n",
    "        ax.set_ylabel('Distance (m)',fontsize=18)\n",
    "        ax.set_xlabel('Time (HH:MM:SS)',fontsize=18)\n",
    "        plt.xticks(fontsize=14)\n",
    "        plt.yticks(fontsize=14)\n",
    "\n",
    "\n",
    "\n",
    "        ax=plt.subplot(122)\n",
    "        c = ax.imshow(np.log10(np.abs(ft)),\n",
    "                       aspect='auto',cmap='Greys',\n",
    "                       vmin=3,vmax=6,\n",
    "                       extent=[k[0],k[-1],f[0],f[-1]])\n",
    "\n",
    "\n",
    "        ax.set_ylabel('Frequency (Hz)',fontsize=18)\n",
    "        ax.set_xlabel('Wavenumber (1/m)',fontsize=18)\n",
    "        ax.set_ylim([-2.5,2.5])\n",
    "        # ax.legend()\n",
    "        # plt.ylim([0])\n",
    "        ax.set_xlim([-0.04,0.04])\n",
    "        plt.xticks(fontsize=14)\n",
    "        plt.yticks(fontsize=14)\n",
    "        # plt.colorbar(c)\n",
    "        plt.grid()\n",
    "        plt.show()\n",
    "        \n",
    "        \n",
    "        \n",
    "    return ft"
   ]
  },
  {
   "cell_type": "code",
   "execution_count": 22,
   "id": "207b99b9",
   "metadata": {},
   "outputs": [
    {
     "name": "stdout",
     "output_type": "stream",
     "text": [
      "/data/data5/Converted/whidbey_2022-05-17_00-00*.h5\n",
      "/data/data5/Converted/whidbey_2022-05-17_00-01*.h5\n",
      "/data/data5/Converted/whidbey_2022-05-17_00-02*.h5\n",
      "/data/data5/Converted/whidbey_2022-05-17_00-03*.h5\n",
      "/data/data5/Converted/whidbey_2022-05-17_00-04*.h5\n",
      "/data/data5/Converted/whidbey_2022-05-17_00-05*.h5\n",
      "/data/data5/Converted/whidbey_2022-05-17_00-06*.h5\n",
      "/data/data5/Converted/whidbey_2022-05-17_00-07*.h5\n",
      "/data/data5/Converted/whidbey_2022-05-17_00-08*.h5\n",
      "/data/data5/Converted/whidbey_2022-05-17_00-09*.h5\n"
     ]
    }
   ],
   "source": [
    "ft1 = fk_analysis(t0=datetime.datetime(2022, 5, 17, 0, 0, 0),draw_figure=False)"
   ]
  },
  {
   "cell_type": "code",
   "execution_count": 23,
   "id": "894c9e14",
   "metadata": {},
   "outputs": [
    {
     "data": {
      "text/plain": [
       "(59999, 375)"
      ]
     },
     "execution_count": 23,
     "metadata": {},
     "output_type": "execute_result"
    }
   ],
   "source": [
    "ft1.shape"
   ]
  },
  {
   "cell_type": "code",
   "execution_count": 24,
   "id": "a1b51450",
   "metadata": {},
   "outputs": [],
   "source": [
    "vector1 = ft1.flatten()"
   ]
  },
  {
   "cell_type": "code",
   "execution_count": 25,
   "id": "bb9b7bbe",
   "metadata": {},
   "outputs": [
    {
     "data": {
      "text/plain": [
       "(22499625,)"
      ]
     },
     "execution_count": 25,
     "metadata": {},
     "output_type": "execute_result"
    }
   ],
   "source": [
    "vector1.shape"
   ]
  },
  {
   "cell_type": "code",
   "execution_count": 27,
   "id": "aeeb167a",
   "metadata": {},
   "outputs": [],
   "source": [
    "D = np.zeros((22499625,2))"
   ]
  },
  {
   "cell_type": "code",
   "execution_count": 30,
   "id": "bb33354a",
   "metadata": {},
   "outputs": [],
   "source": [
    "D[:,0] = np.abs(vector1)"
   ]
  },
  {
   "cell_type": "code",
   "execution_count": null,
   "id": "b50ad340",
   "metadata": {},
   "outputs": [],
   "source": []
  }
 ],
 "metadata": {
  "kernelspec": {
   "display_name": "Python (ComCat)",
   "language": "python",
   "name": "comcat"
  },
  "language_info": {
   "codemirror_mode": {
    "name": "ipython",
    "version": 3
   },
   "file_extension": ".py",
   "mimetype": "text/x-python",
   "name": "python",
   "nbconvert_exporter": "python",
   "pygments_lexer": "ipython3",
   "version": "3.7.12"
  }
 },
 "nbformat": 4,
 "nbformat_minor": 5
}
