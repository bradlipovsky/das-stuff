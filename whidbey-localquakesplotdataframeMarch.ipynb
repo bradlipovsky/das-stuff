{
 "cells": [
  {
   "cell_type": "markdown",
   "id": "1ae5dd46",
   "metadata": {},
   "source": [
    "# Earthquake seismology with DAS\n",
    "\n",
    "#### Todo List:\n",
    "1. Reference earthquakes by Evid rather than dataframe index\n",
    "2. Make a map of all of the detected events\n",
    "3. Try some xcorr"
   ]
  },
  {
   "cell_type": "code",
   "execution_count": 1,
   "id": "dfe2c7f7",
   "metadata": {},
   "outputs": [
    {
     "name": "stderr",
     "output_type": "stream",
     "text": [
      "ERROR 1: PROJ: proj_create_from_database: Open of /home/velgueta/.conda/envs/python-obspy/share/proj failed\n"
     ]
    }
   ],
   "source": [
    "import h5py\n",
    "import matplotlib.pyplot as plt\n",
    "from scipy.signal import butter, filtfilt\n",
    "import numpy as np\n",
    "import datetime\n",
    "import pandas as pd\n",
    "from dasquakes import sintela_to_datetime, open_sintela_file, local_earthquake_quicklook, data_wrangler, haversine\n",
    "import obspy\n",
    "from obspy import UTCDateTime\n",
    "from obspy.clients.fdsn import Client\n",
    "from libcomcat.search import search\n",
    "from libcomcat.dataframes import get_summary_data_frame\n",
    "import geopy.distance\n",
    "from obspy.taup import TauPyModel\n",
    "import math"
   ]
  },
  {
   "cell_type": "markdown",
   "id": "f1de69b8",
   "metadata": {},
   "source": [
    "### Get a list of events from USGS"
   ]
  },
  {
   "cell_type": "code",
   "execution_count": null,
   "id": "4554abf7",
   "metadata": {},
   "outputs": [],
   "source": [
    "events = search(starttime = datetime.datetime(2022, 3, 17, 0, 0), \n",
    "                endtime   = datetime.datetime(2023,1,7,0,0),\n",
    "                minmagnitude=4.5,\n",
    "                maxmagnitude=5.5,\n",
    "                maxradiuskm=3000, \n",
    "                latitude=47.60,\n",
    "                longitude=-122.33)\n",
    "\n",
    "print(\"Returned %s events\" % len(events))\n",
    " \n",
    " "
   ]
  },
  {
   "cell_type": "markdown",
   "id": "b51522ec",
   "metadata": {},
   "source": [
    "# Choose an event to analyze"
   ]
  },
  {
   "cell_type": "code",
   "execution_count": null,
   "id": "452b092e",
   "metadata": {
    "scrolled": false
   },
   "outputs": [],
   "source": [
    "event_df = get_summary_data_frame(events)\n",
    "event_df = event_df.sort_values(by=['time'],ascending=False)\n",
    "event_df\n",
    "\n",
    "\n",
    "\n",
    "#event_df.iloc[0::]"
   ]
  },
  {
   "cell_type": "markdown",
   "id": "62df0033",
   "metadata": {},
   "source": [
    "# Loading data"
   ]
  },
  {
   "cell_type": "code",
   "execution_count": 9,
   "id": "6d2b7d4e",
   "metadata": {},
   "outputs": [],
   "source": [
    "df0=pd.read_csv('Catalogo600km3to5mw.csv')\n",
    "df0\n",
    "df=pd.read_csv('Catalog-Whidbey-27to3.csv')  \n",
    "#df\n",
    "dff1=pd.read_csv('Catalogwhidbey24to27.csv')\n",
    "dff1\n",
    "dff2=pd.read_csv('whidbeyhiguestamplitudin1000.csv')\n",
    "dff3=pd.read_csv('Catalogwhidbey24to27.csv')\n",
    "dff3\n",
    "dff4=pd.read_csv('Catalogwhidbey239to20.csv')\n",
    "dff4\n",
    "dff5=pd.read_csv('Catalogwhidbey199to17.csv')\n",
    "dff6=pd.read_csv('Catalogwhidbey169to14.csv')\n",
    "dff7=pd.read_csv('Catalogwhidbeyglobal67plus.csv')\n",
    "dff8=pd.read_csv('Catalogwhidbey50to6692500km.csv')\n",
    "dff9=pd.read_csv('Catalogwhidbey45to55in3000km.csv')\n",
    "dff10 = pd.read_csv('Catalogwhidbey57toinfin8000km.csv')\n",
    "dff11 = pd.read_csv('Catalogwhidbey449to41in3000km.csv')\n",
    "dff11clip = pd.read_csv('Catalogwhidbeyclipped.csv')\n"
   ]
  },
  {
   "cell_type": "markdown",
   "id": "a956b769",
   "metadata": {},
   "source": [
    "# Concat dataframes"
   ]
  },
  {
   "cell_type": "code",
   "execution_count": null,
   "id": "8d358349",
   "metadata": {},
   "outputs": [],
   "source": [
    "#test2 = pd.read_csv('Catalogwhidbey24to27.csv')\n",
    "#test2\n",
    "#test2[test  0] = np.NAN\n",
    "##test2.fillna(1)\n",
    "#test2\n",
    "#test2.clipped = test2.clipped.fillna()\n",
    "#clipped_data = test2[test2.clipped == 'False']\n",
    "#clipped_data\n"
   ]
  },
  {
   "cell_type": "code",
   "execution_count": 10,
   "id": "6db879c5",
   "metadata": {},
   "outputs": [
    {
     "data": {
      "text/plain": [
       "(684, 8)"
      ]
     },
     "execution_count": 10,
     "metadata": {},
     "output_type": "execute_result"
    }
   ],
   "source": [
    "testconcat =  pd.concat([df0,df,dff1,dff2,dff3,dff4,dff5,dff6,dff7,dff8,dff9,dff10, dff11], ignore_index = True)\n",
    "testconcat.shape"
   ]
  },
  {
   "cell_type": "code",
   "execution_count": null,
   "id": "43edeee5",
   "metadata": {},
   "outputs": [],
   "source": [
    "testconcat.head()"
   ]
  },
  {
   "cell_type": "code",
   "execution_count": null,
   "id": "db41bda8",
   "metadata": {},
   "outputs": [],
   "source": [
    "cleandata = testconcat[testconcat.duplicated()]\n",
    "cleandata"
   ]
  },
  {
   "cell_type": "markdown",
   "id": "fc9584be",
   "metadata": {},
   "source": [
    "# dropping duplicates"
   ]
  },
  {
   "cell_type": "code",
   "execution_count": 11,
   "id": "3a90da2b",
   "metadata": {},
   "outputs": [
    {
     "data": {
      "text/html": [
       "<div>\n",
       "<style scoped>\n",
       "    .dataframe tbody tr th:only-of-type {\n",
       "        vertical-align: middle;\n",
       "    }\n",
       "\n",
       "    .dataframe tbody tr th {\n",
       "        vertical-align: top;\n",
       "    }\n",
       "\n",
       "    .dataframe thead th {\n",
       "        text-align: right;\n",
       "    }\n",
       "</style>\n",
       "<table border=\"1\" class=\"dataframe\">\n",
       "  <thead>\n",
       "    <tr style=\"text-align: right;\">\n",
       "      <th></th>\n",
       "      <th>Magnitud</th>\n",
       "      <th>id_event</th>\n",
       "      <th>Location</th>\n",
       "      <th>detect_seismO</th>\n",
       "      <th>detect_das</th>\n",
       "      <th>clipped</th>\n",
       "      <th>channels</th>\n",
       "      <th>Clipped</th>\n",
       "    </tr>\n",
       "  </thead>\n",
       "  <tbody>\n",
       "    <tr>\n",
       "      <th>0</th>\n",
       "      <td>3.9</td>\n",
       "      <td>us7000j3g5</td>\n",
       "      <td>496.372832</td>\n",
       "      <td>True</td>\n",
       "      <td>FALSE</td>\n",
       "      <td>False</td>\n",
       "      <td>NaN</td>\n",
       "      <td>NaN</td>\n",
       "    </tr>\n",
       "    <tr>\n",
       "      <th>1</th>\n",
       "      <td>3.8</td>\n",
       "      <td>us7000j3f8</td>\n",
       "      <td>495.275940</td>\n",
       "      <td>True</td>\n",
       "      <td>FALSE</td>\n",
       "      <td>False</td>\n",
       "      <td>NaN</td>\n",
       "      <td>NaN</td>\n",
       "    </tr>\n",
       "    <tr>\n",
       "      <th>2</th>\n",
       "      <td>4.9</td>\n",
       "      <td>us7000ishe</td>\n",
       "      <td>332.678725</td>\n",
       "      <td>False</td>\n",
       "      <td>TRUE</td>\n",
       "      <td>NaN</td>\n",
       "      <td>NaN</td>\n",
       "      <td>NaN</td>\n",
       "    </tr>\n",
       "    <tr>\n",
       "      <th>3</th>\n",
       "      <td>4.4</td>\n",
       "      <td>us7000iqsk</td>\n",
       "      <td>583.335379</td>\n",
       "      <td>True</td>\n",
       "      <td>TRUE</td>\n",
       "      <td>True</td>\n",
       "      <td>NaN</td>\n",
       "      <td>NaN</td>\n",
       "    </tr>\n",
       "    <tr>\n",
       "      <th>4</th>\n",
       "      <td>3.4</td>\n",
       "      <td>us7000imha</td>\n",
       "      <td>602.592266</td>\n",
       "      <td>True</td>\n",
       "      <td>norecord</td>\n",
       "      <td>False</td>\n",
       "      <td>NaN</td>\n",
       "      <td>NaN</td>\n",
       "    </tr>\n",
       "    <tr>\n",
       "      <th>...</th>\n",
       "      <td>...</td>\n",
       "      <td>...</td>\n",
       "      <td>...</td>\n",
       "      <td>...</td>\n",
       "      <td>...</td>\n",
       "      <td>...</td>\n",
       "      <td>...</td>\n",
       "      <td>...</td>\n",
       "    </tr>\n",
       "    <tr>\n",
       "      <th>679</th>\n",
       "      <td>4.1</td>\n",
       "      <td>us6000hg3m</td>\n",
       "      <td>1971.940627</td>\n",
       "      <td>NaN</td>\n",
       "      <td>norecord</td>\n",
       "      <td>NaN</td>\n",
       "      <td>NaN</td>\n",
       "      <td>NaN</td>\n",
       "    </tr>\n",
       "    <tr>\n",
       "      <th>680</th>\n",
       "      <td>4.1</td>\n",
       "      <td>us7000h1h8</td>\n",
       "      <td>2768.609093</td>\n",
       "      <td>no</td>\n",
       "      <td>norecord</td>\n",
       "      <td>NaN</td>\n",
       "      <td>NaN</td>\n",
       "      <td>NaN</td>\n",
       "    </tr>\n",
       "    <tr>\n",
       "      <th>681</th>\n",
       "      <td>4.2</td>\n",
       "      <td>us7000h0uz</td>\n",
       "      <td>660.924367</td>\n",
       "      <td>NaN</td>\n",
       "      <td>FALSE</td>\n",
       "      <td>NaN</td>\n",
       "      <td>NaN</td>\n",
       "      <td>NaN</td>\n",
       "    </tr>\n",
       "    <tr>\n",
       "      <th>682</th>\n",
       "      <td>4.2</td>\n",
       "      <td>ak0223wvhy9y</td>\n",
       "      <td>2464.176919</td>\n",
       "      <td>NaN</td>\n",
       "      <td>FALSE</td>\n",
       "      <td>NaN</td>\n",
       "      <td>NaN</td>\n",
       "      <td>NaN</td>\n",
       "    </tr>\n",
       "    <tr>\n",
       "      <th>683</th>\n",
       "      <td>4.1</td>\n",
       "      <td>us6000h5jh</td>\n",
       "      <td>2714.718312</td>\n",
       "      <td>NaN</td>\n",
       "      <td>norecord</td>\n",
       "      <td>NaN</td>\n",
       "      <td>NaN</td>\n",
       "      <td>NaN</td>\n",
       "    </tr>\n",
       "  </tbody>\n",
       "</table>\n",
       "<p>594 rows × 8 columns</p>\n",
       "</div>"
      ],
      "text/plain": [
       "    Magnitud      id_event     Location detect_seismO detect_das clipped  \\\n",
       "0        3.9    us7000j3g5   496.372832          True      FALSE   False   \n",
       "1        3.8    us7000j3f8   495.275940          True      FALSE   False   \n",
       "2        4.9    us7000ishe   332.678725         False       TRUE     NaN   \n",
       "3        4.4    us7000iqsk   583.335379          True       TRUE    True   \n",
       "4        3.4    us7000imha   602.592266          True   norecord   False   \n",
       "..       ...           ...          ...           ...        ...     ...   \n",
       "679      4.1    us6000hg3m  1971.940627           NaN   norecord     NaN   \n",
       "680      4.1    us7000h1h8  2768.609093            no   norecord     NaN   \n",
       "681      4.2    us7000h0uz   660.924367           NaN      FALSE     NaN   \n",
       "682      4.2  ak0223wvhy9y  2464.176919           NaN      FALSE     NaN   \n",
       "683      4.1    us6000h5jh  2714.718312           NaN   norecord     NaN   \n",
       "\n",
       "    channels Clipped  \n",
       "0        NaN     NaN  \n",
       "1        NaN     NaN  \n",
       "2        NaN     NaN  \n",
       "3        NaN     NaN  \n",
       "4        NaN     NaN  \n",
       "..       ...     ...  \n",
       "679      NaN     NaN  \n",
       "680      NaN     NaN  \n",
       "681      NaN     NaN  \n",
       "682      NaN     NaN  \n",
       "683      NaN     NaN  \n",
       "\n",
       "[594 rows x 8 columns]"
      ]
     },
     "execution_count": 11,
     "metadata": {},
     "output_type": "execute_result"
    }
   ],
   "source": [
    "cleandata_2 = testconcat.drop_duplicates()\n",
    "\n",
    "cleandata_2"
   ]
  },
  {
   "cell_type": "markdown",
   "id": "f734fb37",
   "metadata": {},
   "source": [
    "# Sellect data to plot"
   ]
  },
  {
   "cell_type": "code",
   "execution_count": 15,
   "id": "4df8baef",
   "metadata": {},
   "outputs": [],
   "source": [
    "sele_rowcleandata = cleandata_2[cleandata_2.detect_das =='TRUE']\n",
    "nosele_rowcleandata = cleandata_2[cleandata_2.detect_das =='FALSE']\n",
    "inconclu_data = cleandata_2[cleandata_2.detect_das == 'INCONCLUSIVE']\n"
   ]
  },
  {
   "cell_type": "code",
   "execution_count": null,
   "id": "20384ef6",
   "metadata": {},
   "outputs": [],
   "source": [
    "#sanity check\n",
    "#nosele_rowcleandata\n",
    "#inconclu_data\n",
    "#clipped_data\n",
    "#inconclu_data\n",
    "cleandata_2.clipped\n"
   ]
  },
  {
   "cell_type": "markdown",
   "id": "bd61a941",
   "metadata": {},
   "source": [
    "# Plotting data selected"
   ]
  },
  {
   "cell_type": "code",
   "execution_count": 16,
   "id": "cc470111",
   "metadata": {},
   "outputs": [
    {
     "data": {
      "image/png": "[encoded data removed]",
      "text/plain": [
       "<Figure size 640x480 with 1 Axes>"
      ]
     },
     "metadata": {},
     "output_type": "display_data"
    }
   ],
   "source": [
    "ax=plt.plot(figsize=(25,25))\n",
    "a=0.5\n",
    "ax=plt.scatter(sele_rowcleandata.Location, sele_rowcleandata.Magnitud,c='C0', s=None, marker='o',label='Quakes detected by Das')\n",
    "ax=plt.scatter(nosele_rowcleandata.Location, nosele_rowcleandata.Magnitud,c='C3', s=None, marker='o',label='Quakes NO detected by Das')\n",
    "#ax=plt.scatter(inconclu_data.Location, inconclu_data.Magnitud,c='C11', s=None, marker='o', label='Inconclusive Quakes')\n",
    "ax=plt.scatter(dff11clip.Location, dff11clip.Magnitud,c='C2', s=None, marker='o',label='Quakes clipped')\n",
    "ax=plt.xscale('log')\n",
    "ax=plt.ylabel('Earthquake magnitude', fontsize=15);\n",
    "ax=plt.xlabel('log10(Distance to the cable [Km])',fontsize=15)\n",
    "ax=plt.grid()\n",
    "ax=plt.title('Around 600 Local/regional/global earthquakes detected by WhidbeyCable')\n",
    "ax =plt.savefig(\"whidbeylocalquakesmw-all\")\n",
    "ax = plt.legend()\n",
    "ax = plt.show()\n",
    "ax = plt.close()"
   ]
  },
  {
   "cell_type": "code",
   "execution_count": null,
   "id": "79beda43",
   "metadata": {},
   "outputs": [],
   "source": [
    "#selected_rows0 = df0[df0.detect_das == 'TRUE']\n",
    "#noselected_rows0 = df0[df0.detect_das == 'FALSE']\n",
    "#selected_rows1 = dff1[dff1.detect_das == 'TRUE']\n",
    "#noselected_rows1 = dff1[dff1.detect_das == 'FALSE']\n",
    "#selected_rows = df[df.detect_das == 'TRUE']\n",
    "#noselected_rows = df[df.detect_das == 'FALSE']\n",
    "#selected_rows2 = dff2[dff2.detect_das == 'TRUE']\n",
    "#noselected_rows2 = dff2[dff2.detect_das == 'FALSE']\n",
    "#selected_rows3 = dff3[dff3.detect_das == 'TRUE']\n",
    "#noselected_rows3 = dff3[dff3.detect_das == 'FALSE']\n",
    "#selected_rows4 = dff4[dff4.detect_das == 'TRUE']\n",
    "#noselected_rows4 = dff4[dff4.detect_das == 'FALSE']\n",
    "#selected_rows5 = dff5[dff5.detect_das == 'TRUE']\n",
    "#noselected_rows5 = dff5[dff5.detect_das == 'FALSE']\n",
    "#selected_rows6 = dff6[dff6.detect_das == 'TRUE']\n",
    "#noselected_rows6 = dff6[dff6.detect_das == 'FALSE']\n",
    "#selected_rows7 = dff7[dff7.detect_das == 'TRUE']\n",
    "#noselected_rows7 = dff7[dff7.detect_das == 'FALSE']\n",
    "#plt.scatter(np.log10(selected_rows.Location),selected_rows.Magnitud,s=None, marker='o', alpha=0.9, label='Different earthquakes')\n",
    "#plt.xlabel('log10(Distance to the cable(Km))')\n",
    "#plt.ylabel('Magnitud')\n",
    "#plt.title('Whidbey detection (magnitudes between 2.7 to 2.99 mw)')\n",
    "#plt.grid()\n",
    "#plt.savefig(\"whidbeylocalquakes-lowmagnitud\")\n",
    "#plt.show()\n",
    "#plt.close()"
   ]
  },
  {
   "cell_type": "code",
   "execution_count": null,
   "id": "9e299a74",
   "metadata": {},
   "outputs": [],
   "source": [
    "#plot testing\n",
    "#creating plot distance vs magnitud\n",
    "#plt.subplots(figsize=(10,5))\n",
    "#plt.scatter(np.log10(dist_kmarray), magnituddarray,s=None, marker='o', alpha=0.9, label='Different earthquakes')\n",
    "#plt.xlabel('Distance to the cable [Km]')\n",
    "#plt.ylabel('Earthquakes magnitud');\n",
    "#plt.legend()\n",
    "#plt.grid()\n",
    "#plt.show()"
   ]
  },
  {
   "cell_type": "markdown",
   "id": "b197ec65",
   "metadata": {},
   "source": [
    "# Data frame for earthquakes with WhibdeyCable"
   ]
  }
 ],
 "metadata": {
  "kernelspec": {
   "display_name": "Python (Obspy+LibComtCat)",
   "language": "python",
   "name": "python-obspy"
  },
  "language_info": {
   "codemirror_mode": {
    "name": "ipython",
    "version": 3
   },
   "file_extension": ".py",
   "mimetype": "text/x-python",
   "name": "python",
   "nbconvert_exporter": "python",
   "pygments_lexer": "ipython3",
   "version": "3.9.13"
  }
 },
 "nbformat": 4,
 "nbformat_minor": 5
}
