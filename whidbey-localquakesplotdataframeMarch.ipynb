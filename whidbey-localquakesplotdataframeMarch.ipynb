{
 "cells": [
  {
   "cell_type": "markdown",
   "id": "1ae5dd46",
   "metadata": {},
   "source": [
    "# Earthquake seismology with DAS\n",
    "\n",
    "#### Todo List:\n",
    "1. Reference earthquakes by Evid rather than dataframe index\n",
    "2. Make a map of all of the detected events\n",
    "3. Try some xcorr"
   ]
  },
  {
   "cell_type": "code",
   "execution_count": 1,
   "id": "dfe2c7f7",
   "metadata": {},
   "outputs": [
    {
     "name": "stderr",
     "output_type": "stream",
     "text": [
      "ERROR 1: PROJ: proj_create_from_database: Open of /home/velgueta/.conda/envs/python-obspy/share/proj failed\n"
     ]
    }
   ],
   "source": [
    "import h5py\n",
    "import matplotlib.pyplot as plt\n",
    "from scipy.signal import butter, filtfilt\n",
    "import numpy as np\n",
    "import datetime\n",
    "import pandas as pd\n",
    "from dasquakes import sintela_to_datetime, open_sintela_file, local_earthquake_quicklook, data_wrangler, haversine\n",
    "import obspy\n",
    "from obspy import UTCDateTime\n",
    "from obspy.clients.fdsn import Client\n",
    "from libcomcat.search import search\n",
    "from libcomcat.dataframes import get_summary_data_frame\n",
    "import geopy.distance\n",
    "from obspy.taup import TauPyModel\n",
    "import math"
   ]
  },
  {
   "cell_type": "markdown",
   "id": "f1de69b8",
   "metadata": {},
   "source": [
    "### Get a list of events from USGS"
   ]
  },
  {
   "cell_type": "code",
   "execution_count": null,
   "id": "4554abf7",
   "metadata": {},
   "outputs": [],
   "source": [
    "events = search(starttime = datetime.datetime(2022, 3, 17, 0, 0), \n",
    "                endtime   = datetime.datetime(2023,1,7,0,0),\n",
    "                minmagnitude=4.5,\n",
    "                maxmagnitude=5.5,\n",
    "                maxradiuskm=3000, \n",
    "                latitude=47.60,\n",
    "                longitude=-122.33)\n",
    "\n",
    "print(\"Returned %s events\" % len(events))\n",
    " \n",
    " "
   ]
  },
  {
   "cell_type": "markdown",
   "id": "b51522ec",
   "metadata": {},
   "source": [
    "# Choose an event to analyze"
   ]
  },
  {
   "cell_type": "code",
   "execution_count": null,
   "id": "452b092e",
   "metadata": {
    "scrolled": false
   },
   "outputs": [],
   "source": [
    "event_df = get_summary_data_frame(events)\n",
    "event_df = event_df.sort_values(by=['time'],ascending=False)\n",
    "event_df\n",
    "\n",
    "\n",
    "\n",
    "#event_df.iloc[0::]"
   ]
  },
  {
   "cell_type": "markdown",
   "id": "fed2f1ee",
   "metadata": {},
   "source": [
    "# Loading data"
   ]
  },
  {
   "cell_type": "code",
   "execution_count": 9,
   "id": "6d2b7d4e",
   "metadata": {},
   "outputs": [],
   "source": [
    "df0=pd.read_csv('Catalogo600km3to5mw.csv')\n",
    "df0\n",
    "df=pd.read_csv('Catalog-Whidbey-lowmagnitud.csv')  \n",
    "df\n",
    "dff1=pd.read_csv('Catalogwhidbey24to27.csv')\n",
    "dff1\n",
    "dff2=pd.read_csv('whidbeyhiguestamplitudin1000.csv')\n",
    "dff3=pd.read_csv('Catalogwhidbey24to27.csv')\n",
    "dff3\n",
    "dff4=pd.read_csv('Catalogwhidbey239to20.csv')\n",
    "dff4\n",
    "dff5=pd.read_csv('Catalogwhidbey199to17.csv')\n",
    "dff6=pd.read_csv('Catalogwhidbey169to14.csv')\n",
    "dff7=pd.read_csv('Catalogwhidbeyglobal67plus.csv')\n",
    "dff8=pd.read_csv('Catalogwhidbey50to6692500km.csv')\n",
    "dff9=pd.read_csv('Catalogwhidbey45to55in3000km.csv')\n",
    "dff10 = pd.read_csv('Catalogwhidbey57toinfin8000km.csv')\n",
    "dff11clip = pd.read_csv('Catalogwhidbeyclipped.csv')\n"
   ]
  },
  {
   "cell_type": "markdown",
   "id": "52cdcaaf",
   "metadata": {},
   "source": [
    "# Concat dataframes"
   ]
  },
  {
   "cell_type": "code",
   "execution_count": 11,
   "id": "34b10022",
   "metadata": {},
   "outputs": [],
   "source": [
    "#test2 = pd.read_csv('Catalogwhidbey24to27.csv')\n",
    "#test2\n",
    "#test2[test  0] = np.NAN\n",
    "##test2.fillna(1)\n",
    "#test2\n",
    "#test2.clipped = test2.clipped.fillna()\n",
    "#clipped_data = test2[test2.clipped == 'False']\n",
    "#clipped_data\n"
   ]
  },
  {
   "cell_type": "code",
   "execution_count": 12,
   "id": "6db879c5",
   "metadata": {},
   "outputs": [
    {
     "data": {
      "text/plain": [
       "(575, 8)"
      ]
     },
     "execution_count": 12,
     "metadata": {},
     "output_type": "execute_result"
    }
   ],
   "source": [
    "testconcat =  pd.concat([df0,df,dff1,dff2,dff3,dff4,dff5,dff6,dff7,dff8,dff9,dff10], ignore_index = True)\n",
    "testconcat.shape"
   ]
  },
  {
   "cell_type": "code",
   "execution_count": null,
   "id": "43edeee5",
   "metadata": {},
   "outputs": [],
   "source": [
    "testconcat.head()"
   ]
  },
  {
   "cell_type": "code",
   "execution_count": null,
   "id": "db41bda8",
   "metadata": {},
   "outputs": [],
   "source": [
    "cleandata = testconcat[testconcat.duplicated()]\n",
    "cleandata"
   ]
  },
  {
   "cell_type": "markdown",
   "id": "d8c9a0a9",
   "metadata": {},
   "source": [
    "# dropping duplicates"
   ]
  },
  {
   "cell_type": "code",
   "execution_count": 13,
   "id": "3a90da2b",
   "metadata": {},
   "outputs": [
    {
     "data": {
      "text/html": [
       "<div>\n",
       "<style scoped>\n",
       "    .dataframe tbody tr th:only-of-type {\n",
       "        vertical-align: middle;\n",
       "    }\n",
       "\n",
       "    .dataframe tbody tr th {\n",
       "        vertical-align: top;\n",
       "    }\n",
       "\n",
       "    .dataframe thead th {\n",
       "        text-align: right;\n",
       "    }\n",
       "</style>\n",
       "<table border=\"1\" class=\"dataframe\">\n",
       "  <thead>\n",
       "    <tr style=\"text-align: right;\">\n",
       "      <th></th>\n",
       "      <th>Magnitud</th>\n",
       "      <th>id_event</th>\n",
       "      <th>Location</th>\n",
       "      <th>detect_seismO</th>\n",
       "      <th>detect_das</th>\n",
       "      <th>clipped</th>\n",
       "      <th>channels</th>\n",
       "      <th>Clipped</th>\n",
       "    </tr>\n",
       "  </thead>\n",
       "  <tbody>\n",
       "    <tr>\n",
       "      <th>0</th>\n",
       "      <td>3.9</td>\n",
       "      <td>us7000j3g5</td>\n",
       "      <td>496.372832</td>\n",
       "      <td>True</td>\n",
       "      <td>FALSE</td>\n",
       "      <td>False</td>\n",
       "      <td>NaN</td>\n",
       "      <td>NaN</td>\n",
       "    </tr>\n",
       "    <tr>\n",
       "      <th>1</th>\n",
       "      <td>3.8</td>\n",
       "      <td>us7000j3f8</td>\n",
       "      <td>495.275940</td>\n",
       "      <td>True</td>\n",
       "      <td>FALSE</td>\n",
       "      <td>False</td>\n",
       "      <td>NaN</td>\n",
       "      <td>NaN</td>\n",
       "    </tr>\n",
       "    <tr>\n",
       "      <th>2</th>\n",
       "      <td>4.9</td>\n",
       "      <td>us7000ishe</td>\n",
       "      <td>332.678725</td>\n",
       "      <td>False</td>\n",
       "      <td>TRUE</td>\n",
       "      <td>NaN</td>\n",
       "      <td>NaN</td>\n",
       "      <td>NaN</td>\n",
       "    </tr>\n",
       "    <tr>\n",
       "      <th>3</th>\n",
       "      <td>4.4</td>\n",
       "      <td>us7000iqsk</td>\n",
       "      <td>583.335379</td>\n",
       "      <td>True</td>\n",
       "      <td>TRUE</td>\n",
       "      <td>True</td>\n",
       "      <td>NaN</td>\n",
       "      <td>NaN</td>\n",
       "    </tr>\n",
       "    <tr>\n",
       "      <th>4</th>\n",
       "      <td>3.4</td>\n",
       "      <td>us7000imha</td>\n",
       "      <td>602.592266</td>\n",
       "      <td>True</td>\n",
       "      <td>norecord</td>\n",
       "      <td>False</td>\n",
       "      <td>NaN</td>\n",
       "      <td>NaN</td>\n",
       "    </tr>\n",
       "    <tr>\n",
       "      <th>...</th>\n",
       "      <td>...</td>\n",
       "      <td>...</td>\n",
       "      <td>...</td>\n",
       "      <td>...</td>\n",
       "      <td>...</td>\n",
       "      <td>...</td>\n",
       "      <td>...</td>\n",
       "      <td>...</td>\n",
       "    </tr>\n",
       "    <tr>\n",
       "      <th>570</th>\n",
       "      <td>5.6</td>\n",
       "      <td>us7000h5t8</td>\n",
       "      <td>6019.151401</td>\n",
       "      <td>NaN</td>\n",
       "      <td>norecord</td>\n",
       "      <td>NaN</td>\n",
       "      <td>NaN</td>\n",
       "      <td>NaN</td>\n",
       "    </tr>\n",
       "    <tr>\n",
       "      <th>571</th>\n",
       "      <td>5.6</td>\n",
       "      <td>us6000hfyj</td>\n",
       "      <td>6128.533347</td>\n",
       "      <td>NaN</td>\n",
       "      <td>norecord</td>\n",
       "      <td>NaN</td>\n",
       "      <td>NaN</td>\n",
       "      <td>NaN</td>\n",
       "    </tr>\n",
       "    <tr>\n",
       "      <th>572</th>\n",
       "      <td>6.6</td>\n",
       "      <td>us6000hf75</td>\n",
       "      <td>5183.086145</td>\n",
       "      <td>NaN</td>\n",
       "      <td>INCONCLUSIVE</td>\n",
       "      <td>NaN</td>\n",
       "      <td>NaN</td>\n",
       "      <td>NaN</td>\n",
       "    </tr>\n",
       "    <tr>\n",
       "      <th>573</th>\n",
       "      <td>5.7</td>\n",
       "      <td>us7000h0x9</td>\n",
       "      <td>4181.059974</td>\n",
       "      <td>NaN</td>\n",
       "      <td>FALSE</td>\n",
       "      <td>NaN</td>\n",
       "      <td>NaN</td>\n",
       "      <td>NaN</td>\n",
       "    </tr>\n",
       "    <tr>\n",
       "      <th>574</th>\n",
       "      <td>5.8</td>\n",
       "      <td>us7000gxlu</td>\n",
       "      <td>6612.515382</td>\n",
       "      <td>NaN</td>\n",
       "      <td>FALSE</td>\n",
       "      <td>NaN</td>\n",
       "      <td>NaN</td>\n",
       "      <td>NaN</td>\n",
       "    </tr>\n",
       "  </tbody>\n",
       "</table>\n",
       "<p>485 rows × 8 columns</p>\n",
       "</div>"
      ],
      "text/plain": [
       "    Magnitud    id_event     Location detect_seismO    detect_das clipped  \\\n",
       "0        3.9  us7000j3g5   496.372832          True         FALSE   False   \n",
       "1        3.8  us7000j3f8   495.275940          True         FALSE   False   \n",
       "2        4.9  us7000ishe   332.678725         False          TRUE     NaN   \n",
       "3        4.4  us7000iqsk   583.335379          True          TRUE    True   \n",
       "4        3.4  us7000imha   602.592266          True      norecord   False   \n",
       "..       ...         ...          ...           ...           ...     ...   \n",
       "570      5.6  us7000h5t8  6019.151401           NaN      norecord     NaN   \n",
       "571      5.6  us6000hfyj  6128.533347           NaN      norecord     NaN   \n",
       "572      6.6  us6000hf75  5183.086145           NaN  INCONCLUSIVE     NaN   \n",
       "573      5.7  us7000h0x9  4181.059974           NaN         FALSE     NaN   \n",
       "574      5.8  us7000gxlu  6612.515382           NaN         FALSE     NaN   \n",
       "\n",
       "    channels Clipped  \n",
       "0        NaN     NaN  \n",
       "1        NaN     NaN  \n",
       "2        NaN     NaN  \n",
       "3        NaN     NaN  \n",
       "4        NaN     NaN  \n",
       "..       ...     ...  \n",
       "570      NaN     NaN  \n",
       "571      NaN     NaN  \n",
       "572      NaN     NaN  \n",
       "573      NaN     NaN  \n",
       "574      NaN     NaN  \n",
       "\n",
       "[485 rows x 8 columns]"
      ]
     },
     "execution_count": 13,
     "metadata": {},
     "output_type": "execute_result"
    }
   ],
   "source": [
    "cleandata_2 = testconcat.drop_duplicates()\n",
    "\n",
    "cleandata_2"
   ]
  },
  {
   "cell_type": "markdown",
   "id": "54e9fa14",
   "metadata": {},
   "source": [
    "# Sellect data to plot"
   ]
  },
  {
   "cell_type": "code",
   "execution_count": 14,
   "id": "4df8baef",
   "metadata": {},
   "outputs": [],
   "source": [
    "sele_rowcleandata = cleandata_2[cleandata_2.detect_das =='TRUE']\n",
    "nosele_rowcleandata = cleandata_2[cleandata_2.detect_das =='FALSE']\n",
    "inconclu_data = cleandata_2[cleandata_2.detect_das == 'INCONCLUSIVE']\n"
   ]
  },
  {
   "cell_type": "code",
   "execution_count": null,
   "id": "20384ef6",
   "metadata": {},
   "outputs": [],
   "source": [
    "#sanity check\n",
    "#nosele_rowcleandata\n",
    "#inconclu_data\n",
    "#clipped_data\n",
    "#inconclu_data\n",
    "cleandata_2.clipped\n"
   ]
  },
  {
   "cell_type": "markdown",
   "id": "9e305595",
   "metadata": {},
   "source": [
    "# Plotting data selected"
   ]
  },
  {
   "cell_type": "code",
   "execution_count": 17,
   "id": "cc470111",
   "metadata": {},
   "outputs": [
    {
     "data": {
      "image/png": "[encoded data removed]",
      "text/plain": [
       "<Figure size 640x480 with 1 Axes>"
      ]
     },
     "metadata": {},
     "output_type": "display_data"
    }
   ],
   "source": [
    "ax=plt.plot(figsize=(25,25))\n",
    "a=0.5\n",
    "ax=plt.scatter(sele_rowcleandata.Location, sele_rowcleandata.Magnitud,c='b', s=None, marker='o')\n",
    "ax=plt.scatter(nosele_rowcleandata.Location, nosele_rowcleandata.Magnitud,c='r', s=None, marker='o')\n",
    "ax=plt.scatter(inconclu_data.Location, inconclu_data.Magnitud,c='k', s=None, marker='o')\n",
    "ax=plt.scatter(dff11clip.Location, dff11clip.Magnitud,c='g', s=None, marker='o')\n",
    "ax=plt.xscale('log')\n",
    "ax=plt.ylabel('Earthquake magnitude', fontsize=15);\n",
    "ax=plt.xlabel('log10(Distance to the cable [Km])',fontsize=15)\n",
    "ax=plt.grid()\n",
    "ax=plt.title('Local/regional/global earthquakes detected by WhidbeyCable')\n",
    "ax =plt.savefig(\"whidbeylocalquakesmw-all\")\n",
    "ax = plt.show()\n",
    "ax = plt.close()"
   ]
  },
  {
   "cell_type": "code",
   "execution_count": null,
   "id": "79beda43",
   "metadata": {},
   "outputs": [],
   "source": [
    "selected_rows0 = df0[df0.detect_das == 'TRUE']\n",
    "noselected_rows0 = df0[df0.detect_das == 'FALSE']\n",
    "selected_rows1 = dff1[dff1.detect_das == 'TRUE']\n",
    "noselected_rows1 = dff1[dff1.detect_das == 'FALSE']\n",
    "selected_rows = df[df.detect_das == 'TRUE']\n",
    "noselected_rows = df[df.detect_das == 'FALSE']\n",
    "selected_rows2 = dff2[dff2.detect_das == 'TRUE']\n",
    "noselected_rows2 = dff2[dff2.detect_das == 'FALSE']\n",
    "selected_rows3 = dff3[dff3.detect_das == 'TRUE']\n",
    "noselected_rows3 = dff3[dff3.detect_das == 'FALSE']\n",
    "selected_rows4 = dff4[dff4.detect_das == 'TRUE']\n",
    "noselected_rows4 = dff4[dff4.detect_das == 'FALSE']\n",
    "selected_rows5 = dff5[dff5.detect_das == 'TRUE']\n",
    "noselected_rows5 = dff5[dff5.detect_das == 'FALSE']\n",
    "selected_rows6 = dff6[dff6.detect_das == 'TRUE']\n",
    "noselected_rows6 = dff6[dff6.detect_das == 'FALSE']\n",
    "selected_rows7 = dff7[dff7.detect_das == 'TRUE']\n",
    "noselected_rows7 = dff7[dff7.detect_das == 'FALSE']\n",
    "#plt.scatter(np.log10(selected_rows.Location),selected_rows.Magnitud,s=None, marker='o', alpha=0.9, label='Different earthquakes')\n",
    "#plt.xlabel('log10(Distance to the cable(Km))')\n",
    "#plt.ylabel('Magnitud')\n",
    "#plt.title('Whidbey detection (magnitudes between 2.7 to 2.99 mw)')\n",
    "#plt.grid()\n",
    "#plt.savefig(\"whidbeylocalquakes-lowmagnitud\")\n",
    "#plt.show()\n",
    "#plt.close()"
   ]
  },
  {
   "cell_type": "code",
   "execution_count": null,
   "id": "9e299a74",
   "metadata": {},
   "outputs": [],
   "source": [
    "#plot testing\n",
    "#creating plot distance vs magnitud\n",
    "#plt.subplots(figsize=(10,5))\n",
    "#plt.scatter(np.log10(dist_kmarray), magnituddarray,s=None, marker='o', alpha=0.9, label='Different earthquakes')\n",
    "#plt.xlabel('Distance to the cable [Km]')\n",
    "#plt.ylabel('Earthquakes magnitud');\n",
    "#plt.legend()\n",
    "#plt.grid()\n",
    "#plt.show()"
   ]
  },
  {
   "cell_type": "markdown",
   "id": "b197ec65",
   "metadata": {},
   "source": [
    "# Data frame for earthquakes with WhibdeyCable"
   ]
  },
  {
   "cell_type": "code",
   "execution_count": null,
   "id": "619cc308",
   "metadata": {},
   "outputs": [],
   "source": [
    "#these lines replaced for df0 folder\n",
    "#tf=['False','False','True','True','norecord','True','False','True','True','True','False','True','True','False','False','False','False','False','False','True','Norecord','Norecord','False','True','Norecord','Norecord','True','False']\n",
    "#tfn=np.array(tf).T\n",
    "#len(tf)\n",
    "#dataf = np.array([event_df.id, event_df.location, event_df.magnitude,tf],dtype='object').T\n",
    "#dataf\n",
    "#df3 = pd.DataFrame(dataf,columns=['Id', 'Distance', 'Magnitude','Detected by Das'])\n",
    "#df3\n",
    "\n"
   ]
  },
  {
   "cell_type": "code",
   "execution_count": null,
   "id": "fe0bc6cd",
   "metadata": {},
   "outputs": [],
   "source": [
    "#creating plot distance vs magnitud (real earthquakes that we can see)\n",
    "#newmagtnitud=[magnituddarray[2],magnituddarray[3],magnituddarray[5],magnituddarray[7],magnituddarray[8],magnituddarray[10],magnituddarray[11],magnituddarray[13],magnituddarray[14],magnituddarray[18],magnituddarray[19],magnituddarray[23],magnituddarray[26]]\n",
    "#newdist_kmarray=[dist_kmarray[2],dist_kmarray[3],dist_kmarray[5],dist_kmarray[7],dist_kmarray[8],dist_kmarray[10],dist_kmarray[11],dist_kmarray[13],dist_kmarray[14],dist_kmarray[18],dist_kmarray[19],dist_kmarray[23],dist_kmarray[26]]\n",
    "#filename = f\"earthquakes_distances600noseismogramswhidbey/\"\n",
    "a=0.5\n",
    "figure=plt.plot(figsize=(15,20))\n",
    "plt.scatter(selected_rows0.Location,selected_rows0.Magnitud,c='b', s=None, marker='o', alpha=a, label='Quakes detected by Das')\n",
    "plt.scatter(noselected_rows0.Location,noselected_rows0.Magnitud,c='r', s=None, marker='o', alpha=a)# label='Earthquakes magnitud from 3.0mw No detected')\n",
    "#plt.scatter(newdist_kmarray,newmagtnitud,s=None, marker='o', alpha=0.9, label='Earthquakes magnitud from 3.0mw')\n",
    "plt.scatter(noselected_rows.Location,noselected_rows.Magnitud,c='r',s=None, marker='o', alpha=a)# label='Earthquakes magnitud from 2.7 to 3mw NO DETECTED')\n",
    "plt.scatter(selected_rows.Location,selected_rows.Magnitud,c='b',s=None, marker='o', alpha=a) # label='Earthquakes magnitud from 2.7 to 3mw')\n",
    "plt.scatter(selected_rows1.Location,selected_rows1.Magnitud,c='b',s=None, marker='o', alpha=a)# label='Earthquakes magnitud from 1.5 to 2.7mw')\n",
    "plt.scatter(noselected_rows1.Location,noselected_rows1.Magnitud,c='r',s=None, marker='o', alpha=a)# label='nodetected Earthquakes magnitud from 1.5 to 2.7mw')\n",
    "#plt.scatter(dff2.Location,dff2.Magnitud,c='b',s=None, marker='o', alpha=0.9, label='Earthquakes magnitud from 4.9 to 8mw')\n",
    "plt.scatter(selected_rows2.Location,selected_rows2.Magnitud,c='b',s=None, marker='o', alpha=a)# label='Earthquakes magnitud from 4.9 to 8mw')\n",
    "plt.scatter(noselected_rows2.Location,noselected_rows2.Magnitud,c='r',s=None, marker='o', alpha=a)# label='no detected Earthquakes ')\n",
    "plt.scatter(dff3.Location,dff3.Magnitud,c='b',s=None, marker='o', alpha=0.9)#, label='Earthquakes magnitud from 4.9 to 8mw')\n",
    "plt.scatter(noselected_rows3.Location,noselected_rows3.Magnitud,c='r',s=None, marker='o', alpha=a)# label='Earthquakes magnitud from 4.9 to 8mw')\n",
    "plt.scatter(dff4.Location,dff4.Magnitud,c='b',s=None, marker='o', alpha=0.9)#, label='Earthquakes magnitud from 4.9 to 8mw')\n",
    "plt.scatter(noselected_rows4.Location,noselected_rows4.Magnitud,c='r',s=None, marker='o', alpha=a)# label='Earthquakes magnitud from 4.9 to 8mw')\n",
    "plt.scatter(dff5.Location,dff5.Magnitud,c='b',s=None, marker='o', alpha=0.9)#, label='Earthquakes magnitud from 4.9 to 8mw')\n",
    "plt.scatter(noselected_rows5.Location,noselected_rows5.Magnitud,c='r',s=None, marker='o', alpha=a)# label='Earthquakes pequeños')\n",
    "plt.scatter(dff6.Location,dff6.Magnitud,c='b',s=None, marker='o', alpha=0.9)#, label='Earthquakes magnitud from 4.9 to 8mw')\n",
    "plt.scatter(noselected_rows6.Location,noselected_rows6.Magnitud,c='r',s=None, marker='o', alpha=a)\n",
    "plt.scatter(dff7.Location,dff7.Magnitud,c='b',s=None, marker='o', alpha=0.9)# label='Earthquakes magnitud from 4.9 to 8mw')\n",
    "plt.scatter(noselected_rows7.Location,noselected_rows7.Magnitud,c='r',s=None, marker='o', alpha=a,label='NO detected')\n",
    "plt.title('old plot-dataduplicated')\n",
    "plt.xscale('log')\n",
    "plt.xlabel('log10(Distance to the cable [Km])',fontsize=15)\n",
    "plt.ylabel('Earthquake magnitude', fontsize=15);\n",
    "plt.legend()\n",
    "plt.grid()\n",
    "#plt.savefig(filename+\"_whidbeylocalquakes\")\n",
    "plt.savefig(\"whidbeylocalquakesmw-all\")\n",
    "plt.show()\n",
    "plt.close()"
   ]
  },
  {
   "cell_type": "code",
   "execution_count": null,
   "id": "b19c2c2f",
   "metadata": {},
   "outputs": [],
   "source": []
  }
 ],
 "metadata": {
  "kernelspec": {
   "display_name": "Python (Obspy+LibComtCat)",
   "language": "python",
   "name": "python-obspy"
  },
  "language_info": {
   "codemirror_mode": {
    "name": "ipython",
    "version": 3
   },
   "file_extension": ".py",
   "mimetype": "text/x-python",
   "name": "python",
   "nbconvert_exporter": "python",
   "pygments_lexer": "ipython3",
   "version": "3.9.13"
  }
 },
 "nbformat": 4,
 "nbformat_minor": 5
}
