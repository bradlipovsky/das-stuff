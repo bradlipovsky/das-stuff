{
 "cells": [
  {
   "cell_type": "markdown",
   "id": "1ae5dd46",
   "metadata": {},
   "source": [
    "# Earthquake seismology with DAS\n",
    "\n",
    "#### Todo List:\n",
    "1. Reference earthquakes by Evid rather than dataframe index\n",
    "2. Make a map of all of the detected events\n",
    "3. Try some xcorr"
   ]
  },
  {
   "cell_type": "code",
   "execution_count": 1,
   "id": "dfe2c7f7",
   "metadata": {},
   "outputs": [
    {
     "name": "stderr",
     "output_type": "stream",
     "text": [
      "ERROR 1: PROJ: proj_create_from_database: Open of /home/velgueta/.conda/envs/python-obspy/share/proj failed\n"
     ]
    }
   ],
   "source": [
    "import h5py\n",
    "import matplotlib.pyplot as plt\n",
    "from scipy.signal import butter, filtfilt\n",
    "import numpy as np\n",
    "import datetime\n",
    "import pandas as pd\n",
    "from dasquakes import sintela_to_datetime, open_sintela_file, local_earthquake_quicklook, data_wrangler, haversine\n",
    "import obspy\n",
    "from obspy import UTCDateTime\n",
    "from obspy.clients.fdsn import Client\n",
    "from libcomcat.search import search\n",
    "from libcomcat.dataframes import get_summary_data_frame\n",
    "import geopy.distance"
   ]
  },
  {
   "cell_type": "markdown",
   "id": "f1de69b8",
   "metadata": {},
   "source": [
    "### Get a list of events from USGS"
   ]
  },
  {
   "cell_type": "code",
   "execution_count": 2,
   "id": "4554abf7",
   "metadata": {},
   "outputs": [
    {
     "name": "stdout",
     "output_type": "stream",
     "text": [
      "Returned 10 events\n"
     ]
    }
   ],
   "source": [
    "events = search(starttime = datetime.datetime(2022, 3, 17, 0, 0), \n",
    "                endtime   = datetime.datetime(2023,1,9,0,0),\n",
    "                minmagnitude=4.9,\n",
    "                maxmagnitude=6.4,\n",
    "                maxradiuskm=1000, \n",
    "                latitude=47.60, \n",
    "                longitude=-122.33)\n",
    "\n",
    "print(\"Returned %s events\" % len(events))\n",
    " "
   ]
  },
  {
   "cell_type": "markdown",
   "id": "b51522ec",
   "metadata": {},
   "source": [
    "### Choose an event to analyze"
   ]
  },
  {
   "cell_type": "code",
   "execution_count": 3,
   "id": "452b092e",
   "metadata": {
    "scrolled": true
   },
   "outputs": [
    {
     "data": {
      "text/html": [
       "<div>\n",
       "<style scoped>\n",
       "    .dataframe tbody tr th:only-of-type {\n",
       "        vertical-align: middle;\n",
       "    }\n",
       "\n",
       "    .dataframe tbody tr th {\n",
       "        vertical-align: top;\n",
       "    }\n",
       "\n",
       "    .dataframe thead th {\n",
       "        text-align: right;\n",
       "    }\n",
       "</style>\n",
       "<table border=\"1\" class=\"dataframe\">\n",
       "  <thead>\n",
       "    <tr style=\"text-align: right;\">\n",
       "      <th></th>\n",
       "      <th>id</th>\n",
       "      <th>time</th>\n",
       "      <th>location</th>\n",
       "      <th>latitude</th>\n",
       "      <th>longitude</th>\n",
       "      <th>depth</th>\n",
       "      <th>magnitude</th>\n",
       "      <th>alert</th>\n",
       "      <th>url</th>\n",
       "      <th>eventtype</th>\n",
       "      <th>significance</th>\n",
       "    </tr>\n",
       "  </thead>\n",
       "  <tbody>\n",
       "    <tr>\n",
       "      <th>9</th>\n",
       "      <td>nc73827571</td>\n",
       "      <td>2023-01-01 18:35:04.510</td>\n",
       "      <td>15km SE of Rio Dell, CA</td>\n",
       "      <td>40.409000</td>\n",
       "      <td>-123.971000</td>\n",
       "      <td>30.630</td>\n",
       "      <td>5.35</td>\n",
       "      <td>yellow</td>\n",
       "      <td>https://earthquake.usgs.gov/earthquakes/eventp...</td>\n",
       "      <td>earthquake</td>\n",
       "      <td>1352</td>\n",
       "    </tr>\n",
       "    <tr>\n",
       "      <th>8</th>\n",
       "      <td>nc73821046</td>\n",
       "      <td>2022-12-20 10:39:02.360</td>\n",
       "      <td>7km WNW of Rio Dell, CA</td>\n",
       "      <td>40.522833</td>\n",
       "      <td>-124.188167</td>\n",
       "      <td>26.550</td>\n",
       "      <td>4.92</td>\n",
       "      <td>green</td>\n",
       "      <td>https://earthquake.usgs.gov/earthquakes/eventp...</td>\n",
       "      <td>earthquake</td>\n",
       "      <td>458</td>\n",
       "    </tr>\n",
       "    <tr>\n",
       "      <th>7</th>\n",
       "      <td>nc73821036</td>\n",
       "      <td>2022-12-20 10:34:24.770</td>\n",
       "      <td>15km WSW of Ferndale, CA</td>\n",
       "      <td>40.525000</td>\n",
       "      <td>-124.423000</td>\n",
       "      <td>17.910</td>\n",
       "      <td>6.40</td>\n",
       "      <td>orange</td>\n",
       "      <td>https://earthquake.usgs.gov/earthquakes/eventp...</td>\n",
       "      <td>earthquake</td>\n",
       "      <td>1780</td>\n",
       "    </tr>\n",
       "    <tr>\n",
       "      <th>6</th>\n",
       "      <td>us6000j8c6</td>\n",
       "      <td>2022-12-10 03:17:30.125</td>\n",
       "      <td>257 km W of Ferndale, California</td>\n",
       "      <td>40.622100</td>\n",
       "      <td>-127.305900</td>\n",
       "      <td>11.051</td>\n",
       "      <td>4.90</td>\n",
       "      <td>None</td>\n",
       "      <td>https://earthquake.usgs.gov/earthquakes/eventp...</td>\n",
       "      <td>earthquake</td>\n",
       "      <td>372</td>\n",
       "    </tr>\n",
       "    <tr>\n",
       "      <th>5</th>\n",
       "      <td>us7000ishe</td>\n",
       "      <td>2022-11-26 03:50:17.526</td>\n",
       "      <td>18 km NW of Tofino, Canada</td>\n",
       "      <td>49.271400</td>\n",
       "      <td>-126.092300</td>\n",
       "      <td>33.380</td>\n",
       "      <td>4.90</td>\n",
       "      <td>None</td>\n",
       "      <td>https://earthquake.usgs.gov/earthquakes/eventp...</td>\n",
       "      <td>earthquake</td>\n",
       "      <td>527</td>\n",
       "    </tr>\n",
       "    <tr>\n",
       "      <th>4</th>\n",
       "      <td>us7000irbr</td>\n",
       "      <td>2022-11-21 15:42:33.590</td>\n",
       "      <td>None</td>\n",
       "      <td>43.487400</td>\n",
       "      <td>-127.338200</td>\n",
       "      <td>10.000</td>\n",
       "      <td>5.20</td>\n",
       "      <td>None</td>\n",
       "      <td>https://earthquake.usgs.gov/earthquakes/eventp...</td>\n",
       "      <td>earthquake</td>\n",
       "      <td>429</td>\n",
       "    </tr>\n",
       "    <tr>\n",
       "      <th>3</th>\n",
       "      <td>us7000hhik</td>\n",
       "      <td>2022-06-15 11:56:33.191</td>\n",
       "      <td>off the coast of Oregon</td>\n",
       "      <td>44.538100</td>\n",
       "      <td>-130.112400</td>\n",
       "      <td>10.000</td>\n",
       "      <td>5.60</td>\n",
       "      <td>green</td>\n",
       "      <td>https://earthquake.usgs.gov/earthquakes/eventp...</td>\n",
       "      <td>earthquake</td>\n",
       "      <td>487</td>\n",
       "    </tr>\n",
       "    <tr>\n",
       "      <th>2</th>\n",
       "      <td>us7000hf29</td>\n",
       "      <td>2022-06-04 23:59:10.007</td>\n",
       "      <td>Haida Gwaii Region, Canada</td>\n",
       "      <td>51.613700</td>\n",
       "      <td>-131.402700</td>\n",
       "      <td>6.610</td>\n",
       "      <td>5.10</td>\n",
       "      <td>None</td>\n",
       "      <td>https://earthquake.usgs.gov/earthquakes/eventp...</td>\n",
       "      <td>earthquake</td>\n",
       "      <td>401</td>\n",
       "    </tr>\n",
       "    <tr>\n",
       "      <th>1</th>\n",
       "      <td>us6000hfx7</td>\n",
       "      <td>2022-04-23 21:22:47.948</td>\n",
       "      <td>185 km W of Port McNeill, Canada</td>\n",
       "      <td>50.472500</td>\n",
       "      <td>-129.689500</td>\n",
       "      <td>10.000</td>\n",
       "      <td>5.30</td>\n",
       "      <td>None</td>\n",
       "      <td>https://earthquake.usgs.gov/earthquakes/eventp...</td>\n",
       "      <td>earthquake</td>\n",
       "      <td>435</td>\n",
       "    </tr>\n",
       "    <tr>\n",
       "      <th>0</th>\n",
       "      <td>us7000gxl1</td>\n",
       "      <td>2022-03-27 01:12:22.059</td>\n",
       "      <td>off the coast of Oregon</td>\n",
       "      <td>44.122900</td>\n",
       "      <td>-129.438500</td>\n",
       "      <td>10.000</td>\n",
       "      <td>5.10</td>\n",
       "      <td>None</td>\n",
       "      <td>https://earthquake.usgs.gov/earthquakes/eventp...</td>\n",
       "      <td>earthquake</td>\n",
       "      <td>404</td>\n",
       "    </tr>\n",
       "  </tbody>\n",
       "</table>\n",
       "</div>"
      ],
      "text/plain": [
       "           id                    time                          location  \\\n",
       "9  nc73827571 2023-01-01 18:35:04.510           15km SE of Rio Dell, CA   \n",
       "8  nc73821046 2022-12-20 10:39:02.360           7km WNW of Rio Dell, CA   \n",
       "7  nc73821036 2022-12-20 10:34:24.770          15km WSW of Ferndale, CA   \n",
       "6  us6000j8c6 2022-12-10 03:17:30.125  257 km W of Ferndale, California   \n",
       "5  us7000ishe 2022-11-26 03:50:17.526        18 km NW of Tofino, Canada   \n",
       "4  us7000irbr 2022-11-21 15:42:33.590                              None   \n",
       "3  us7000hhik 2022-06-15 11:56:33.191           off the coast of Oregon   \n",
       "2  us7000hf29 2022-06-04 23:59:10.007        Haida Gwaii Region, Canada   \n",
       "1  us6000hfx7 2022-04-23 21:22:47.948  185 km W of Port McNeill, Canada   \n",
       "0  us7000gxl1 2022-03-27 01:12:22.059           off the coast of Oregon   \n",
       "\n",
       "    latitude   longitude   depth  magnitude   alert  \\\n",
       "9  40.409000 -123.971000  30.630       5.35  yellow   \n",
       "8  40.522833 -124.188167  26.550       4.92   green   \n",
       "7  40.525000 -124.423000  17.910       6.40  orange   \n",
       "6  40.622100 -127.305900  11.051       4.90    None   \n",
       "5  49.271400 -126.092300  33.380       4.90    None   \n",
       "4  43.487400 -127.338200  10.000       5.20    None   \n",
       "3  44.538100 -130.112400  10.000       5.60   green   \n",
       "2  51.613700 -131.402700   6.610       5.10    None   \n",
       "1  50.472500 -129.689500  10.000       5.30    None   \n",
       "0  44.122900 -129.438500  10.000       5.10    None   \n",
       "\n",
       "                                                 url   eventtype  significance  \n",
       "9  https://earthquake.usgs.gov/earthquakes/eventp...  earthquake          1352  \n",
       "8  https://earthquake.usgs.gov/earthquakes/eventp...  earthquake           458  \n",
       "7  https://earthquake.usgs.gov/earthquakes/eventp...  earthquake          1780  \n",
       "6  https://earthquake.usgs.gov/earthquakes/eventp...  earthquake           372  \n",
       "5  https://earthquake.usgs.gov/earthquakes/eventp...  earthquake           527  \n",
       "4  https://earthquake.usgs.gov/earthquakes/eventp...  earthquake           429  \n",
       "3  https://earthquake.usgs.gov/earthquakes/eventp...  earthquake           487  \n",
       "2  https://earthquake.usgs.gov/earthquakes/eventp...  earthquake           401  \n",
       "1  https://earthquake.usgs.gov/earthquakes/eventp...  earthquake           435  \n",
       "0  https://earthquake.usgs.gov/earthquakes/eventp...  earthquake           404  "
      ]
     },
     "execution_count": 3,
     "metadata": {},
     "output_type": "execute_result"
    }
   ],
   "source": [
    "event_df = get_summary_data_frame(events)\n",
    "event_df = event_df.sort_values(by=['time'],ascending=False)\n",
    "event_df\n",
    "\n",
    "\n",
    "\n",
    "\n",
    "#event_df.iloc[0::]"
   ]
  },
  {
   "cell_type": "code",
   "execution_count": 4,
   "id": "edfcad98",
   "metadata": {},
   "outputs": [],
   "source": [
    "dist_kmarray = []\n",
    "magnituddarray = []\n",
    "thisid = []\n",
    "PGM = []\n",
    "PGA1 = []\n",
    "PGA2 = []\n",
    "PGA3 = []\n",
    "PGV = []"
   ]
  },
  {
   "cell_type": "code",
   "execution_count": 5,
   "id": "b66d2be4",
   "metadata": {},
   "outputs": [
    {
     "name": "stdout",
     "output_type": "stream",
     "text": [
      "nc73827571\n",
      "nc73821046\n",
      "nc73821036\n",
      "us6000j8c6\n",
      "us7000irbr\n",
      "us7000hhik\n",
      "us7000hf29\n",
      "us6000hfx7\n",
      "us7000gxl1\n"
     ]
    }
   ],
   "source": [
    "for index,this_event in event_df.iterrows():\n",
    "    \n",
    "    this_id = this_event['id']\n",
    "    \n",
    "    this_event_new = event_df[event_df.id==this_id]\n",
    "    \n",
    "    latitude_loc = this_event_new['latitude']\n",
    "    longitude_loc = this_event_new['longitude']\n",
    "    latitude_ref = 47.60\n",
    "    longitude_ref = -122.33\n",
    "    \n",
    "    coords_1 = (this_event_new.latitude.to_numpy()[0], this_event_new.longitude.to_numpy()[0])\n",
    "    coords_2 = (47.6531, -122.3079)\n",
    "    dist_km = geopy.distance.geodesic(coords_1, coords_2).km\n",
    "    \n",
    "    #distance = haversine(longitude_loc,latitude_loc,longitude_ref,latitude_ref)\n",
    "    #print(distance)\n",
    "    \n",
    "    if  dist_km  <500:#if when I want to avoid the previus datas\n",
    "           continue\n",
    "    magnituddarray.append(this_event_new['magnitude'].to_numpy()[0])\n",
    "    #distance = haversine(longitude_loc,latitude_loc,longitude_ref,latitude_ref)\n",
    "    thisid.append(this_id)\n",
    "    dist_kmarray.append(dist_km)\n",
    "    #if distance < 500:\n",
    "    #    continue\n",
    "    \n",
    "    print(this_event['id'])\n",
    "    \n",
    "    stitle=f\"M {this_event_new['magnitude'].to_numpy()[0]}, \"\\\n",
    "           f\"{this_event_new['location'].to_numpy()[0]}, \"\\\n",
    "           f\"{str(this_event_new['time'].to_numpy()[0])[0:-10]} UTC\"\n",
    "      \n",
    "\n",
    "    record_length = 20 #minutes\n",
    "    t0 = this_event_new['time'].iloc[0]\n",
    "    \n",
    "    low_cut = 2\n",
    "    hi_cut = 10\n",
    "\n",
    "    try:\n",
    "        client = Client(\"IRIS\")\n",
    "\n",
    "        t1 = UTCDateTime( t0.strftime(\"%Y-%m-%dT%H:%M:%S\") )\n",
    "        dt = datetime.timedelta(minutes=record_length)\n",
    "        t2 = UTCDateTime( (t0+dt).strftime(\"%Y-%m-%dT%H:%M:%S\") )\n",
    "        \n",
    "        \n",
    "        pre_filt = (low_cut/2, low_cut, hi_cut, hi_cut*2)\n",
    "        st = client.get_waveforms(\"UW\", \"PRIN\", \"--\", \"HHZ\", t1, t2, attach_response=True)\n",
    "         #st.decimate(5, strict_length=False, no_filter=False) #everything should be at 40Hz now\n",
    "        st2 = client.get_waveforms(\"UW\", \"SALO\", \"--\", \"HHZ\", t1, t2, attach_response=True)\n",
    "        st3 = client.get_waveforms(\"UW\", \"CHIMA\", \"--\", \"HHZ\", t1, t2, attach_response=True)\n",
    "\n",
    "        \n",
    "        st.remove_response(output='ACC', pre_filt=pre_filt)\n",
    "        st2.remove_response(output='ACC', pre_filt=pre_filt)\n",
    "        st3.remove_response(output='ACC', pre_filt=pre_filt)\n",
    "            \n",
    "        peak_ground_acceleration1 = np.max(np.abs(st[0].data))\n",
    "        peak_ground_acceleration2 = np.max(np.abs(st2[0].data))\n",
    "        peak_ground_acceleration3 = np.max(np.abs(st3[0].data))\n",
    "        PGA1.append(peak_ground_acceleration1)\n",
    "        PGA2.append(peak_ground_acceleration2)\n",
    "        PGA3.append(peak_ground_acceleration3)\n",
    "            \n",
    "\n",
    "        \n",
    "    except ValueError:\n",
    "        continue\n",
    "\n"
   ]
  },
  {
   "cell_type": "code",
   "execution_count": 6,
   "id": "efe8bc91",
   "metadata": {},
   "outputs": [
    {
     "data": {
      "text/plain": [
       "['nc73827571',\n",
       " 'nc73821046',\n",
       " 'nc73821036',\n",
       " 'us6000j8c6',\n",
       " 'us7000irbr',\n",
       " 'us7000hhik',\n",
       " 'us7000hf29',\n",
       " 'us6000hfx7',\n",
       " 'us7000gxl1']"
      ]
     },
     "execution_count": 6,
     "metadata": {},
     "output_type": "execute_result"
    }
   ],
   "source": [
    "#magnituddarray\n",
    "#magnituddarray\n",
    "\n",
    "thisid\n",
    " \n",
    "#magnituddarray\n",
    "\n",
    "\n",
    "#dist_kmarray"
   ]
  },
  {
   "cell_type": "code",
   "execution_count": 7,
   "id": "c052799b",
   "metadata": {},
   "outputs": [
    {
     "data": {
      "text/plain": [
       "[0.00014676529735211681,\n",
       " 2.7106757665263124e-05,\n",
       " 0.00023702993147022315,\n",
       " 9.77407274406583e-05,\n",
       " 0.00017966388144438243,\n",
       " 0.0006131192043852006,\n",
       " 0.0004012931679924587,\n",
       " 0.0007624033781606861,\n",
       " 0.0002063824559199374]"
      ]
     },
     "execution_count": 7,
     "metadata": {},
     "output_type": "execute_result"
    }
   ],
   "source": [
    "PGA1\n"
   ]
  },
  {
   "cell_type": "code",
   "execution_count": 8,
   "id": "eb72e139",
   "metadata": {},
   "outputs": [
    {
     "data": {
      "text/plain": [
       "[3.819134612851734e-05,\n",
       " 1.0589585117774427e-05,\n",
       " 8.16650915703709e-05,\n",
       " 1.8484399729369492e-05,\n",
       " 4.440762963135678e-05,\n",
       " 9.502901031707749e-05,\n",
       " 2.05268894708674e-05,\n",
       " 6.755943488887679e-05,\n",
       " 0.00014664570784810678]"
      ]
     },
     "execution_count": 8,
     "metadata": {},
     "output_type": "execute_result"
    }
   ],
   "source": [
    "PGA2"
   ]
  },
  {
   "cell_type": "code",
   "execution_count": 9,
   "id": "0e158392",
   "metadata": {},
   "outputs": [
    {
     "data": {
      "text/plain": [
       "[9.570643212228681e-05,\n",
       " 0.00010130136613706426,\n",
       " 8.916017693616317e-05,\n",
       " 0.00011200735759414025,\n",
       " 0.0004884158404919962,\n",
       " 0.0002524939063825508,\n",
       " 0.0003597719869457546,\n",
       " 0.0001791568354482955,\n",
       " 0.00010524552643150822]"
      ]
     },
     "execution_count": 9,
     "metadata": {},
     "output_type": "execute_result"
    }
   ],
   "source": [
    "PGA3"
   ]
  },
  {
   "cell_type": "code",
   "execution_count": 10,
   "id": "b39a4b42",
   "metadata": {},
   "outputs": [
    {
     "data": {
      "image/png": "[encoded data removed]",
      "text/plain": [
       "<Figure size 640x480 with 1 Axes>"
      ]
     },
     "metadata": {},
     "output_type": "display_data"
    }
   ],
   "source": [
    "data1 = pd.DataFrame({'Event ID': thisid, 'PGA': PGA1})\n",
    "data1.set_index('Event ID', inplace=True)\n",
    "data1 = data1.sort_values('PGA', ascending=True)\n",
    "data1.plot.bar(legend=True)\n",
    "#plt.xlabel('Event ID')\n",
    "plt.ylabel('PGA')\n",
    "plt.title('Histogram of PGA by Event ID')\n",
    "plt.xticks(rotation='vertical')\n",
    "plt.tight_layout()\n",
    "\n",
    "plt.show()"
   ]
  },
  {
   "cell_type": "code",
   "execution_count": 11,
   "id": "d887e415",
   "metadata": {},
   "outputs": [
    {
     "data": {
      "image/png": "[encoded data removed]",
      "text/plain": [
       "<Figure size 640x480 with 1 Axes>"
      ]
     },
     "metadata": {},
     "output_type": "display_data"
    }
   ],
   "source": [
    "data2 = pd.DataFrame({'Event ID': thisid, 'PGA': PGA2})\n",
    "data2.set_index('Event ID', inplace=True)\n",
    "data2 = data2.sort_values('PGA', ascending=True)\n",
    "data2.plot.bar(legend=True)\n",
    "#plt.xlabel('Event ID')\n",
    "plt.ylabel('PGA')\n",
    "plt.title('Histogram of PGA by Event ID')\n",
    "plt.xticks(rotation='vertical')\n",
    "plt.tight_layout()\n",
    "\n",
    "plt.show()"
   ]
  },
  {
   "cell_type": "code",
   "execution_count": 12,
   "id": "f5c333dd",
   "metadata": {},
   "outputs": [
    {
     "data": {
      "image/png": "[encoded data removed]",
      "text/plain": [
       "<Figure size 640x480 with 1 Axes>"
      ]
     },
     "metadata": {},
     "output_type": "display_data"
    }
   ],
   "source": [
    "data3 = pd.DataFrame({'Event ID': thisid, 'PGA': PGA3})\n",
    "data3.set_index('Event ID', inplace=True)\n",
    "data3 = data3.sort_values('PGA', ascending=True)\n",
    "data1.plot.bar(legend=True)\n",
    "#plt.xlabel('Event ID')\n",
    "plt.ylabel('PGA')\n",
    "plt.title('Histogram of PGA by Event ID')\n",
    "plt.xticks(rotation='vertical')\n",
    "plt.tight_layout()\n",
    "\n",
    "plt.show()"
   ]
  },
  {
   "cell_type": "markdown",
   "id": "b197ec65",
   "metadata": {},
   "source": [
    "# Testing waveforms\n"
   ]
  },
  {
   "cell_type": "code",
   "execution_count": 13,
   "id": "619cc308",
   "metadata": {},
   "outputs": [],
   "source": [
    "#st2 = client.get_waveforms(\"IU\", \"COR\", \"00\", \"HH1\", t1, t2, attach_response=True)\n",
    "#st2.remove_response(output='VEL', pre_filt=pre_filt).max\n",
    "#st2.remove_response(output='ACC', pre_filt=pre_filt)\n",
    "#peak_ground_acceleration2 = np.max(np.abs(st2[0].data))\n",
    "#st2.plot() "
   ]
  },
  {
   "cell_type": "code",
   "execution_count": 14,
   "id": "1c1dcaec",
   "metadata": {},
   "outputs": [
    {
     "data": {
      "text/html": [
       "<div>\n",
       "<style scoped>\n",
       "    .dataframe tbody tr th:only-of-type {\n",
       "        vertical-align: middle;\n",
       "    }\n",
       "\n",
       "    .dataframe tbody tr th {\n",
       "        vertical-align: top;\n",
       "    }\n",
       "\n",
       "    .dataframe thead th {\n",
       "        text-align: right;\n",
       "    }\n",
       "</style>\n",
       "<table border=\"1\" class=\"dataframe\">\n",
       "  <thead>\n",
       "    <tr style=\"text-align: right;\">\n",
       "      <th></th>\n",
       "      <th>Magnitud</th>\n",
       "      <th>id_event</th>\n",
       "      <th>Location</th>\n",
       "      <th>detect_seismO</th>\n",
       "      <th>detect_das</th>\n",
       "      <th>clipped</th>\n",
       "      <th>channels</th>\n",
       "      <th>PGA(SALO)</th>\n",
       "    </tr>\n",
       "  </thead>\n",
       "  <tbody>\n",
       "    <tr>\n",
       "      <th>0</th>\n",
       "      <td>5.35</td>\n",
       "      <td>nc73827571</td>\n",
       "      <td>815.823922</td>\n",
       "      <td>NaN</td>\n",
       "      <td>TRUE</td>\n",
       "      <td>TRUE</td>\n",
       "      <td>NaN</td>\n",
       "      <td>3.82E-05</td>\n",
       "    </tr>\n",
       "    <tr>\n",
       "      <th>1</th>\n",
       "      <td>4.92</td>\n",
       "      <td>nc73821046</td>\n",
       "      <td>806.386428</td>\n",
       "      <td>NaN</td>\n",
       "      <td>TRUE</td>\n",
       "      <td>TRUE</td>\n",
       "      <td>NaN</td>\n",
       "      <td>1.06E-05</td>\n",
       "    </tr>\n",
       "    <tr>\n",
       "      <th>2</th>\n",
       "      <td>4.90</td>\n",
       "      <td>us6000j8c6</td>\n",
       "      <td>877.203601</td>\n",
       "      <td>NaN</td>\n",
       "      <td>FALSE</td>\n",
       "      <td>FALSE</td>\n",
       "      <td>NaN</td>\n",
       "      <td>1.85E-05</td>\n",
       "    </tr>\n",
       "    <tr>\n",
       "      <th>3</th>\n",
       "      <td>5.20</td>\n",
       "      <td>us7000irbr</td>\n",
       "      <td>606.808105</td>\n",
       "      <td>NaN</td>\n",
       "      <td>TRUE</td>\n",
       "      <td>TRUE</td>\n",
       "      <td>NaN</td>\n",
       "      <td>4.44E-05</td>\n",
       "    </tr>\n",
       "    <tr>\n",
       "      <th>4</th>\n",
       "      <td>5.60</td>\n",
       "      <td>us7000hhik</td>\n",
       "      <td>695.303477</td>\n",
       "      <td>NaN</td>\n",
       "      <td>norecord</td>\n",
       "      <td>FALSE</td>\n",
       "      <td>NaN</td>\n",
       "      <td>norecord</td>\n",
       "    </tr>\n",
       "    <tr>\n",
       "      <th>5</th>\n",
       "      <td>5.10</td>\n",
       "      <td>us7000hf29</td>\n",
       "      <td>790.117236</td>\n",
       "      <td>NaN</td>\n",
       "      <td>TRUE</td>\n",
       "      <td>FALSE</td>\n",
       "      <td>NaN</td>\n",
       "      <td>2.05E-05</td>\n",
       "    </tr>\n",
       "    <tr>\n",
       "      <th>6</th>\n",
       "      <td>5.30</td>\n",
       "      <td>us6000hfx7</td>\n",
       "      <td>623.530865</td>\n",
       "      <td>NaN</td>\n",
       "      <td>norecord</td>\n",
       "      <td>FALSE</td>\n",
       "      <td>NaN</td>\n",
       "      <td>norecord</td>\n",
       "    </tr>\n",
       "    <tr>\n",
       "      <th>7</th>\n",
       "      <td>5.10</td>\n",
       "      <td>us7000gxl1</td>\n",
       "      <td>677.999050</td>\n",
       "      <td>NaN</td>\n",
       "      <td>TRUE</td>\n",
       "      <td>FALSE</td>\n",
       "      <td>NaN</td>\n",
       "      <td>1.47E-04</td>\n",
       "    </tr>\n",
       "    <tr>\n",
       "      <th>8</th>\n",
       "      <td>6.40</td>\n",
       "      <td>nc73821036</td>\n",
       "      <td>809.854647</td>\n",
       "      <td>NaN</td>\n",
       "      <td>TRUE</td>\n",
       "      <td>TRUE</td>\n",
       "      <td>NaN</td>\n",
       "      <td>8.17E-05</td>\n",
       "    </tr>\n",
       "  </tbody>\n",
       "</table>\n",
       "</div>"
      ],
      "text/plain": [
       "   Magnitud    id_event    Location  detect_seismO detect_das     clipped  \\\n",
       "0      5.35  nc73827571  815.823922            NaN       TRUE        TRUE   \n",
       "1      4.92  nc73821046  806.386428            NaN       TRUE        TRUE   \n",
       "2      4.90  us6000j8c6  877.203601            NaN      FALSE       FALSE   \n",
       "3      5.20  us7000irbr  606.808105            NaN       TRUE        TRUE   \n",
       "4      5.60  us7000hhik  695.303477            NaN   norecord       FALSE   \n",
       "5      5.10  us7000hf29  790.117236            NaN       TRUE       FALSE   \n",
       "6      5.30  us6000hfx7  623.530865            NaN   norecord       FALSE   \n",
       "7      5.10  us7000gxl1  677.999050            NaN       TRUE       FALSE   \n",
       "8      6.40  nc73821036  809.854647            NaN       TRUE        TRUE   \n",
       "\n",
       "   channels PGA(SALO)  \n",
       "0       NaN  3.82E-05  \n",
       "1       NaN  1.06E-05  \n",
       "2       NaN  1.85E-05  \n",
       "3       NaN  4.44E-05  \n",
       "4       NaN  norecord  \n",
       "5       NaN  2.05E-05  \n",
       "6       NaN  norecord  \n",
       "7       NaN  1.47E-04  \n",
       "8       NaN  8.17E-05  "
      ]
     },
     "execution_count": 14,
     "metadata": {},
     "output_type": "execute_result"
    }
   ],
   "source": [
    "clip = pd.read_csv('Clippedanalisis3.csv')\n",
    "clip"
   ]
  },
  {
   "cell_type": "code",
   "execution_count": null,
   "id": "1c9ed2a7",
   "metadata": {},
   "outputs": [],
   "source": []
  }
 ],
 "metadata": {
  "kernelspec": {
   "display_name": "Python (Obspy+LibComtCat)",
   "language": "python",
   "name": "python-obspy"
  },
  "language_info": {
   "codemirror_mode": {
    "name": "ipython",
    "version": 3
   },
   "file_extension": ".py",
   "mimetype": "text/x-python",
   "name": "python",
   "nbconvert_exporter": "python",
   "pygments_lexer": "ipython3",
   "version": "3.9.13"
  }
 },
 "nbformat": 4,
 "nbformat_minor": 5
}
