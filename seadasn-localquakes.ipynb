{
 "cells": [
  {
   "cell_type": "markdown",
   "id": "1ae5dd46",
   "metadata": {},
   "source": [
    "# Earthquake seismology with DAS\n",
    "\n",
    "#### Todo List:\n",
    "1. Reference earthquakes by Evid rather than dataframe index\n",
    "2. Make a map of all of the detected events\n",
    "3. Try some xcorr\n",
    "4. Find something for JM to do"
   ]
  },
  {
   "cell_type": "code",
   "execution_count": 1,
   "id": "dfe2c7f7",
   "metadata": {},
   "outputs": [],
   "source": [
    "import h5py\n",
    "import matplotlib.pyplot as plt\n",
    "from scipy.signal import butter, filtfilt\n",
    "import numpy as np\n",
    "import datetime\n",
    "import pandas as pd\n",
    "from dasquakes import sintela_to_datetime, open_sintela_file, get_file_number, local_earthquake_quicklook\n",
    "import obspy\n",
    "from obspy import UTCDateTime\n",
    "from obspy.clients.fdsn import Client\n",
    "from libcomcat.search import search\n",
    "from libcomcat.dataframes import get_summary_data_frame\n",
    "from obspy.signal.trigger import classic_sta_lta\n",
    "from obspy.signal.trigger import plot_trigger\n",
    "import scipy\n",
    "from scipy.fft import fft, ifft"
   ]
  },
  {
   "cell_type": "markdown",
   "id": "f1de69b8",
   "metadata": {},
   "source": [
    "### Get a list of events from USGS"
   ]
  },
  {
   "cell_type": "code",
   "execution_count": 4,
   "id": "4554abf7",
   "metadata": {},
   "outputs": [
    {
     "name": "stdout",
     "output_type": "stream",
     "text": [
      "Returned 165 events\n"
     ]
    }
   ],
   "source": [
    "events = search(starttime = datetime.datetime(2022, 3, 17, 0, 0), \n",
    "                endtime   = datetime.datetime.now(),\n",
    "                maxradiuskm=50, \n",
    "                latitude=47.60, \n",
    "                longitude=-122.33)\n",
    "\n",
    "print(\"Returned %s events\" % len(events))"
   ]
  },
  {
   "cell_type": "code",
   "execution_count": 6,
   "id": "452b092e",
   "metadata": {},
   "outputs": [
    {
     "data": {
      "text/html": [
       "<div>\n",
       "<style scoped>\n",
       "    .dataframe tbody tr th:only-of-type {\n",
       "        vertical-align: middle;\n",
       "    }\n",
       "\n",
       "    .dataframe tbody tr th {\n",
       "        vertical-align: top;\n",
       "    }\n",
       "\n",
       "    .dataframe thead th {\n",
       "        text-align: right;\n",
       "    }\n",
       "</style>\n",
       "<table border=\"1\" class=\"dataframe\">\n",
       "  <thead>\n",
       "    <tr style=\"text-align: right;\">\n",
       "      <th></th>\n",
       "      <th>id</th>\n",
       "      <th>time</th>\n",
       "      <th>location</th>\n",
       "      <th>latitude</th>\n",
       "      <th>longitude</th>\n",
       "      <th>depth</th>\n",
       "      <th>magnitude</th>\n",
       "      <th>alert</th>\n",
       "      <th>url</th>\n",
       "      <th>eventtype</th>\n",
       "      <th>significance</th>\n",
       "    </tr>\n",
       "  </thead>\n",
       "  <tbody>\n",
       "    <tr>\n",
       "      <th>116</th>\n",
       "      <td>uw61869652</td>\n",
       "      <td>2022-09-08 08:08:25.830</td>\n",
       "      <td>7 km WNW of Lofall, Washington</td>\n",
       "      <td>47.842000</td>\n",
       "      <td>-122.751667</td>\n",
       "      <td>23.33</td>\n",
       "      <td>3.71</td>\n",
       "      <td>None</td>\n",
       "      <td>https://earthquake.usgs.gov/earthquakes/eventp...</td>\n",
       "      <td>earthquake</td>\n",
       "      <td>592</td>\n",
       "    </tr>\n",
       "    <tr>\n",
       "      <th>93</th>\n",
       "      <td>uw61860022</td>\n",
       "      <td>2022-08-04 13:22:39.400</td>\n",
       "      <td>6 km SSE of Black Diamond, Washington</td>\n",
       "      <td>47.258667</td>\n",
       "      <td>-121.971833</td>\n",
       "      <td>21.54</td>\n",
       "      <td>3.06</td>\n",
       "      <td>None</td>\n",
       "      <td>https://earthquake.usgs.gov/earthquakes/eventp...</td>\n",
       "      <td>earthquake</td>\n",
       "      <td>250</td>\n",
       "    </tr>\n",
       "    <tr>\n",
       "      <th>73</th>\n",
       "      <td>uw61847792</td>\n",
       "      <td>2022-06-30 03:33:04.140</td>\n",
       "      <td>3 km W of Hansville, Washington</td>\n",
       "      <td>47.922833</td>\n",
       "      <td>-122.606000</td>\n",
       "      <td>19.72</td>\n",
       "      <td>2.46</td>\n",
       "      <td>None</td>\n",
       "      <td>https://earthquake.usgs.gov/earthquakes/eventp...</td>\n",
       "      <td>earthquake</td>\n",
       "      <td>93</td>\n",
       "    </tr>\n",
       "    <tr>\n",
       "      <th>62</th>\n",
       "      <td>uw61846087</td>\n",
       "      <td>2022-06-25 13:08:29.130</td>\n",
       "      <td>0 km ENE of Enetai, Washington</td>\n",
       "      <td>47.586167</td>\n",
       "      <td>-122.592000</td>\n",
       "      <td>25.60</td>\n",
       "      <td>2.40</td>\n",
       "      <td>None</td>\n",
       "      <td>https://earthquake.usgs.gov/earthquakes/eventp...</td>\n",
       "      <td>earthquake</td>\n",
       "      <td>89</td>\n",
       "    </tr>\n",
       "    <tr>\n",
       "      <th>28</th>\n",
       "      <td>uw61834816</td>\n",
       "      <td>2022-04-28 03:48:34.590</td>\n",
       "      <td>7 km ENE of Fall City, Washington</td>\n",
       "      <td>47.603000</td>\n",
       "      <td>-121.805333</td>\n",
       "      <td>16.29</td>\n",
       "      <td>2.35</td>\n",
       "      <td>None</td>\n",
       "      <td>https://earthquake.usgs.gov/earthquakes/eventp...</td>\n",
       "      <td>earthquake</td>\n",
       "      <td>90</td>\n",
       "    </tr>\n",
       "  </tbody>\n",
       "</table>\n",
       "</div>"
      ],
      "text/plain": [
       "             id                    time  \\\n",
       "116  uw61869652 2022-09-08 08:08:25.830   \n",
       "93   uw61860022 2022-08-04 13:22:39.400   \n",
       "73   uw61847792 2022-06-30 03:33:04.140   \n",
       "62   uw61846087 2022-06-25 13:08:29.130   \n",
       "28   uw61834816 2022-04-28 03:48:34.590   \n",
       "\n",
       "                                  location   latitude   longitude  depth  \\\n",
       "116         7 km WNW of Lofall, Washington  47.842000 -122.751667  23.33   \n",
       "93   6 km SSE of Black Diamond, Washington  47.258667 -121.971833  21.54   \n",
       "73         3 km W of Hansville, Washington  47.922833 -122.606000  19.72   \n",
       "62          0 km ENE of Enetai, Washington  47.586167 -122.592000  25.60   \n",
       "28       7 km ENE of Fall City, Washington  47.603000 -121.805333  16.29   \n",
       "\n",
       "     magnitude alert                                                url  \\\n",
       "116       3.71  None  https://earthquake.usgs.gov/earthquakes/eventp...   \n",
       "93        3.06  None  https://earthquake.usgs.gov/earthquakes/eventp...   \n",
       "73        2.46  None  https://earthquake.usgs.gov/earthquakes/eventp...   \n",
       "62        2.40  None  https://earthquake.usgs.gov/earthquakes/eventp...   \n",
       "28        2.35  None  https://earthquake.usgs.gov/earthquakes/eventp...   \n",
       "\n",
       "      eventtype  significance  \n",
       "116  earthquake           592  \n",
       "93   earthquake           250  \n",
       "73   earthquake            93  \n",
       "62   earthquake            89  \n",
       "28   earthquake            90  "
      ]
     },
     "execution_count": 6,
     "metadata": {},
     "output_type": "execute_result"
    }
   ],
   "source": [
    "event_df = get_summary_data_frame(events)\n",
    "event_df = event_df.sort_values(by=['magnitude'],ascending=False)\n",
    "event_df.iloc[0:5]"
   ]
  },
  {
   "cell_type": "markdown",
   "id": "b51522ec",
   "metadata": {},
   "source": [
    "### Choose an event to analyze"
   ]
  },
  {
   "cell_type": "code",
   "execution_count": 7,
   "id": "204d4c0e",
   "metadata": {},
   "outputs": [
    {
     "data": {
      "text/html": [
       "<div>\n",
       "<style scoped>\n",
       "    .dataframe tbody tr th:only-of-type {\n",
       "        vertical-align: middle;\n",
       "    }\n",
       "\n",
       "    .dataframe tbody tr th {\n",
       "        vertical-align: top;\n",
       "    }\n",
       "\n",
       "    .dataframe thead th {\n",
       "        text-align: right;\n",
       "    }\n",
       "</style>\n",
       "<table border=\"1\" class=\"dataframe\">\n",
       "  <thead>\n",
       "    <tr style=\"text-align: right;\">\n",
       "      <th></th>\n",
       "      <th>id</th>\n",
       "      <th>time</th>\n",
       "      <th>location</th>\n",
       "      <th>latitude</th>\n",
       "      <th>longitude</th>\n",
       "      <th>depth</th>\n",
       "      <th>magnitude</th>\n",
       "      <th>alert</th>\n",
       "      <th>url</th>\n",
       "      <th>eventtype</th>\n",
       "      <th>significance</th>\n",
       "    </tr>\n",
       "  </thead>\n",
       "  <tbody>\n",
       "    <tr>\n",
       "      <th>62</th>\n",
       "      <td>uw61846087</td>\n",
       "      <td>2022-06-25 13:08:29.130</td>\n",
       "      <td>0 km ENE of Enetai, Washington</td>\n",
       "      <td>47.586167</td>\n",
       "      <td>-122.592</td>\n",
       "      <td>25.6</td>\n",
       "      <td>2.4</td>\n",
       "      <td>None</td>\n",
       "      <td>https://earthquake.usgs.gov/earthquakes/eventp...</td>\n",
       "      <td>earthquake</td>\n",
       "      <td>89</td>\n",
       "    </tr>\n",
       "  </tbody>\n",
       "</table>\n",
       "</div>"
      ],
      "text/plain": [
       "            id                    time                        location  \\\n",
       "62  uw61846087 2022-06-25 13:08:29.130  0 km ENE of Enetai, Washington   \n",
       "\n",
       "     latitude  longitude  depth  magnitude alert  \\\n",
       "62  47.586167   -122.592   25.6        2.4  None   \n",
       "\n",
       "                                                  url   eventtype  \\\n",
       "62  https://earthquake.usgs.gov/earthquakes/eventp...  earthquake   \n",
       "\n",
       "    significance  \n",
       "62            89  "
      ]
     },
     "execution_count": 7,
     "metadata": {},
     "output_type": "execute_result"
    }
   ],
   "source": [
    "detected_quakes = ['uw61869652','uw61860022','uw61847792',\n",
    "                   'uw61846087','uw61834816']\n",
    "# detected_quakes_whidbey = ['uw61832097','uw61819867','uw61855012','us7000gxl1']\n",
    "\n",
    "# this_event_index = 0\n",
    "# this_id=detected_quakes[this_event_index]\n",
    "\n",
    "this_id = 'uw61846087'\n",
    "\n",
    "this_event = event_df[event_df.id==this_id]\n",
    "t0 = this_event['time'].iloc[0]\n",
    "\n",
    "this_event"
   ]
  },
  {
   "cell_type": "markdown",
   "id": "567d5ccf",
   "metadata": {},
   "source": [
    "### Load the DAS Data"
   ]
  },
  {
   "cell_type": "code",
   "execution_count": 8,
   "id": "9aacd396",
   "metadata": {
    "scrolled": true
   },
   "outputs": [
    {
     "name": "stdout",
     "output_type": "stream",
     "text": [
      "/data/data7/seadasn_2022-06-21_2022-10-06/seadasn_2022-06-25_13-08*.h5\n",
      "/data/data7/seadasn_2022-06-21_2022-10-06/seadasn_2022-06-25_13-09*.h5\n",
      "/data/data7/seadasn_2022-06-21_2022-10-06/seadasn_2022-06-25_13-10*.h5\n",
      "/data/data7/seadasn_2022-06-21_2022-10-06/seadasn_2022-06-25_13-11*.h5\n",
      "/data/data7/seadasn_2022-06-21_2022-10-06/seadasn_2022-06-25_13-12*.h5\n",
      "/data/data7/seadasn_2022-06-21_2022-10-06/seadasn_2022-06-25_13-13*.h5\n",
      "/data/data7/seadasn_2022-06-21_2022-10-06/seadasn_2022-06-25_13-14*.h5\n",
      "/data/data7/seadasn_2022-06-21_2022-10-06/seadasn_2022-06-25_13-15*.h5\n",
      "/data/data7/seadasn_2022-06-21_2022-10-06/seadasn_2022-06-25_13-16*.h5\n",
      "/data/data7/seadasn_2022-06-21_2022-10-06/seadasn_2022-06-25_13-17*.h5\n"
     ]
    }
   ],
   "source": [
    "# cable = 'seadasn'\n",
    "cable = 'seadasn'\n",
    "record_length = 10 #minutes\n",
    "\n",
    "if cable == 'seadasn':\n",
    "    prefix = 'seadasn'\n",
    "    network_name = 'SeaDAS-N'\n",
    "    if t0 < datetime.datetime(2022, 6, 20, 0, 0, 0):\n",
    "        datastore='/data/data0/seadasn_2022-03-17_2022-06-20/'\n",
    "    else:\n",
    "        datastore='/data/data7/seadasn_2022-06-21_2022-10-06/'\n",
    "        \n",
    "elif cable == 'whidbey':\n",
    "    prefix = 'whidbey'\n",
    "    network_name='Whidbey-DAS'\n",
    "    datastore = '/data/data5/Converted/'\n",
    "\n",
    "data,dates,attrs = open_sintela_file(prefix,\n",
    "                                     t0,\n",
    "                                     datastore,\n",
    "                                     number_of_files=record_length,\n",
    "                                     verbose=True)\n",
    "x_max=data.shape[1] * attrs['SpatialSamplingInterval']"
   ]
  },
  {
   "cell_type": "code",
   "execution_count": null,
   "id": "ab5edf65",
   "metadata": {},
   "outputs": [],
   "source": [
    "attrs"
   ]
  },
  {
   "cell_type": "code",
   "execution_count": null,
   "id": "0b759463",
   "metadata": {},
   "outputs": [],
   "source": [
    "attrs"
   ]
  },
  {
   "cell_type": "code",
   "execution_count": null,
   "id": "af7b7693",
   "metadata": {},
   "outputs": [],
   "source": []
  },
  {
   "cell_type": "code",
   "execution_count": null,
   "id": "075763bd",
   "metadata": {},
   "outputs": [],
   "source": []
  },
  {
   "cell_type": "code",
   "execution_count": null,
   "id": "4717393a",
   "metadata": {},
   "outputs": [],
   "source": []
  },
  {
   "cell_type": "code",
   "execution_count": null,
   "id": "890dcc18",
   "metadata": {},
   "outputs": [],
   "source": [
    "data.shape"
   ]
  },
  {
   "cell_type": "code",
   "execution_count": null,
   "id": "5c50d21a",
   "metadata": {},
   "outputs": [],
   "source": [
    "low_cut = 2\n",
    "hi_cut = 10\n",
    "\n",
    "b,a = butter(2,(low_cut,hi_cut),'bp',fs=attrs['MaximumFrequency']*2)\n",
    "data_filt = filtfilt(b,a,data,axis=0)"
   ]
  },
  {
   "cell_type": "code",
   "execution_count": null,
   "id": "d2042fb6",
   "metadata": {},
   "outputs": [],
   "source": [
    "client = Client(\"IRIS\")\n",
    "\n",
    "t1 = UTCDateTime( t0.strftime(\"%Y-%m-%dT%H:%M:%S\") )\n",
    "dt = datetime.timedelta(minutes=record_length)\n",
    "t2 = UTCDateTime( (t0+dt).strftime(\"%Y-%m-%dT%H:%M:%S\") )\n",
    "\n",
    "st = client.get_waveforms(\"UW\", \"NOWS\", \"--\", \"HNN\", t1, t2, attach_response=True)\n",
    "# st.decimate(5, strict_length=False, no_filter=False) #everything should be at 40Hz now\n",
    "st2 = client.get_waveforms(\"IU\", \"COR\", \"00\", \"HH1\", t1, t2, attach_response=True)\n",
    "\n",
    "pre_filt = (low_cut/2, low_cut, hi_cut, hi_cut*2)\n",
    "st.remove_response(output='VEL', pre_filt=pre_filt)\n",
    "st2.remove_response(output='VEL', pre_filt=pre_filt)"
   ]
  },
  {
   "cell_type": "code",
   "execution_count": null,
   "id": "30a9fc3d",
   "metadata": {
    "scrolled": false
   },
   "outputs": [],
   "source": [
    "# nombre = f\"figures/{event_df.iloc[catalog_index]['Evid']}.png\"\n",
    "# local_earthquake_quicklook(dates,data_filt,st,st2,x_max,event_df,catalog_index,filename=nombre)\n",
    "\n",
    "\n",
    "stitle=f\"M {this_event['magnitude'].to_numpy()[0]}, \"\\\n",
    "       f\"{this_event['location'].to_numpy()[0]}, \"\\\n",
    "       f\"{str(this_event['time'].to_numpy()[0])[0:-10]} UTC\"\n",
    "\n",
    "\n",
    "local_earthquake_quicklook(dates,data_filt,st,st2,x_max,\n",
    "                           stitle,das_vmax=0.02,\n",
    "                           network_name=network_name)"
   ]
  },
  {
   "cell_type": "code",
   "execution_count": null,
   "id": "b95ab71c",
   "metadata": {},
   "outputs": [],
   "source": [
    "this_event.url.to_list()[0]"
   ]
  },
  {
   "cell_type": "code",
   "execution_count": null,
   "id": "20275941",
   "metadata": {},
   "outputs": [],
   "source": []
  },
  {
   "cell_type": "code",
   "execution_count": null,
   "id": "a3d1f974",
   "metadata": {},
   "outputs": [],
   "source": [
    "# from tqdm import tqdm\n",
    "# xc = np.zeros((2*18000-1,174))\n",
    "\n",
    "# for i in tqdm(range(174)):\n",
    "#     xc[:,i] = np.correlate(np.sign(data_filt[:,30]),\n",
    "#                            np.sign(data_filt[:,i*10]),\n",
    "#                            mode='full')"
   ]
  },
  {
   "cell_type": "code",
   "execution_count": null,
   "id": "acf1c739",
   "metadata": {},
   "outputs": [],
   "source": [
    "fig,ax=plt.subplots()\n",
    "plt.imshow(xc.T,aspect='auto',vmin=-1000,vmax=1000)\n",
    "# plt.plot(data_filt[:,30])\n",
    "# plt.plot(data_filt[:,40])\n",
    "plt.xlim(18000-1e3,18000+1e3)\n",
    "plt.show()"
   ]
  },
  {
   "cell_type": "code",
   "execution_count": null,
   "id": "180bc2f5",
   "metadata": {},
   "outputs": [],
   "source": [
    "fig,ax=plt.subplots()\n",
    "# plt.imshow(xc.T,aspect='auto',vmin=-0.1,vmax=0.1)\n",
    "plt.plot(data_filt[:,30:40], alpha=0.3)\n",
    "plt.plot(data_filt[:,30],alpha=0.5)\n",
    "#plt.xlim(7050,7200)\n",
    "plt.ylim(-0.5,0.5)\n",
    "plt.show()"
   ]
  },
  {
   "cell_type": "code",
   "execution_count": null,
   "id": "10893c48",
   "metadata": {},
   "outputs": [],
   "source": []
  },
  {
   "cell_type": "code",
   "execution_count": null,
   "id": "32629c3b",
   "metadata": {},
   "outputs": [],
   "source": []
  },
  {
   "cell_type": "code",
   "execution_count": null,
   "id": "dbaf294f",
   "metadata": {},
   "outputs": [],
   "source": []
  },
  {
   "cell_type": "code",
   "execution_count": null,
   "id": "6b3ee065",
   "metadata": {},
   "outputs": [],
   "source": []
  },
  {
   "cell_type": "code",
   "execution_count": null,
   "id": "0c5efa1a",
   "metadata": {},
   "outputs": [],
   "source": []
  },
  {
   "cell_type": "code",
   "execution_count": null,
   "id": "46928087",
   "metadata": {},
   "outputs": [],
   "source": [
    "fig,ax=plt.subplots()\n",
    "\n",
    "for i in data_filt.T[30:100]:\n",
    "    ax.plot(i, c='grey', alpha=0.1)\n",
    "plt.xlim([6800,12000])\n",
    "plt.ylim([-1,1])\n",
    "plt.show()"
   ]
  },
  {
   "cell_type": "code",
   "execution_count": null,
   "id": "21ce6e02",
   "metadata": {},
   "outputs": [],
   "source": [
    "import scipy\n",
    "from scipy.fft import fft, ifft\n",
    "af = fft(data_filt[:,30])\n",
    "bf = fft(data_filt[:,40])\n",
    "c = ifft(af * scipy.conj(bf))\n",
    "\n",
    "time_shift = np.argmax(c)\n",
    "print(time_shift)"
   ]
  },
  {
   "cell_type": "code",
   "execution_count": null,
   "id": "f929e733",
   "metadata": {},
   "outputs": [],
   "source": []
  },
  {
   "cell_type": "code",
   "execution_count": null,
   "id": "28ed4d6c",
   "metadata": {},
   "outputs": [],
   "source": []
  },
  {
   "cell_type": "code",
   "execution_count": null,
   "id": "02ea22d6",
   "metadata": {},
   "outputs": [],
   "source": []
  },
  {
   "cell_type": "code",
   "execution_count": null,
   "id": "d78327ce",
   "metadata": {},
   "outputs": [],
   "source": []
  },
  {
   "cell_type": "code",
   "execution_count": null,
   "id": "01964ebd",
   "metadata": {},
   "outputs": [],
   "source": []
  },
  {
   "cell_type": "code",
   "execution_count": null,
   "id": "f91cbaa3",
   "metadata": {},
   "outputs": [],
   "source": []
  },
  {
   "cell_type": "code",
   "execution_count": null,
   "id": "bf2fcab0",
   "metadata": {},
   "outputs": [],
   "source": []
  },
  {
   "cell_type": "code",
   "execution_count": null,
   "id": "b8984730",
   "metadata": {},
   "outputs": [],
   "source": [
    "import obspy.core.trace \n",
    "das_trace = obspy.core.trace.Trace(data_filt[:,40])\n",
    "das_trace.plot()"
   ]
  },
  {
   "cell_type": "code",
   "execution_count": null,
   "id": "441b35c1",
   "metadata": {},
   "outputs": [],
   "source": [
    "das_trace.stats['sampling_rate'] = 100.0"
   ]
  },
  {
   "cell_type": "code",
   "execution_count": null,
   "id": "f2282911",
   "metadata": {},
   "outputs": [],
   "source": [
    "das_trace.stats.sampling_rate"
   ]
  },
  {
   "cell_type": "code",
   "execution_count": null,
   "id": "01aadf1a",
   "metadata": {},
   "outputs": [],
   "source": []
  },
  {
   "cell_type": "code",
   "execution_count": null,
   "id": "932bc000",
   "metadata": {},
   "outputs": [],
   "source": [
    "from obspy.signal.trigger import classic_sta_lta\n",
    "from obspy.signal.trigger import plot_trigger\n",
    "\n",
    "df = das_trace.stats.sampling_rate\n",
    "cft = classic_sta_lta(das_trace, int(6* df), int(10 * df))\n",
    "\n",
    "plot_trigger(das_trace, cft, 1.5, 0.5)"
   ]
  },
  {
   "cell_type": "code",
   "execution_count": null,
   "id": "0e57b607",
   "metadata": {},
   "outputs": [],
   "source": []
  },
  {
   "cell_type": "code",
   "execution_count": null,
   "id": "b9db384c",
   "metadata": {},
   "outputs": [],
   "source": [
    "#print(cft.argmax())"
   ]
  },
  {
   "cell_type": "code",
   "execution_count": null,
   "id": "1cfccfe0",
   "metadata": {},
   "outputs": [],
   "source": [
    "channel_picks = []\n",
    "chan_number = 0\n",
    "\n",
    "for channel in data_filt.T:\n",
    "    das_trace = obspy.core.trace.Trace(channel)\n",
    "    das_trace.stats['sampling_rate'] = 100.0\n",
    "    df = das_trace.stats.sampling_rate\n",
    "    cft = classic_sta_lta(das_trace, int(5 * df), int(10 * df))\n",
    "    \n",
    "    channel_picks.append( cft.argmax() / 100 )\n",
    "    \n",
    "    chan_number +=1"
   ]
  },
  {
   "cell_type": "code",
   "execution_count": null,
   "id": "8f21447f",
   "metadata": {},
   "outputs": [],
   "source": []
  },
  {
   "cell_type": "code",
   "execution_count": null,
   "id": "7ecd0c88",
   "metadata": {},
   "outputs": [],
   "source": [
    "plt.plot(channel_picks)\n",
    "#plt.ylim([7000,8000])\n",
    "plt.ylabel('Time (s)')\n",
    "plt.xlabel('Channel Number')"
   ]
  },
  {
   "cell_type": "code",
   "execution_count": null,
   "id": "41c18a2e",
   "metadata": {},
   "outputs": [],
   "source": [
    "local_earthquake_quicklook(dates,data_filt,st,st2,x_max,\n",
    "                           stitle,das_vmax=0.02,\n",
    "                           network_name=network_name)"
   ]
  },
  {
   "cell_type": "code",
   "execution_count": null,
   "id": "27c31226",
   "metadata": {},
   "outputs": [],
   "source": []
  },
  {
   "cell_type": "code",
   "execution_count": null,
   "id": "8f66c4d4",
   "metadata": {},
   "outputs": [],
   "source": []
  },
  {
   "cell_type": "code",
   "execution_count": null,
   "id": "5ce17bae",
   "metadata": {},
   "outputs": [],
   "source": []
  },
  {
   "cell_type": "markdown",
   "id": "5f901394",
   "metadata": {},
   "source": [
    "# Routine for picking wave arrival times from lcoal events"
   ]
  },
  {
   "cell_type": "code",
   "execution_count": null,
   "id": "c9b5c6f5",
   "metadata": {},
   "outputs": [],
   "source": [
    "#Function that returns the DAS data according to USGS earthquake events\n",
    "\n",
    "def das_downloader(this_id, cab='seadasn'):\n",
    "    this_event = event_df[event_df.id==this_id]\n",
    "    t0 = this_event['time'].iloc[0]\n",
    "\n",
    "    cable = cab\n",
    "    record_length = 5 #minutes\n",
    "    \n",
    "    try:\n",
    "        if cable == 'seadasn':\n",
    "            prefix = 'seadasn'\n",
    "            network_name = 'SeaDAS-N'\n",
    "            if t0 < datetime.datetime(2022, 6, 20, 0, 0, 0):\n",
    "                datastore='/data/data0/seadasn_2022-03-17_2022-06-20/'\n",
    "            elif t0 > datetime.datetime(2022, 6, 20, 0, 0, 0) and t0 < datetime.datetime(2022, 10, 6, 0, 0, 0):\n",
    "                datastore='/data/data7/seadasn_2022-06-21_2022-10-06/'\n",
    "            elif t0 > datetime.datetime(2022, 11, 1, 0, 0, 0) and t0 < datetime.datetime(2022, 11, 5, 0, 0, 0):\n",
    "                datastore='/data/data4/seadasn_2021-11-01_2021-11-05/'\n",
    "            elif t0 > datetime.datetime(2022, 10, 13, 0, 0, 0) and t0 < datetime.datetime(2022, 11, 1, 0, 0, 0):\n",
    "                datastore='/data/data1/seadasn_2021-10-13_2021-11-01/'\n",
    "\n",
    "        elif cable == 'whidbey':\n",
    "            prefix = 'whidbey'\n",
    "            network_name='Whidbey-DAS'\n",
    "            datastore = '/data/data5/Converted/'\n",
    "\n",
    "        data,dates,attrs = open_sintela_file(prefix,\n",
    "                                             t0,\n",
    "                                             datastore,\n",
    "                                             number_of_files=record_length,\n",
    "                                             verbose=True)\n",
    "        x_max=data.shape[1] * attrs['SpatialSamplingInterval']\n",
    "        \n",
    "        low_cut = 2\n",
    "        hi_cut = 10\n",
    "\n",
    "        b,a = butter(2,(low_cut,hi_cut),'bp',fs=attrs['MaximumFrequency']*2)\n",
    "        data_filt = filtfilt(b,a,data,axis=0)\n",
    "    \n",
    "    except:\n",
    "        print('No data for this quake!')\n",
    "        data = None\n",
    "        dates = None\n",
    "        attrs = None\n",
    "        x_max = None\n",
    "        data_filt = None\n",
    "    return data, dates, attrs, x_max, this_id, data_filt, t0"
   ]
  },
  {
   "cell_type": "code",
   "execution_count": null,
   "id": "9121d5d8",
   "metadata": {},
   "outputs": [],
   "source": [
    "\n",
    "#Load events (specify search radius)\n",
    "events = search(starttime = datetime.datetime(2022, 3, 17, 0, 0), \n",
    "                endtime   = datetime.datetime.now(),\n",
    "                maxradiuskm=30, \n",
    "                latitude=47.60, \n",
    "                longitude=-122.33)\n",
    "\n",
    "print(\"Returned %s events\" % len(events))\n",
    "\n",
    "#Get list of USGS events\n",
    "event_df = get_summary_data_frame(events)\n",
    "event_df = event_df.sort_values(by=['magnitude'],ascending=False)\n",
    "\n",
    "#Create a list with the event id numbers for data download\n",
    "earthquake_list = event_df['id'].values.tolist()"
   ]
  },
  {
   "cell_type": "code",
   "execution_count": null,
   "id": "a52f408d",
   "metadata": {},
   "outputs": [],
   "source": []
  },
  {
   "cell_type": "code",
   "execution_count": null,
   "id": "d766f331",
   "metadata": {},
   "outputs": [],
   "source": [
    "arrival_picks = {}\n",
    "das_quake_attrs = {}\n",
    "\n",
    "for i in earthquake_list[:]:\n",
    "    \n",
    "    data, dates, attrs, x_max, this_id, data_filt, t0 = das_downloader(i)\n",
    "    \n",
    "    if attrs != None:\n",
    "        \n",
    "        print(attrs['NumberOfLoci'])\n",
    "        \n",
    "    das_quake_attrs[this_id] = attrs\n",
    "    if  x_max != None:\n",
    "        channel_picks = []\n",
    "        chan_number = 0\n",
    "        for channel in data_filt.T:           \n",
    "            das_trace = obspy.core.trace.Trace(channel)\n",
    "            das_trace.stats['sampling_rate'] = 100.0\n",
    "            df = das_trace.stats.sampling_rate\n",
    "            cft = classic_sta_lta(das_trace, int(0.5 * df), int(20 * df))\n",
    "\n",
    "            channel_picks.append( (cft.argmax() / attrs['PulseRate'] - (t0 - dates[0] ).total_seconds() ))#divide ny pulse rate to account for  unit change to seconds \n",
    "\n",
    "            chan_number +=1\n",
    "    \n",
    "    arrival_picks[str(i)] = channel_picks\n",
    "    "
   ]
  },
  {
   "cell_type": "code",
   "execution_count": null,
   "id": "b8c96138",
   "metadata": {},
   "outputs": [],
   "source": []
  },
  {
   "cell_type": "code",
   "execution_count": null,
   "id": "f40b8313",
   "metadata": {},
   "outputs": [],
   "source": []
  },
  {
   "cell_type": "code",
   "execution_count": null,
   "id": "cb829205",
   "metadata": {},
   "outputs": [],
   "source": []
  },
  {
   "cell_type": "code",
   "execution_count": null,
   "id": "80d85a67",
   "metadata": {},
   "outputs": [],
   "source": [
    "for i in arrival_picks:\n",
    "    print(i)"
   ]
  },
  {
   "cell_type": "code",
   "execution_count": null,
   "id": "05a8415c",
   "metadata": {},
   "outputs": [],
   "source": [
    "arrival_times_1749 = []\n",
    "\n",
    "for i in arrival_picks:\n",
    "    if len(arrival_picks[i]) == 1749:\n",
    "        #print(i)\n",
    "        arrival_times_1749.append(arrival_picks[i])"
   ]
  },
  {
   "cell_type": "code",
   "execution_count": null,
   "id": "e8a8a092",
   "metadata": {},
   "outputs": [],
   "source": [
    "arrival_times_1749 = np.asarray(arrival_times_1749)"
   ]
  },
  {
   "cell_type": "code",
   "execution_count": null,
   "id": "2461e6e7",
   "metadata": {},
   "outputs": [],
   "source": [
    "plt.plot(arrival_times_1749.T)\n",
    "plt.show()\n",
    "#plt.colorbar(label = 'Arrival Time (s)')"
   ]
  },
  {
   "cell_type": "code",
   "execution_count": null,
   "id": "b902b40a",
   "metadata": {},
   "outputs": [],
   "source": []
  },
  {
   "cell_type": "code",
   "execution_count": null,
   "id": "4b462bcf",
   "metadata": {},
   "outputs": [],
   "source": []
  },
  {
   "cell_type": "code",
   "execution_count": null,
   "id": "ba6e5208",
   "metadata": {},
   "outputs": [],
   "source": []
  },
  {
   "cell_type": "code",
   "execution_count": null,
   "id": "0686f27a",
   "metadata": {},
   "outputs": [],
   "source": [
    "#Load the fiber location and calibration data\n",
    "fiber_location = pd.read_csv('fiberroute.csv', header=1)\n",
    "fiber_calibration = pd.read_csv('calibration.csv', header=1)\n",
    "\n",
    "import geopy.distance\n",
    "fiber_distance = []\n",
    "\n",
    "for index, row in fiber_location.iterrows():\n",
    "    if index == 0 :\n",
    "        fiber_distance.append(0)\n",
    "    elif index > 0 :\n",
    "        coords_1 = (row['Lat'], row['Long'])\n",
    "        coords_2 = (fiber_location.iloc[index-1]['Lat'], fiber_location.iloc[index-1]['Long'])\n",
    "        distance = geopy.distance.geodesic(coords_1, coords_2).m\n",
    "        fiber_distance.append(distance   + fiber_distance[-1])\n",
    "        \n",
    "fiber_location['Fiber Dist'] = fiber_distance\n",
    "\n",
    "#Plot\n",
    "fig, ax = plt.subplots(figsize = (8,7))\n",
    "ax.plot(fiber_location['Long'], fiber_location['Lat'], zorder=1, alpha= 0.2, c='b')\n",
    "ax.plot(fiber_calibration['Long'], fiber_calibration['Lat'], zorder=1, alpha= 0.2, c='g')"
   ]
  },
  {
   "cell_type": "code",
   "execution_count": null,
   "id": "e57bfe83",
   "metadata": {},
   "outputs": [],
   "source": [
    "fiber_location"
   ]
  },
  {
   "cell_type": "code",
   "execution_count": null,
   "id": "aece8671",
   "metadata": {},
   "outputs": [],
   "source": []
  },
  {
   "cell_type": "code",
   "execution_count": null,
   "id": "dbef5b64",
   "metadata": {},
   "outputs": [],
   "source": []
  },
  {
   "cell_type": "code",
   "execution_count": null,
   "id": "cd1453fa",
   "metadata": {},
   "outputs": [],
   "source": [
    "#Calculate the fiber distance between points in the fiber location file\n",
    "import geopy.distance\n",
    "fiber_distance = []\n",
    "opt_dis_merge = []\n",
    "\n",
    "for index_fib, row_fib in fiber_location.iterrows():\n",
    "    if index_fib == 0 :\n",
    "        fiber_distance.append(0)\n",
    "    elif index_fib > 0:\n",
    "        coords_1 = (row_fib['Lat'], row_fib['Long'])\n",
    "        coords_2 = (fiber_location.iloc[index_fib-1]['Lat'], fiber_location.iloc[index_fib-1]['Long'])\n",
    "        distance = geopy.distance.geodesic(coords_1, coords_2).m\n",
    "        fiber_distance.append(distance   + fiber_distance[-1])\n",
    "        \n",
    "    l = []\n",
    "    for index_cal, row_cal in fiber_calibration.iterrows():\n",
    "        if row_fib['Lat'] == row_cal['Lat'] and row_fib['Long'] == row_cal['Long']:\n",
    "            l.append(row_cal['Opt Dist'])\n",
    "        else:\n",
    "            pass\n",
    "    if l:\n",
    "        opt_dis_merge.append(l[0])\n",
    "    else:\n",
    "        opt_dis_merge.append(np.nan)\n",
    "        \n",
    "fiber_location['Fiber Dist'] = fiber_distance\n",
    "fiber_location['Opt Dist'] = opt_dis_merge\n",
    "dis_interp = fiber_location['Opt Dist'].interpolate(method='linear', fill_value='extrapolate')\n",
    "fiber_location['Opt Dist Interp'] = dis_interp\n",
    "\n",
    "fiber_location"
   ]
  },
  {
   "cell_type": "code",
   "execution_count": null,
   "id": "2383d024",
   "metadata": {},
   "outputs": [],
   "source": []
  },
  {
   "cell_type": "code",
   "execution_count": null,
   "id": "d82e64a9",
   "metadata": {},
   "outputs": [],
   "source": [
    "fiber_location"
   ]
  },
  {
   "cell_type": "code",
   "execution_count": null,
   "id": "0441e3fd",
   "metadata": {},
   "outputs": [],
   "source": [
    "fiber_calibration"
   ]
  },
  {
   "cell_type": "code",
   "execution_count": null,
   "id": "85faa1e4",
   "metadata": {},
   "outputs": [],
   "source": [
    "opt_dis_merge = []\n",
    "\n",
    "for index_fib, row_fib in fiber_location.iterrows():\n",
    "    l = []\n",
    "    for index_cal, row_cal in fiber_calibration.iterrows():\n",
    "        if row_fib['Lat'] == row_cal['Lat'] and row_fib['Long'] == row_cal['Long']:\n",
    "            l.append(row_cal['Opt Dist'])\n",
    "        else:\n",
    "            pass\n",
    "    if l:\n",
    "        opt_dis_merge.append(l[0])\n",
    "    else:\n",
    "        opt_dis_merge.append(np.nan)"
   ]
  },
  {
   "cell_type": "code",
   "execution_count": null,
   "id": "07517377",
   "metadata": {},
   "outputs": [],
   "source": [
    "fiber_location['Opt Dist'] = opt_dis_merge\n",
    "dis_interp = fiber_location['Opt Dist'].interpolate(method='linear', fill_value='extrapolate')\n",
    "fiber_location['Opt Dist Interp'] = dis_interp\n",
    "\n",
    "fiber_location"
   ]
  },
  {
   "cell_type": "code",
   "execution_count": null,
   "id": "143b0a25",
   "metadata": {},
   "outputs": [],
   "source": []
  },
  {
   "cell_type": "code",
   "execution_count": null,
   "id": "2127d116",
   "metadata": {},
   "outputs": [],
   "source": []
  },
  {
   "cell_type": "code",
   "execution_count": null,
   "id": "6cdb86fd",
   "metadata": {},
   "outputs": [],
   "source": []
  },
  {
   "cell_type": "code",
   "execution_count": null,
   "id": "74910dab",
   "metadata": {},
   "outputs": [],
   "source": []
  },
  {
   "cell_type": "code",
   "execution_count": null,
   "id": "cb10bc1d",
   "metadata": {},
   "outputs": [],
   "source": []
  },
  {
   "cell_type": "markdown",
   "id": "47f9e302",
   "metadata": {},
   "source": [
    "### Routine for interpolating the channel location based off the calibration file."
   ]
  },
  {
   "cell_type": "code",
   "execution_count": 20,
   "id": "07a0a932",
   "metadata": {},
   "outputs": [],
   "source": [
    "import geopy.distance\n",
    "\n",
    "#For sintela fiberroute and calibration files\n",
    "def fiber_channel_locator(fiber_file = 'fiberroute.csv', cal_file='calibration.csv', chan_spac = 6.3, num_chans = 1750):\n",
    "    fiber_location = pd.read_csv(fiber_file, header=1)\n",
    "    fiber_calibration = pd.read_csv(cal_file, header=1)\n",
    "    fiber_distance = []\n",
    "    opt_dis_merge = []\n",
    "    chan_num = []\n",
    "\n",
    "    for index_fib, row_fib in fiber_location.iterrows():\n",
    "        if index_fib == 0 :\n",
    "            fiber_distance.append(0)\n",
    "        elif index_fib > 0:\n",
    "            coords_1 = (row_fib['Lat'], row_fib['Long'])\n",
    "            coords_2 = (fiber_location.iloc[index_fib-1]['Lat'], fiber_location.iloc[index_fib-1]['Long'])\n",
    "            distance = geopy.distance.geodesic(coords_1, coords_2).m\n",
    "            fiber_distance.append(distance   + fiber_distance[-1])\n",
    "\n",
    "        l = []\n",
    "        for index_cal, row_cal in fiber_calibration.iterrows():\n",
    "            if row_fib['Lat'] == row_cal['Lat'] and row_fib['Long'] == row_cal['Long']:\n",
    "                l.append(row_cal['Opt Dist'])\n",
    "            else:\n",
    "                pass\n",
    "        if l:\n",
    "            opt_dis_merge.append(l[0])\n",
    "        else:\n",
    "            opt_dis_merge.append(np.nan)\n",
    "\n",
    "    fiber_location['Fiber Dist'] = fiber_distance\n",
    "    fiber_location['Opt Dist'] = opt_dis_merge\n",
    "    dis_interp = fiber_location['Opt Dist'].interpolate(method='linear', fill_value='extrapolate')\n",
    "    fiber_location['Opt Dist Interp'] = dis_interp\n",
    "    \n",
    "    for index_merge, row_merge in fiber_location.iterrows():\n",
    "        if row_merge['Opt Dist Interp'] != np.nan:\n",
    "            \n",
    "            chan_num.append(row_merge['Opt Dist Interp'] / chan_spac)\n",
    "            \n",
    "    fiber_location['Chan Num Interp'] = chan_num\n",
    "    \n",
    "    #Maybe for later . . . . . \n",
    "    arr_of_chan = np.linspace(1, num_chans, num_chans)\n",
    "    last_point = (num_chans * chan_spac) - (chan_spac / 2)\n",
    "    arr_opt_dist = np.linspace(chan_spac / 2, last_point , num_chans)\n",
    "    # . . . . . . . . .\n",
    "        \n",
    "    print(arr_opt_dist)\n",
    "    \n",
    "#     new_frame = fiber_location.reindex(list(range(0, len(arr_of_chan))), copy=True)\n",
    "    \n",
    "#     new_frame['Chan Opt Dist'] = arr_opt_dist\n",
    "#     new_frame['Chan Num'] = arr_of_chan\n",
    "    \n",
    "    return fiber_location"
   ]
  },
  {
   "cell_type": "code",
   "execution_count": 21,
   "id": "5fac125a",
   "metadata": {},
   "outputs": [
    {
     "name": "stdout",
     "output_type": "stream",
     "text": [
      "[3.19047618e+00 9.57142854e+00 1.59523809e+01 ... 1.11507142e+04\n",
      " 1.11570952e+04 1.11634762e+04]\n"
     ]
    }
   ],
   "source": [
    "fiber_location = fiber_channel_locator(chan_spac = attrs['SpatialSamplingInterval'], num_chans = attrs['NumberOfLoci'])"
   ]
  },
  {
   "cell_type": "code",
   "execution_count": 25,
   "id": "c5d4384b",
   "metadata": {},
   "outputs": [],
   "source": [
    "fiber_location['List of Chans Here'] = np.nan"
   ]
  },
  {
   "cell_type": "code",
   "execution_count": null,
   "id": "f9d351a0",
   "metadata": {},
   "outputs": [],
   "source": []
  },
  {
   "cell_type": "code",
   "execution_count": null,
   "id": "2e3f8f9e",
   "metadata": {},
   "outputs": [],
   "source": []
  },
  {
   "cell_type": "code",
   "execution_count": null,
   "id": "b7856152",
   "metadata": {},
   "outputs": [],
   "source": []
  },
  {
   "cell_type": "code",
   "execution_count": 26,
   "id": "5251cc0c",
   "metadata": {},
   "outputs": [
    {
     "data": {
      "text/html": [
       "<div>\n",
       "<style scoped>\n",
       "    .dataframe tbody tr th:only-of-type {\n",
       "        vertical-align: middle;\n",
       "    }\n",
       "\n",
       "    .dataframe tbody tr th {\n",
       "        vertical-align: top;\n",
       "    }\n",
       "\n",
       "    .dataframe thead th {\n",
       "        text-align: right;\n",
       "    }\n",
       "</style>\n",
       "<table border=\"1\" class=\"dataframe\">\n",
       "  <thead>\n",
       "    <tr style=\"text-align: right;\">\n",
       "      <th></th>\n",
       "      <th>Lat</th>\n",
       "      <th>Long</th>\n",
       "      <th>Elev</th>\n",
       "      <th>Description</th>\n",
       "      <th>Fiber Dist</th>\n",
       "      <th>Opt Dist</th>\n",
       "      <th>Opt Dist Interp</th>\n",
       "      <th>Chan Num Interp</th>\n",
       "      <th>List of Chans Here</th>\n",
       "    </tr>\n",
       "  </thead>\n",
       "  <tbody>\n",
       "    <tr>\n",
       "      <th>0</th>\n",
       "      <td>47.654085</td>\n",
       "      <td>-122.309411</td>\n",
       "      <td>0</td>\n",
       "      <td>NaN</td>\n",
       "      <td>0.000000</td>\n",
       "      <td>1.0</td>\n",
       "      <td>1.000000</td>\n",
       "      <td>0.156716</td>\n",
       "      <td>NaN</td>\n",
       "    </tr>\n",
       "    <tr>\n",
       "      <th>1</th>\n",
       "      <td>47.661686</td>\n",
       "      <td>-122.312116</td>\n",
       "      <td>0</td>\n",
       "      <td>NaN</td>\n",
       "      <td>869.191066</td>\n",
       "      <td>1500.0</td>\n",
       "      <td>1500.000000</td>\n",
       "      <td>235.074628</td>\n",
       "      <td>NaN</td>\n",
       "    </tr>\n",
       "    <tr>\n",
       "      <th>2</th>\n",
       "      <td>47.661686</td>\n",
       "      <td>-122.312127</td>\n",
       "      <td>0</td>\n",
       "      <td>NaN</td>\n",
       "      <td>870.017298</td>\n",
       "      <td>NaN</td>\n",
       "      <td>1713.043478</td>\n",
       "      <td>268.462039</td>\n",
       "      <td>NaN</td>\n",
       "    </tr>\n",
       "    <tr>\n",
       "      <th>3</th>\n",
       "      <td>47.661742</td>\n",
       "      <td>-122.312127</td>\n",
       "      <td>0</td>\n",
       "      <td>NaN</td>\n",
       "      <td>876.243587</td>\n",
       "      <td>NaN</td>\n",
       "      <td>1926.086957</td>\n",
       "      <td>301.849449</td>\n",
       "      <td>NaN</td>\n",
       "    </tr>\n",
       "    <tr>\n",
       "      <th>4</th>\n",
       "      <td>47.661742</td>\n",
       "      <td>-122.312036</td>\n",
       "      <td>0</td>\n",
       "      <td>NaN</td>\n",
       "      <td>883.078767</td>\n",
       "      <td>NaN</td>\n",
       "      <td>2139.130435</td>\n",
       "      <td>335.236860</td>\n",
       "      <td>NaN</td>\n",
       "    </tr>\n",
       "    <tr>\n",
       "      <th>...</th>\n",
       "      <td>...</td>\n",
       "      <td>...</td>\n",
       "      <td>...</td>\n",
       "      <td>...</td>\n",
       "      <td>...</td>\n",
       "      <td>...</td>\n",
       "      <td>...</td>\n",
       "      <td>...</td>\n",
       "      <td>...</td>\n",
       "    </tr>\n",
       "    <tr>\n",
       "      <th>206</th>\n",
       "      <td>47.758301</td>\n",
       "      <td>-122.194216</td>\n",
       "      <td>0</td>\n",
       "      <td>NaN</td>\n",
       "      <td>24241.622680</td>\n",
       "      <td>NaN</td>\n",
       "      <td>28553.421622</td>\n",
       "      <td>4474.789972</td>\n",
       "      <td>NaN</td>\n",
       "    </tr>\n",
       "    <tr>\n",
       "      <th>207</th>\n",
       "      <td>47.758385</td>\n",
       "      <td>-122.193560</td>\n",
       "      <td>0</td>\n",
       "      <td>NaN</td>\n",
       "      <td>24291.684023</td>\n",
       "      <td>NaN</td>\n",
       "      <td>28675.816216</td>\n",
       "      <td>4493.971214</td>\n",
       "      <td>NaN</td>\n",
       "    </tr>\n",
       "    <tr>\n",
       "      <th>208</th>\n",
       "      <td>47.758206</td>\n",
       "      <td>-122.191504</td>\n",
       "      <td>0</td>\n",
       "      <td>NaN</td>\n",
       "      <td>24447.108566</td>\n",
       "      <td>NaN</td>\n",
       "      <td>28798.210811</td>\n",
       "      <td>4513.152457</td>\n",
       "      <td>NaN</td>\n",
       "    </tr>\n",
       "    <tr>\n",
       "      <th>209</th>\n",
       "      <td>47.757981</td>\n",
       "      <td>-122.191496</td>\n",
       "      <td>0</td>\n",
       "      <td>NaN</td>\n",
       "      <td>24472.132519</td>\n",
       "      <td>NaN</td>\n",
       "      <td>28920.605405</td>\n",
       "      <td>4532.333699</td>\n",
       "      <td>NaN</td>\n",
       "    </tr>\n",
       "    <tr>\n",
       "      <th>210</th>\n",
       "      <td>47.757981</td>\n",
       "      <td>-122.191467</td>\n",
       "      <td>0</td>\n",
       "      <td>NaN</td>\n",
       "      <td>24474.306756</td>\n",
       "      <td>29043.0</td>\n",
       "      <td>29043.000000</td>\n",
       "      <td>4551.514942</td>\n",
       "      <td>NaN</td>\n",
       "    </tr>\n",
       "  </tbody>\n",
       "</table>\n",
       "<p>211 rows × 9 columns</p>\n",
       "</div>"
      ],
      "text/plain": [
       "           Lat        Long  Elev  Description    Fiber Dist  Opt Dist  \\\n",
       "0    47.654085 -122.309411     0          NaN      0.000000       1.0   \n",
       "1    47.661686 -122.312116     0          NaN    869.191066    1500.0   \n",
       "2    47.661686 -122.312127     0          NaN    870.017298       NaN   \n",
       "3    47.661742 -122.312127     0          NaN    876.243587       NaN   \n",
       "4    47.661742 -122.312036     0          NaN    883.078767       NaN   \n",
       "..         ...         ...   ...          ...           ...       ...   \n",
       "206  47.758301 -122.194216     0          NaN  24241.622680       NaN   \n",
       "207  47.758385 -122.193560     0          NaN  24291.684023       NaN   \n",
       "208  47.758206 -122.191504     0          NaN  24447.108566       NaN   \n",
       "209  47.757981 -122.191496     0          NaN  24472.132519       NaN   \n",
       "210  47.757981 -122.191467     0          NaN  24474.306756   29043.0   \n",
       "\n",
       "     Opt Dist Interp  Chan Num Interp  List of Chans Here  \n",
       "0           1.000000         0.156716                 NaN  \n",
       "1        1500.000000       235.074628                 NaN  \n",
       "2        1713.043478       268.462039                 NaN  \n",
       "3        1926.086957       301.849449                 NaN  \n",
       "4        2139.130435       335.236860                 NaN  \n",
       "..               ...              ...                 ...  \n",
       "206     28553.421622      4474.789972                 NaN  \n",
       "207     28675.816216      4493.971214                 NaN  \n",
       "208     28798.210811      4513.152457                 NaN  \n",
       "209     28920.605405      4532.333699                 NaN  \n",
       "210     29043.000000      4551.514942                 NaN  \n",
       "\n",
       "[211 rows x 9 columns]"
      ]
     },
     "execution_count": 26,
     "metadata": {},
     "output_type": "execute_result"
    }
   ],
   "source": []
  },
  {
   "cell_type": "code",
   "execution_count": 35,
   "id": "3a645f81",
   "metadata": {},
   "outputs": [],
   "source": [
    "num_chans = attrs['NumberOfLoci']\n",
    "chan_spac = attrs['SpatialSamplingInterval']\n",
    "\n",
    "arr_of_chan = np.linspace(1, num_chans, num_chans)\n",
    "last_point = (num_chans * chan_spac) - (chan_spac / 2)\n",
    "arr_opt_dist = np.linspace(chan_spac / 2, last_point , num_chans)"
   ]
  },
  {
   "cell_type": "code",
   "execution_count": 44,
   "id": "ee18c4de",
   "metadata": {},
   "outputs": [
    {
     "data": {
      "text/plain": [
       "array([3.19047618e+00, 9.57142854e+00, 1.59523809e+01, ...,\n",
       "       1.11507142e+04, 1.11570952e+04, 1.11634762e+04])"
      ]
     },
     "execution_count": 44,
     "metadata": {},
     "output_type": "execute_result"
    }
   ],
   "source": [
    "arr_opt_dist"
   ]
  },
  {
   "cell_type": "code",
   "execution_count": 59,
   "id": "de657cb6",
   "metadata": {},
   "outputs": [
    {
     "ename": "ValueError",
     "evalue": "setting an array element with a sequence.",
     "output_type": "error",
     "traceback": [
      "\u001b[0;31m---------------------------------------------------------------------------\u001b[0m",
      "\u001b[0;31mTypeError\u001b[0m                                 Traceback (most recent call last)",
      "\u001b[0;31mTypeError\u001b[0m: only size-1 arrays can be converted to Python scalars",
      "\nThe above exception was the direct cause of the following exception:\n",
      "\u001b[0;31mValueError\u001b[0m                                Traceback (most recent call last)",
      "\u001b[0;32m/tmp/ipykernel_283961/3405699438.py\u001b[0m in \u001b[0;36m<module>\u001b[0;34m\u001b[0m\n\u001b[0;32m----> 1\u001b[0;31m \u001b[0mfiber_location\u001b[0m\u001b[0;34m.\u001b[0m\u001b[0mat\u001b[0m\u001b[0;34m[\u001b[0m\u001b[0;36m0\u001b[0m\u001b[0;34m,\u001b[0m\u001b[0;34m'List of Chans Here'\u001b[0m\u001b[0;34m]\u001b[0m  \u001b[0;34m=\u001b[0m \u001b[0marr_opt_dist\u001b[0m\u001b[0;34m[\u001b[0m\u001b[0;36m0\u001b[0m\u001b[0;34m:\u001b[0m\u001b[0;36m235\u001b[0m\u001b[0;34m]\u001b[0m\u001b[0;34m\u001b[0m\u001b[0;34m\u001b[0m\u001b[0m\n\u001b[0m",
      "\u001b[0;32m~/miniconda3/envs/comcat/lib/python3.7/site-packages/pandas/core/indexing.py\u001b[0m in \u001b[0;36m__setitem__\u001b[0;34m(self, key, value)\u001b[0m\n\u001b[1;32m   2284\u001b[0m             \u001b[0;32mreturn\u001b[0m\u001b[0;34m\u001b[0m\u001b[0;34m\u001b[0m\u001b[0m\n\u001b[1;32m   2285\u001b[0m \u001b[0;34m\u001b[0m\u001b[0m\n\u001b[0;32m-> 2286\u001b[0;31m         \u001b[0;32mreturn\u001b[0m \u001b[0msuper\u001b[0m\u001b[0;34m(\u001b[0m\u001b[0;34m)\u001b[0m\u001b[0;34m.\u001b[0m\u001b[0m__setitem__\u001b[0m\u001b[0;34m(\u001b[0m\u001b[0mkey\u001b[0m\u001b[0;34m,\u001b[0m \u001b[0mvalue\u001b[0m\u001b[0;34m)\u001b[0m\u001b[0;34m\u001b[0m\u001b[0;34m\u001b[0m\u001b[0m\n\u001b[0m\u001b[1;32m   2287\u001b[0m \u001b[0;34m\u001b[0m\u001b[0m\n\u001b[1;32m   2288\u001b[0m \u001b[0;34m\u001b[0m\u001b[0m\n",
      "\u001b[0;32m~/miniconda3/envs/comcat/lib/python3.7/site-packages/pandas/core/indexing.py\u001b[0m in \u001b[0;36m__setitem__\u001b[0;34m(self, key, value)\u001b[0m\n\u001b[1;32m   2235\u001b[0m             \u001b[0;32mraise\u001b[0m \u001b[0mValueError\u001b[0m\u001b[0;34m(\u001b[0m\u001b[0;34m\"Not enough indexers for scalar access (setting)!\"\u001b[0m\u001b[0;34m)\u001b[0m\u001b[0;34m\u001b[0m\u001b[0;34m\u001b[0m\u001b[0m\n\u001b[1;32m   2236\u001b[0m \u001b[0;34m\u001b[0m\u001b[0m\n\u001b[0;32m-> 2237\u001b[0;31m         \u001b[0mself\u001b[0m\u001b[0;34m.\u001b[0m\u001b[0mobj\u001b[0m\u001b[0;34m.\u001b[0m\u001b[0m_set_value\u001b[0m\u001b[0;34m(\u001b[0m\u001b[0;34m*\u001b[0m\u001b[0mkey\u001b[0m\u001b[0;34m,\u001b[0m \u001b[0mvalue\u001b[0m\u001b[0;34m=\u001b[0m\u001b[0mvalue\u001b[0m\u001b[0;34m,\u001b[0m \u001b[0mtakeable\u001b[0m\u001b[0;34m=\u001b[0m\u001b[0mself\u001b[0m\u001b[0;34m.\u001b[0m\u001b[0m_takeable\u001b[0m\u001b[0;34m)\u001b[0m\u001b[0;34m\u001b[0m\u001b[0;34m\u001b[0m\u001b[0m\n\u001b[0m\u001b[1;32m   2238\u001b[0m \u001b[0;34m\u001b[0m\u001b[0m\n\u001b[1;32m   2239\u001b[0m \u001b[0;34m\u001b[0m\u001b[0m\n",
      "\u001b[0;32m~/miniconda3/envs/comcat/lib/python3.7/site-packages/pandas/core/frame.py\u001b[0m in \u001b[0;36m_set_value\u001b[0;34m(self, index, col, value, takeable)\u001b[0m\n\u001b[1;32m   3824\u001b[0m             \u001b[0mvalidate_numeric_casting\u001b[0m\u001b[0;34m(\u001b[0m\u001b[0mseries\u001b[0m\u001b[0;34m.\u001b[0m\u001b[0mdtype\u001b[0m\u001b[0;34m,\u001b[0m \u001b[0mvalue\u001b[0m\u001b[0;34m)\u001b[0m\u001b[0;34m\u001b[0m\u001b[0;34m\u001b[0m\u001b[0m\n\u001b[1;32m   3825\u001b[0m \u001b[0;34m\u001b[0m\u001b[0m\n\u001b[0;32m-> 3826\u001b[0;31m             \u001b[0mseries\u001b[0m\u001b[0;34m.\u001b[0m\u001b[0m_values\u001b[0m\u001b[0;34m[\u001b[0m\u001b[0mloc\u001b[0m\u001b[0;34m]\u001b[0m \u001b[0;34m=\u001b[0m \u001b[0mvalue\u001b[0m\u001b[0;34m\u001b[0m\u001b[0;34m\u001b[0m\u001b[0m\n\u001b[0m\u001b[1;32m   3827\u001b[0m             \u001b[0;31m# Note: trying to use series._set_value breaks tests in\u001b[0m\u001b[0;34m\u001b[0m\u001b[0;34m\u001b[0m\u001b[0;34m\u001b[0m\u001b[0m\n\u001b[1;32m   3828\u001b[0m             \u001b[0;31m#  tests.frame.indexing.test_indexing and tests.indexing.test_partial\u001b[0m\u001b[0;34m\u001b[0m\u001b[0;34m\u001b[0m\u001b[0;34m\u001b[0m\u001b[0m\n",
      "\u001b[0;31mValueError\u001b[0m: setting an array element with a sequence."
     ]
    }
   ],
   "source": [
    "fiber_location.at[0,'List of Chans Here']  = arr_opt_dist[0:235]"
   ]
  },
  {
   "cell_type": "code",
   "execution_count": null,
   "id": "3fbe41bd",
   "metadata": {},
   "outputs": [],
   "source": []
  },
  {
   "cell_type": "code",
   "execution_count": null,
   "id": "f59e7e1e",
   "metadata": {},
   "outputs": [],
   "source": []
  },
  {
   "cell_type": "code",
   "execution_count": 34,
   "id": "fd641348",
   "metadata": {},
   "outputs": [
    {
     "data": {
      "text/plain": [
       "{'AcquisitionId': b'e046b719-6857-4024-862b-054d4d2594a4',\n",
       " 'Build': b'release-5.17:9_P',\n",
       " 'Classification': b'TestClass',\n",
       " 'Comment': b'TestComment',\n",
       " 'CommitHash': b'f9dcdb09c',\n",
       " 'Creator': b'TestAuthor',\n",
       " 'DasInstrumentBox': b'ONYX',\n",
       " 'DetectionAccuracy': b'Incorrect Classification',\n",
       " 'FFID': 0,\n",
       " 'FacilityId': b'ONYX-0203 Fiber 1',\n",
       " 'FiberID': 0,\n",
       " 'GaugeLength': 6.38095235824585,\n",
       " 'GaugeLengthUnit': b'm',\n",
       " 'Hostname': b'ONYX-0203',\n",
       " 'MaximumFrequency': 50.0,\n",
       " 'MeasurementStartTime': b'2022-06-25T13:07:59.993500+00:00',\n",
       " 'MinimumFrequency': 0.0,\n",
       " 'NumberOfLoci': 1750,\n",
       " 'OpticalPath': b'OpticalPath',\n",
       " 'PulseRate': 100.0,\n",
       " 'PulseRateUnit': b'Hz',\n",
       " 'PulseWidth': 20.0,\n",
       " 'PulseWidthUnit': b'ns',\n",
       " 'SoftwareVersion': b'9',\n",
       " 'SpatialSamplingInterval': 6.38095235824585,\n",
       " 'SpatialSamplingIntervalUnit': b'm',\n",
       " 'StartLocusIndex': 0,\n",
       " 'SystemType': b'Xavier',\n",
       " 'TriggeredMeasurement': 0,\n",
       " 'VendorCode': b'Sintela',\n",
       " 'schemaVersion': b'2.0',\n",
       " 'uuid': b'4d25288d-0a8d-469a-beae-c4577b3e2903'}"
      ]
     },
     "execution_count": 34,
     "metadata": {},
     "output_type": "execute_result"
    }
   ],
   "source": [
    "attrs"
   ]
  },
  {
   "cell_type": "code",
   "execution_count": null,
   "id": "428e8a22",
   "metadata": {},
   "outputs": [],
   "source": [
    "chan_num=[]\n",
    "\n",
    "for index_merge, row_merge in fiber_calibration.iterrows():\n",
    "    if row_merge['Opt Dist'] != np.nan:\n",
    "\n",
    "        chan_num.append(row_merge['Opt Dist'] / chan_spac)\n",
    "\n",
    "fiber_calibration['Chan Num'] = chan_num"
   ]
  },
  {
   "cell_type": "code",
   "execution_count": null,
   "id": "030887db",
   "metadata": {},
   "outputs": [],
   "source": [
    "fiber_calibration"
   ]
  },
  {
   "cell_type": "code",
   "execution_count": null,
   "id": "7956e56e",
   "metadata": {},
   "outputs": [],
   "source": []
  },
  {
   "cell_type": "code",
   "execution_count": null,
   "id": "f68ed5ba",
   "metadata": {},
   "outputs": [],
   "source": []
  },
  {
   "cell_type": "code",
   "execution_count": null,
   "id": "ce8319c3",
   "metadata": {},
   "outputs": [],
   "source": []
  },
  {
   "cell_type": "markdown",
   "id": "2f1ce772",
   "metadata": {},
   "source": [
    "# Widbey Island Work - \n",
    "## Plotting the fiber location and interpolated optical distance"
   ]
  },
  {
   "cell_type": "code",
   "execution_count": null,
   "id": "39f7fdae",
   "metadata": {},
   "outputs": [],
   "source": [
    "#Load the fiber location and calibration data\n",
    "fiber_location_w = pd.read_csv('fiberroute_whidbey.csv', header=1)\n",
    "fiber_calibration_w = pd.read_csv('calibration_whidbey.csv', header=1)\n",
    "\n",
    "#Plot\n",
    "fig, ax = plt.subplots(figsize = (8,7))\n",
    "ax.plot(fiber_location_w['Long'], fiber_location_w['Lat'], zorder=1, alpha= 0.2, c='b')\n",
    "ax.plot(fiber_calibration_w['Long'], fiber_calibration_w['Lat'], zorder=1, alpha= 0.2, c='g')"
   ]
  },
  {
   "cell_type": "code",
   "execution_count": null,
   "id": "707a1cf7",
   "metadata": {},
   "outputs": [],
   "source": [
    "import geopy.distance\n",
    "fiber_distance_w = []\n",
    "\n",
    "for index, row in fiber_location_w.iterrows():\n",
    "    if index == 0 :\n",
    "        fiber_distance_w.append(0)\n",
    "    elif index <= len(fiber_location_w.index) -1:\n",
    "        coords_1 = (row['Lat'], row['Long'])\n",
    "        coords_2 = (fiber_location_w.iloc[index-1]['Lat'], fiber_location_w.iloc[index-1]['Long'])\n",
    "        distance = geopy.distance.geodesic(coords_1, coords_2).m\n",
    "        fiber_distance_w.append(distance  + fiber_distance_w[-1])\n",
    "        \n",
    "fiber_location_w['Fiber Dist'] = fiber_distance_w"
   ]
  },
  {
   "cell_type": "code",
   "execution_count": null,
   "id": "ebe555df",
   "metadata": {},
   "outputs": [],
   "source": [
    "opt_dis_merge_w = []\n",
    "\n",
    "for index_fib, row_fib in fiber_location_w.iterrows():\n",
    "    l = []\n",
    "    for index_cal, row_cal in fiber_calibration.iterrows():\n",
    "        if row_fib['Lat'] == row_cal['Lat'] and row_fib['Long'] == row_cal['Long']:\n",
    "            l.append(row_cal['Opt Dist'])\n",
    "        else:\n",
    "            pass\n",
    "    if l:\n",
    "        opt_dis_merge_w.append(l[0])\n",
    "    else:\n",
    "        opt_dis_merge_w.append(np.nan)"
   ]
  },
  {
   "cell_type": "code",
   "execution_count": null,
   "id": "be2cb187",
   "metadata": {},
   "outputs": [],
   "source": [
    "fiber_location_w['Opt Dist'] = opt_dis_merge_w\n",
    "dis_interp_w = fiber_location_w['Opt Dist'].interpolate(method='linear', fill_value='extrapolate')\n",
    "fiber_location_w['Opt Dist Interp'] = dis_interp_w\n",
    "\n",
    "fiber_location_w"
   ]
  },
  {
   "cell_type": "code",
   "execution_count": null,
   "id": "c8828ac2",
   "metadata": {},
   "outputs": [],
   "source": []
  },
  {
   "cell_type": "code",
   "execution_count": null,
   "id": "077c2108",
   "metadata": {},
   "outputs": [],
   "source": []
  },
  {
   "cell_type": "code",
   "execution_count": null,
   "id": "b48c312f",
   "metadata": {},
   "outputs": [],
   "source": []
  },
  {
   "cell_type": "code",
   "execution_count": null,
   "id": "614fa7a1",
   "metadata": {},
   "outputs": [],
   "source": []
  },
  {
   "cell_type": "code",
   "execution_count": null,
   "id": "e10047ab",
   "metadata": {},
   "outputs": [],
   "source": []
  },
  {
   "cell_type": "code",
   "execution_count": null,
   "id": "2cc5d9bb",
   "metadata": {},
   "outputs": [],
   "source": []
  },
  {
   "cell_type": "code",
   "execution_count": null,
   "id": "5db81421",
   "metadata": {},
   "outputs": [],
   "source": []
  },
  {
   "cell_type": "code",
   "execution_count": null,
   "id": "6bebfa9e",
   "metadata": {},
   "outputs": [],
   "source": []
  },
  {
   "cell_type": "code",
   "execution_count": null,
   "id": "c43fcae7",
   "metadata": {},
   "outputs": [],
   "source": []
  },
  {
   "cell_type": "markdown",
   "id": "726a4151",
   "metadata": {},
   "source": [
    "# Constructing the G matrix (distances)"
   ]
  },
  {
   "cell_type": "code",
   "execution_count": null,
   "id": "be9f52af",
   "metadata": {},
   "outputs": [],
   "source": [
    "\n",
    "\n"
   ]
  },
  {
   "cell_type": "code",
   "execution_count": null,
   "id": "81492d4f",
   "metadata": {},
   "outputs": [],
   "source": [
    "import geopy.distance\n",
    "import pandas as pd\n",
    "from libcomcat.search import search\n",
    "from libcomcat.dataframes import get_summary_data_frame\n",
    "import h5py\n",
    "import matplotlib.pyplot as plt\n",
    "from scipy.signal import butter, filtfilt\n",
    "import numpy as np\n",
    "import datetime\n",
    "from dasquakes import sintela_to_datetime, open_sintela_file, get_file_number, local_earthquake_quicklook\n",
    "import obspy\n",
    "from obspy import UTCDateTime\n",
    "from obspy.clients.fdsn import Client\n",
    "\n",
    "G =[]\n",
    "\n",
    "fiber_location = pd.read_csv('fiberroute.csv', header=1)\n",
    "fiber_calibration = pd.read_csv('calibration.csv', header=1)\n",
    "\n",
    "events = search(starttime = datetime.datetime(2022, 3, 17, 0, 0), \n",
    "                endtime   = datetime.datetime.now(),\n",
    "                maxradiuskm=50, \n",
    "                latitude=47.60, \n",
    "                longitude=-122.33)\n",
    "\n",
    "event_df = get_summary_data_frame(events)\n",
    "\n",
    "for i in event_df.iloc:\n",
    "    for j in fiber_location.iloc:\n",
    "        coords_1 = (i['latitude'], i['longitude']) #earthquake origin coordinates\n",
    "        coords_2 = (j['Lat'], j['Long'])\n",
    "        distance = geopy.distance.geodesic(coords_1, coords_2).m\n",
    "        G.append(distance)\n",
    "        \n",
    "G = np.asarray(G)\n",
    "G = np.reshape(G, (len(event_df), len(fiber_location)))\n",
    "print(G)"
   ]
  },
  {
   "cell_type": "code",
   "execution_count": null,
   "id": "fae3e2b9",
   "metadata": {},
   "outputs": [],
   "source": []
  },
  {
   "cell_type": "code",
   "execution_count": null,
   "id": "d4b72dde",
   "metadata": {},
   "outputs": [],
   "source": []
  },
  {
   "cell_type": "code",
   "execution_count": null,
   "id": "708051cd",
   "metadata": {},
   "outputs": [],
   "source": []
  }
 ],
 "metadata": {
  "kernelspec": {
   "display_name": "libcomcat",
   "language": "python",
   "name": "libcomcat"
  },
  "language_info": {
   "codemirror_mode": {
    "name": "ipython",
    "version": 3
   },
   "file_extension": ".py",
   "mimetype": "text/x-python",
   "name": "python",
   "nbconvert_exporter": "python",
   "pygments_lexer": "ipython3",
   "version": "3.7.12"
  }
 },
 "nbformat": 4,
 "nbformat_minor": 5
}
