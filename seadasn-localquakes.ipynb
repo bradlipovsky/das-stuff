{
 "cells": [
  {
   "cell_type": "markdown",
   "id": "1ae5dd46",
   "metadata": {},
   "source": [
    "# Earthquake seismology with DAS\n",
    "\n",
    "#### Todo List:\n",
    "1. Reference earthquakes by Evid rather than dataframe index\n",
    "2. Make a map of all of the detected events\n",
    "3. Try some xcorr\n",
    "4. Find something for JM to do"
   ]
  },
  {
   "cell_type": "code",
   "execution_count": 1,
   "id": "dfe2c7f7",
   "metadata": {},
   "outputs": [],
   "source": [
    "import h5py\n",
    "import matplotlib.pyplot as plt\n",
    "from scipy.signal import butter, filtfilt\n",
    "import numpy as np\n",
    "import datetime\n",
    "import pandas as pd\n",
    "from dasquakes import sintela_to_datetime, open_sintela_file, get_file_number, local_earthquake_quicklook\n",
    "import obspy\n",
    "from obspy import UTCDateTime\n",
    "from obspy.clients.fdsn import Client\n",
    "from libcomcat.search import search\n",
    "from libcomcat.dataframes import get_summary_data_frame"
   ]
  },
  {
   "cell_type": "markdown",
   "id": "f1de69b8",
   "metadata": {},
   "source": [
    "### Get a list of events from USGS"
   ]
  },
  {
   "cell_type": "code",
   "execution_count": 53,
   "id": "4554abf7",
   "metadata": {},
   "outputs": [
    {
     "name": "stdout",
     "output_type": "stream",
     "text": [
      "Returned 8270 events\n"
     ]
    }
   ],
   "source": [
    "events = search(starttime = datetime.datetime(2022, 3, 17, 0, 0), \n",
    "                endtime   = datetime.datetime.now(),\n",
    "                maxradiuskm=1000, \n",
    "                latitude=47.60, \n",
    "                longitude=-122.33)\n",
    "\n",
    "print(\"Returned %s events\" % len(events))"
   ]
  },
  {
   "cell_type": "code",
   "execution_count": 54,
   "id": "452b092e",
   "metadata": {},
   "outputs": [
    {
     "data": {
      "text/html": [
       "<div>\n",
       "<style scoped>\n",
       "    .dataframe tbody tr th:only-of-type {\n",
       "        vertical-align: middle;\n",
       "    }\n",
       "\n",
       "    .dataframe tbody tr th {\n",
       "        vertical-align: top;\n",
       "    }\n",
       "\n",
       "    .dataframe thead th {\n",
       "        text-align: right;\n",
       "    }\n",
       "</style>\n",
       "<table border=\"1\" class=\"dataframe\">\n",
       "  <thead>\n",
       "    <tr style=\"text-align: right;\">\n",
       "      <th></th>\n",
       "      <th>id</th>\n",
       "      <th>time</th>\n",
       "      <th>location</th>\n",
       "      <th>latitude</th>\n",
       "      <th>longitude</th>\n",
       "      <th>depth</th>\n",
       "      <th>magnitude</th>\n",
       "      <th>alert</th>\n",
       "      <th>url</th>\n",
       "      <th>eventtype</th>\n",
       "      <th>significance</th>\n",
       "    </tr>\n",
       "  </thead>\n",
       "  <tbody>\n",
       "    <tr>\n",
       "      <th>6026</th>\n",
       "      <td>us7000hhik</td>\n",
       "      <td>2022-06-15 11:56:33.191</td>\n",
       "      <td>off the coast of Oregon</td>\n",
       "      <td>44.5381</td>\n",
       "      <td>-130.1124</td>\n",
       "      <td>10.00</td>\n",
       "      <td>5.6</td>\n",
       "      <td>green</td>\n",
       "      <td>https://earthquake.usgs.gov/earthquakes/eventp...</td>\n",
       "      <td>earthquake</td>\n",
       "      <td>487</td>\n",
       "    </tr>\n",
       "    <tr>\n",
       "      <th>2848</th>\n",
       "      <td>us6000hfx7</td>\n",
       "      <td>2022-04-23 21:22:47.948</td>\n",
       "      <td>185 km W of Port McNeill, Canada</td>\n",
       "      <td>50.4725</td>\n",
       "      <td>-129.6895</td>\n",
       "      <td>10.00</td>\n",
       "      <td>5.3</td>\n",
       "      <td>None</td>\n",
       "      <td>https://earthquake.usgs.gov/earthquakes/eventp...</td>\n",
       "      <td>earthquake</td>\n",
       "      <td>435</td>\n",
       "    </tr>\n",
       "    <tr>\n",
       "      <th>768</th>\n",
       "      <td>us7000gxl1</td>\n",
       "      <td>2022-03-27 01:12:22.059</td>\n",
       "      <td>off the coast of Oregon</td>\n",
       "      <td>44.1229</td>\n",
       "      <td>-129.4385</td>\n",
       "      <td>10.00</td>\n",
       "      <td>5.1</td>\n",
       "      <td>None</td>\n",
       "      <td>https://earthquake.usgs.gov/earthquakes/eventp...</td>\n",
       "      <td>earthquake</td>\n",
       "      <td>404</td>\n",
       "    </tr>\n",
       "    <tr>\n",
       "      <th>5459</th>\n",
       "      <td>us7000hf29</td>\n",
       "      <td>2022-06-04 23:59:10.007</td>\n",
       "      <td>Haida Gwaii Region, Canada</td>\n",
       "      <td>51.6137</td>\n",
       "      <td>-131.4027</td>\n",
       "      <td>6.61</td>\n",
       "      <td>5.1</td>\n",
       "      <td>None</td>\n",
       "      <td>https://earthquake.usgs.gov/earthquakes/eventp...</td>\n",
       "      <td>earthquake</td>\n",
       "      <td>401</td>\n",
       "    </tr>\n",
       "    <tr>\n",
       "      <th>8249</th>\n",
       "      <td>us7000hth5</td>\n",
       "      <td>2022-07-26 05:46:22.472</td>\n",
       "      <td>297 km S of Prince Rupert, Canada</td>\n",
       "      <td>51.6928</td>\n",
       "      <td>-131.1816</td>\n",
       "      <td>10.00</td>\n",
       "      <td>4.8</td>\n",
       "      <td>None</td>\n",
       "      <td>https://earthquake.usgs.gov/earthquakes/eventp...</td>\n",
       "      <td>earthquake</td>\n",
       "      <td>355</td>\n",
       "    </tr>\n",
       "  </tbody>\n",
       "</table>\n",
       "</div>"
      ],
      "text/plain": [
       "              id                    time                           location  \\\n",
       "6026  us7000hhik 2022-06-15 11:56:33.191            off the coast of Oregon   \n",
       "2848  us6000hfx7 2022-04-23 21:22:47.948   185 km W of Port McNeill, Canada   \n",
       "768   us7000gxl1 2022-03-27 01:12:22.059            off the coast of Oregon   \n",
       "5459  us7000hf29 2022-06-04 23:59:10.007         Haida Gwaii Region, Canada   \n",
       "8249  us7000hth5 2022-07-26 05:46:22.472  297 km S of Prince Rupert, Canada   \n",
       "\n",
       "      latitude  longitude  depth  magnitude  alert  \\\n",
       "6026   44.5381  -130.1124  10.00        5.6  green   \n",
       "2848   50.4725  -129.6895  10.00        5.3   None   \n",
       "768    44.1229  -129.4385  10.00        5.1   None   \n",
       "5459   51.6137  -131.4027   6.61        5.1   None   \n",
       "8249   51.6928  -131.1816  10.00        4.8   None   \n",
       "\n",
       "                                                    url   eventtype  \\\n",
       "6026  https://earthquake.usgs.gov/earthquakes/eventp...  earthquake   \n",
       "2848  https://earthquake.usgs.gov/earthquakes/eventp...  earthquake   \n",
       "768   https://earthquake.usgs.gov/earthquakes/eventp...  earthquake   \n",
       "5459  https://earthquake.usgs.gov/earthquakes/eventp...  earthquake   \n",
       "8249  https://earthquake.usgs.gov/earthquakes/eventp...  earthquake   \n",
       "\n",
       "      significance  \n",
       "6026           487  \n",
       "2848           435  \n",
       "768            404  \n",
       "5459           401  \n",
       "8249           355  "
      ]
     },
     "execution_count": 54,
     "metadata": {},
     "output_type": "execute_result"
    }
   ],
   "source": [
    "event_df = get_summary_data_frame(events)\n",
    "event_df = event_df.sort_values(by=['magnitude'],ascending=False)\n",
    "event_df.iloc[0:5]"
   ]
  },
  {
   "cell_type": "markdown",
   "id": "b51522ec",
   "metadata": {},
   "source": [
    "### Choose an event to analyze"
   ]
  },
  {
   "cell_type": "code",
   "execution_count": 55,
   "id": "204d4c0e",
   "metadata": {},
   "outputs": [
    {
     "data": {
      "text/html": [
       "<div>\n",
       "<style scoped>\n",
       "    .dataframe tbody tr th:only-of-type {\n",
       "        vertical-align: middle;\n",
       "    }\n",
       "\n",
       "    .dataframe tbody tr th {\n",
       "        vertical-align: top;\n",
       "    }\n",
       "\n",
       "    .dataframe thead th {\n",
       "        text-align: right;\n",
       "    }\n",
       "</style>\n",
       "<table border=\"1\" class=\"dataframe\">\n",
       "  <thead>\n",
       "    <tr style=\"text-align: right;\">\n",
       "      <th></th>\n",
       "      <th>id</th>\n",
       "      <th>time</th>\n",
       "      <th>location</th>\n",
       "      <th>latitude</th>\n",
       "      <th>longitude</th>\n",
       "      <th>depth</th>\n",
       "      <th>magnitude</th>\n",
       "      <th>alert</th>\n",
       "      <th>url</th>\n",
       "      <th>eventtype</th>\n",
       "      <th>significance</th>\n",
       "    </tr>\n",
       "  </thead>\n",
       "  <tbody>\n",
       "    <tr>\n",
       "      <th>8249</th>\n",
       "      <td>us7000hth5</td>\n",
       "      <td>2022-07-26 05:46:22.472</td>\n",
       "      <td>297 km S of Prince Rupert, Canada</td>\n",
       "      <td>51.6928</td>\n",
       "      <td>-131.1816</td>\n",
       "      <td>10.0</td>\n",
       "      <td>4.8</td>\n",
       "      <td>None</td>\n",
       "      <td>https://earthquake.usgs.gov/earthquakes/eventp...</td>\n",
       "      <td>earthquake</td>\n",
       "      <td>355</td>\n",
       "    </tr>\n",
       "  </tbody>\n",
       "</table>\n",
       "</div>"
      ],
      "text/plain": [
       "              id                    time                           location  \\\n",
       "8249  us7000hth5 2022-07-26 05:46:22.472  297 km S of Prince Rupert, Canada   \n",
       "\n",
       "      latitude  longitude  depth  magnitude alert  \\\n",
       "8249   51.6928  -131.1816   10.0        4.8  None   \n",
       "\n",
       "                                                    url   eventtype  \\\n",
       "8249  https://earthquake.usgs.gov/earthquakes/eventp...  earthquake   \n",
       "\n",
       "      significance  \n",
       "8249           355  "
      ]
     },
     "execution_count": 55,
     "metadata": {},
     "output_type": "execute_result"
    }
   ],
   "source": [
    "detected_quakes = ['uw61835766','uw61832097','uw61836427',\n",
    "                   'uw61846212','uw61819867','uw61850651','uw61855012']\n",
    "# detected_quakes_whidbey = ['uw61832097','uw61819867','uw61855012','us7000gxl1']\n",
    "\n",
    "# this_event_index = 0\n",
    "# this_id=detected_quakes[this_event_index]\n",
    "\n",
    "this_id = 'us7000hth5'\n",
    "\n",
    "this_event = event_df[event_df.id==this_id]\n",
    "t0 = this_event['time'].iloc[0]\n",
    "\n",
    "this_event"
   ]
  },
  {
   "cell_type": "markdown",
   "id": "567d5ccf",
   "metadata": {},
   "source": [
    "### Load the DAS Data"
   ]
  },
  {
   "cell_type": "code",
   "execution_count": 63,
   "id": "9aacd396",
   "metadata": {
    "scrolled": true
   },
   "outputs": [
    {
     "name": "stdout",
     "output_type": "stream",
     "text": [
      "/data/data5/Converted/whidbey_2022-07-26_05-46*.h5\n",
      "/data/data5/Converted/whidbey_2022-07-26_05-47*.h5\n",
      "/data/data5/Converted/whidbey_2022-07-26_05-48*.h5\n",
      "/data/data5/Converted/whidbey_2022-07-26_05-49*.h5\n",
      "/data/data5/Converted/whidbey_2022-07-26_05-50*.h5\n",
      "/data/data5/Converted/whidbey_2022-07-26_05-51*.h5\n",
      "/data/data5/Converted/whidbey_2022-07-26_05-52*.h5\n",
      "/data/data5/Converted/whidbey_2022-07-26_05-53*.h5\n",
      "/data/data5/Converted/whidbey_2022-07-26_05-54*.h5\n",
      "/data/data5/Converted/whidbey_2022-07-26_05-55*.h5\n"
     ]
    }
   ],
   "source": [
    "# cable = 'seadasn'\n",
    "cable = 'whidbey'\n",
    "record_length = 10 #minutes\n",
    "\n",
    "if cable == 'seadasn':\n",
    "    prefix = 'seadasn'\n",
    "    network_name = 'SeaDAS-N'\n",
    "    if t0 < datetime.datetime(2022, 6, 20, 0, 0, 0):\n",
    "        datastore='/data/data0/seadasn_2022-03-17_2022-06-20/'\n",
    "    else:\n",
    "        datastore='/data/data7/seadasn/'\n",
    "        \n",
    "elif cable == 'whidbey':\n",
    "    prefix = 'whidbey'\n",
    "    network_name='Whidbey-DAS'\n",
    "    datastore = '/data/data5/Converted/'\n",
    "\n",
    "data,dates,attrs = open_sintela_file(prefix,\n",
    "                                     t0,\n",
    "                                     datastore,\n",
    "                                     number_of_files=record_length,\n",
    "                                     verbose=True)\n",
    "x_max=data.shape[1] * attrs['SpatialSamplingInterval']"
   ]
  },
  {
   "cell_type": "code",
   "execution_count": 64,
   "id": "5c50d21a",
   "metadata": {},
   "outputs": [],
   "source": [
    "low_cut = 2\n",
    "hi_cut = 10\n",
    "\n",
    "b,a = butter(2,(low_cut,hi_cut),'bp',fs=attrs['MaximumFrequency']*2)\n",
    "data_filt = filtfilt(b,a,data,axis=0)"
   ]
  },
  {
   "cell_type": "code",
   "execution_count": 65,
   "id": "d2042fb6",
   "metadata": {},
   "outputs": [
    {
     "data": {
      "text/plain": [
       "1 Trace(s) in Stream:\n",
       "IU.COR.00.HH1 | 2022-07-26T05:46:22.008393Z - 2022-07-26T05:56:21.998393Z | 100.0 Hz, 60000 samples"
      ]
     },
     "execution_count": 65,
     "metadata": {},
     "output_type": "execute_result"
    }
   ],
   "source": [
    "client = Client(\"IRIS\")\n",
    "\n",
    "t1 = UTCDateTime( t0.strftime(\"%Y-%m-%dT%H:%M:%S\") )\n",
    "dt = datetime.timedelta(minutes=record_length)\n",
    "t2 = UTCDateTime( (t0+dt).strftime(\"%Y-%m-%dT%H:%M:%S\") )\n",
    "\n",
    "st = client.get_waveforms(\"UW\", \"NOWS\", \"--\", \"HNN\", t1, t2, attach_response=True)\n",
    "# st.decimate(5, strict_length=False, no_filter=False) #everything should be at 40Hz now\n",
    "st2 = client.get_waveforms(\"IU\", \"COR\", \"00\", \"HH1\", t1, t2, attach_response=True)\n",
    "\n",
    "pre_filt = (low_cut/2, low_cut, hi_cut, hi_cut*2)\n",
    "st.remove_response(output='VEL', pre_filt=pre_filt)\n",
    "st2.remove_response(output='VEL', pre_filt=pre_filt)"
   ]
  },
  {
   "cell_type": "code",
   "execution_count": null,
   "id": "30a9fc3d",
   "metadata": {
    "scrolled": false
   },
   "outputs": [],
   "source": [
    "# nombre = f\"figures/{event_df.iloc[catalog_index]['Evid']}.png\"\n",
    "# local_earthquake_quicklook(dates,data_filt,st,st2,x_max,event_df,catalog_index,filename=nombre)\n",
    "\n",
    "\n",
    "stitle=f\"M {this_event['magnitude'].to_numpy()[0]}, \"\\\n",
    "       f\"{this_event['location'].to_numpy()[0]}, \"\\\n",
    "       f\"{str(this_event['time'].to_numpy()[0])[0:-10]} UTC\"\n",
    "\n",
    "\n",
    "local_earthquake_quicklook(dates,data_filt,st,st2,x_max,\n",
    "                           stitle,das_vmax=0.02,\n",
    "                           network_name=network_name)"
   ]
  },
  {
   "cell_type": "code",
   "execution_count": 62,
   "id": "b95ab71c",
   "metadata": {},
   "outputs": [
    {
     "data": {
      "text/plain": [
       "'https://earthquake.usgs.gov/earthquakes/eventpage/us7000hth5'"
      ]
     },
     "execution_count": 62,
     "metadata": {},
     "output_type": "execute_result"
    }
   ],
   "source": [
    "this_event.url.to_list()[0]"
   ]
  },
  {
   "cell_type": "code",
   "execution_count": null,
   "id": "20275941",
   "metadata": {},
   "outputs": [],
   "source": [
    "# from tqdm import tqdm\n",
    "# xc = np.zeros((2*18000-1,174))\n",
    "\n",
    "# for i in tqdm(range(174)):\n",
    "#     xc[:,i] = np.correlate( data_filt[:,30]/max(data_filt[:,30]),\n",
    "#                             data_filt[:,i*10]/max(data_filt[:,i*10]),\n",
    "#                             mode='full')"
   ]
  },
  {
   "cell_type": "code",
   "execution_count": null,
   "id": "a3d1f974",
   "metadata": {},
   "outputs": [],
   "source": [
    "from tqdm import tqdm\n",
    "xc = np.zeros((2*18000-1,174))\n",
    "\n",
    "for i in tqdm(range(174)):\n",
    "    xc[:,i] = np.correlate(np.sign(data_filt[:,30]),\n",
    "                           np.sign(data_filt[:,i*10]),\n",
    "                           mode='full')"
   ]
  },
  {
   "cell_type": "code",
   "execution_count": null,
   "id": "acf1c739",
   "metadata": {},
   "outputs": [],
   "source": [
    "fig,ax=plt.subplots()\n",
    "plt.imshow(xc.T,aspect='auto',vmin=-1000,vmax=1000)\n",
    "# plt.plot(data_filt[:,30])\n",
    "# plt.plot(data_filt[:,40])\n",
    "plt.xlim(18000-1e3,18000+1e3)\n",
    "plt.show()"
   ]
  },
  {
   "cell_type": "code",
   "execution_count": null,
   "id": "180bc2f5",
   "metadata": {},
   "outputs": [],
   "source": [
    "fig,ax=plt.subplots()\n",
    "# plt.imshow(xc.T,aspect='auto',vmin=-0.1,vmax=0.1)\n",
    "plt.plot(data_filt[:,40])\n",
    "plt.plot(data_filt[:,30],alpha=0.5)\n",
    "plt.xlim(6000,8000)\n",
    "plt.show()"
   ]
  },
  {
   "cell_type": "code",
   "execution_count": null,
   "id": "10893c48",
   "metadata": {},
   "outputs": [],
   "source": []
  },
  {
   "cell_type": "code",
   "execution_count": null,
   "id": "6b3ee065",
   "metadata": {},
   "outputs": [],
   "source": []
  }
 ],
 "metadata": {
  "kernelspec": {
   "display_name": "Python 3 (ipykernel)",
   "language": "python",
   "name": "python3"
  },
  "language_info": {
   "codemirror_mode": {
    "name": "ipython",
    "version": 3
   },
   "file_extension": ".py",
   "mimetype": "text/x-python",
   "name": "python",
   "nbconvert_exporter": "python",
   "pygments_lexer": "ipython3",
   "version": "3.7.12"
  }
 },
 "nbformat": 4,
 "nbformat_minor": 5
}
