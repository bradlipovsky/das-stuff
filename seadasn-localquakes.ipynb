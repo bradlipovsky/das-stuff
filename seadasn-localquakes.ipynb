{
 "cells": [
  {
   "cell_type": "markdown",
   "id": "1ae5dd46",
   "metadata": {},
   "source": [
    "# Earthquake seismology with DAS\n",
    "\n",
    "#### Todo List:\n",
    "1. Reference earthquakes by Evid rather than dataframe index\n",
    "2. Make a map of all of the detected events\n",
    "3. Try some xcorr\n",
    "4. Find something for JM to do"
   ]
  },
  {
   "cell_type": "code",
   "execution_count": 8,
   "id": "dfe2c7f7",
   "metadata": {},
   "outputs": [],
   "source": [
    "import h5py\n",
    "import matplotlib.pyplot as plt\n",
    "from scipy.signal import butter, filtfilt\n",
    "import numpy as np\n",
    "import datetime\n",
    "import pandas as pd\n",
    "from dasquakes import sintela_to_datetime, open_sintela_file, get_file_number, local_earthquake_quicklook\n",
    "import obspy\n",
    "from obspy import UTCDateTime\n",
    "from obspy.clients.fdsn import Client\n",
    "from libcomcat.search import search\n",
    "from libcomcat.dataframes import get_summary_data_frame\n",
    "from obspy.signal.trigger import classic_sta_lta\n",
    "from obspy.signal.trigger import plot_trigger\n",
    "import scipy\n",
    "from scipy.fft import fft, ifft"
   ]
  },
  {
   "cell_type": "markdown",
   "id": "f1de69b8",
   "metadata": {},
   "source": [
    "### Get a list of events from USGS"
   ]
  },
  {
   "cell_type": "code",
   "execution_count": null,
   "id": "4554abf7",
   "metadata": {},
   "outputs": [],
   "source": [
    "events = search(starttime = datetime.datetime(2022, 3, 17, 0, 0), \n",
    "                endtime   = datetime.datetime.now(),\n",
    "                maxradiuskm=50, \n",
    "                latitude=47.60, \n",
    "                longitude=-122.33)\n",
    "\n",
    "print(\"Returned %s events\" % len(events))"
   ]
  },
  {
   "cell_type": "code",
   "execution_count": null,
   "id": "452b092e",
   "metadata": {},
   "outputs": [],
   "source": [
    "event_df = get_summary_data_frame(events)\n",
    "event_df = event_df.sort_values(by=['magnitude'],ascending=False)\n",
    "event_df.iloc[0:5]"
   ]
  },
  {
   "cell_type": "markdown",
   "id": "b51522ec",
   "metadata": {},
   "source": [
    "### Choose an event to analyze"
   ]
  },
  {
   "cell_type": "code",
   "execution_count": null,
   "id": "204d4c0e",
   "metadata": {},
   "outputs": [],
   "source": [
    "detected_quakes = ['uw61869652','uw61860022','uw61847792',\n",
    "                   'uw61846087','uw61834816']\n",
    "# detected_quakes_whidbey = ['uw61832097','uw61819867','uw61855012','us7000gxl1']\n",
    "\n",
    "# this_event_index = 0\n",
    "# this_id=detected_quakes[this_event_index]\n",
    "\n",
    "this_id = 'uw61846087'\n",
    "\n",
    "this_event = event_df[event_df.id==this_id]\n",
    "t0 = this_event['time'].iloc[0]\n",
    "\n",
    "this_event"
   ]
  },
  {
   "cell_type": "markdown",
   "id": "567d5ccf",
   "metadata": {},
   "source": [
    "### Load the DAS Data"
   ]
  },
  {
   "cell_type": "code",
   "execution_count": null,
   "id": "9aacd396",
   "metadata": {
    "scrolled": true
   },
   "outputs": [],
   "source": [
    "# cable = 'seadasn'\n",
    "cable = 'seadasn'\n",
    "record_length = 10 #minutes\n",
    "\n",
    "if cable == 'seadasn':\n",
    "    prefix = 'seadasn'\n",
    "    network_name = 'SeaDAS-N'\n",
    "    if t0 < datetime.datetime(2022, 6, 20, 0, 0, 0):\n",
    "        datastore='/data/data0/seadasn_2022-03-17_2022-06-20/'\n",
    "    else:\n",
    "        datastore='/data/data7/seadasn_2022-06-21_2022-10-06/'\n",
    "        \n",
    "elif cable == 'whidbey':\n",
    "    prefix = 'whidbey'\n",
    "    network_name='Whidbey-DAS'\n",
    "    datastore = '/data/data5/Converted/'\n",
    "\n",
    "data,dates,attrs = open_sintela_file(prefix,\n",
    "                                     t0,\n",
    "                                     datastore,\n",
    "                                     number_of_files=record_length,\n",
    "                                     verbose=True)\n",
    "x_max=data.shape[1] * attrs['SpatialSamplingInterval']"
   ]
  },
  {
   "cell_type": "code",
   "execution_count": null,
   "id": "4717393a",
   "metadata": {},
   "outputs": [],
   "source": []
  },
  {
   "cell_type": "code",
   "execution_count": null,
   "id": "5c50d21a",
   "metadata": {},
   "outputs": [],
   "source": [
    "low_cut = 2\n",
    "hi_cut = 10\n",
    "\n",
    "b,a = butter(2,(low_cut,hi_cut),'bp',fs=attrs['MaximumFrequency']*2)\n",
    "data_filt = filtfilt(b,a,data,axis=0)"
   ]
  },
  {
   "cell_type": "code",
   "execution_count": null,
   "id": "d2042fb6",
   "metadata": {},
   "outputs": [],
   "source": [
    "client = Client(\"IRIS\")\n",
    "\n",
    "t1 = UTCDateTime( t0.strftime(\"%Y-%m-%dT%H:%M:%S\") )\n",
    "dt = datetime.timedelta(minutes=record_length)\n",
    "t2 = UTCDateTime( (t0+dt).strftime(\"%Y-%m-%dT%H:%M:%S\") )\n",
    "\n",
    "st = client.get_waveforms(\"UW\", \"NOWS\", \"--\", \"HNN\", t1, t2, attach_response=True)\n",
    "# st.decimate(5, strict_length=False, no_filter=False) #everything should be at 40Hz now\n",
    "st2 = client.get_waveforms(\"IU\", \"COR\", \"00\", \"HH1\", t1, t2, attach_response=True)\n",
    "\n",
    "pre_filt = (low_cut/2, low_cut, hi_cut, hi_cut*2)\n",
    "st.remove_response(output='VEL', pre_filt=pre_filt)\n",
    "st2.remove_response(output='VEL', pre_filt=pre_filt)"
   ]
  },
  {
   "cell_type": "code",
   "execution_count": null,
   "id": "30a9fc3d",
   "metadata": {
    "scrolled": false
   },
   "outputs": [],
   "source": [
    "# nombre = f\"figures/{event_df.iloc[catalog_index]['Evid']}.png\"\n",
    "# local_earthquake_quicklook(dates,data_filt,st,st2,x_max,event_df,catalog_index,filename=nombre)\n",
    "\n",
    "\n",
    "stitle=f\"M {this_event['magnitude'].to_numpy()[0]}, \"\\\n",
    "       f\"{this_event['location'].to_numpy()[0]}, \"\\\n",
    "       f\"{str(this_event['time'].to_numpy()[0])[0:-10]} UTC\"\n",
    "\n",
    "\n",
    "local_earthquake_quicklook(dates,data_filt,st,st2,x_max,\n",
    "                           stitle,das_vmax=0.02,\n",
    "                           network_name=network_name)"
   ]
  },
  {
   "cell_type": "code",
   "execution_count": null,
   "id": "b95ab71c",
   "metadata": {},
   "outputs": [],
   "source": [
    "this_event.url.to_list()[0]"
   ]
  },
  {
   "cell_type": "code",
   "execution_count": null,
   "id": "20275941",
   "metadata": {},
   "outputs": [],
   "source": []
  },
  {
   "cell_type": "code",
   "execution_count": null,
   "id": "a3d1f974",
   "metadata": {},
   "outputs": [],
   "source": [
    "# from tqdm import tqdm\n",
    "# xc = np.zeros((2*18000-1,174))\n",
    "\n",
    "# for i in tqdm(range(174)):\n",
    "#     xc[:,i] = np.correlate(np.sign(data_filt[:,30]),\n",
    "#                            np.sign(data_filt[:,i*10]),\n",
    "#                            mode='full')"
   ]
  },
  {
   "cell_type": "code",
   "execution_count": null,
   "id": "acf1c739",
   "metadata": {},
   "outputs": [],
   "source": [
    "fig,ax=plt.subplots()\n",
    "plt.imshow(xc.T,aspect='auto',vmin=-1000,vmax=1000)\n",
    "# plt.plot(data_filt[:,30])\n",
    "# plt.plot(data_filt[:,40])\n",
    "plt.xlim(18000-1e3,18000+1e3)\n",
    "plt.show()"
   ]
  },
  {
   "cell_type": "code",
   "execution_count": null,
   "id": "180bc2f5",
   "metadata": {},
   "outputs": [],
   "source": [
    "fig,ax=plt.subplots()\n",
    "# plt.imshow(xc.T,aspect='auto',vmin=-0.1,vmax=0.1)\n",
    "plt.plot(data_filt[:,30:40], alpha=0.3)\n",
    "plt.plot(data_filt[:,30],alpha=0.5)\n",
    "#plt.xlim(7050,7200)\n",
    "plt.ylim(-0.5,0.5)\n",
    "plt.show()"
   ]
  },
  {
   "cell_type": "code",
   "execution_count": null,
   "id": "10893c48",
   "metadata": {},
   "outputs": [],
   "source": []
  },
  {
   "cell_type": "code",
   "execution_count": null,
   "id": "32629c3b",
   "metadata": {},
   "outputs": [],
   "source": []
  },
  {
   "cell_type": "code",
   "execution_count": null,
   "id": "dbaf294f",
   "metadata": {},
   "outputs": [],
   "source": []
  },
  {
   "cell_type": "code",
   "execution_count": null,
   "id": "6b3ee065",
   "metadata": {},
   "outputs": [],
   "source": []
  },
  {
   "cell_type": "code",
   "execution_count": null,
   "id": "0c5efa1a",
   "metadata": {},
   "outputs": [],
   "source": []
  },
  {
   "cell_type": "code",
   "execution_count": null,
   "id": "46928087",
   "metadata": {},
   "outputs": [],
   "source": [
    "fig,ax=plt.subplots()\n",
    "\n",
    "for i in data_filt.T[30:100]:\n",
    "    ax.plot(i, c='grey', alpha=0.1)\n",
    "plt.xlim([6800,12000])\n",
    "plt.ylim([-1,1])\n",
    "plt.show()"
   ]
  },
  {
   "cell_type": "code",
   "execution_count": null,
   "id": "21ce6e02",
   "metadata": {},
   "outputs": [],
   "source": [
    "import scipy\n",
    "from scipy.fft import fft, ifft\n",
    "af = fft(data_filt[:,30])\n",
    "bf = fft(data_filt[:,40])\n",
    "c = ifft(af * scipy.conj(bf))\n",
    "\n",
    "time_shift = np.argmax(c)\n",
    "print(time_shift)"
   ]
  },
  {
   "cell_type": "code",
   "execution_count": null,
   "id": "f929e733",
   "metadata": {},
   "outputs": [],
   "source": []
  },
  {
   "cell_type": "code",
   "execution_count": null,
   "id": "28ed4d6c",
   "metadata": {},
   "outputs": [],
   "source": []
  },
  {
   "cell_type": "code",
   "execution_count": null,
   "id": "02ea22d6",
   "metadata": {},
   "outputs": [],
   "source": []
  },
  {
   "cell_type": "code",
   "execution_count": null,
   "id": "d78327ce",
   "metadata": {},
   "outputs": [],
   "source": []
  },
  {
   "cell_type": "code",
   "execution_count": null,
   "id": "01964ebd",
   "metadata": {},
   "outputs": [],
   "source": []
  },
  {
   "cell_type": "code",
   "execution_count": null,
   "id": "f91cbaa3",
   "metadata": {},
   "outputs": [],
   "source": []
  },
  {
   "cell_type": "code",
   "execution_count": null,
   "id": "bf2fcab0",
   "metadata": {},
   "outputs": [],
   "source": []
  },
  {
   "cell_type": "code",
   "execution_count": null,
   "id": "b8984730",
   "metadata": {},
   "outputs": [],
   "source": [
    "import obspy.core.trace \n",
    "das_trace = obspy.core.trace.Trace(data_filt[:,40])\n",
    "das_trace.plot()"
   ]
  },
  {
   "cell_type": "code",
   "execution_count": null,
   "id": "441b35c1",
   "metadata": {},
   "outputs": [],
   "source": [
    "das_trace.stats['sampling_rate'] = 100.0"
   ]
  },
  {
   "cell_type": "code",
   "execution_count": null,
   "id": "f2282911",
   "metadata": {},
   "outputs": [],
   "source": [
    "das_trace.stats.sampling_rate"
   ]
  },
  {
   "cell_type": "code",
   "execution_count": null,
   "id": "01aadf1a",
   "metadata": {},
   "outputs": [],
   "source": []
  },
  {
   "cell_type": "code",
   "execution_count": null,
   "id": "932bc000",
   "metadata": {},
   "outputs": [],
   "source": [
    "from obspy.signal.trigger import classic_sta_lta\n",
    "from obspy.signal.trigger import plot_trigger\n",
    "\n",
    "df = das_trace.stats.sampling_rate\n",
    "cft = classic_sta_lta(das_trace, int(6* df), int(10 * df))\n",
    "\n",
    "plot_trigger(das_trace, cft, 1.5, 0.5)"
   ]
  },
  {
   "cell_type": "code",
   "execution_count": null,
   "id": "0e57b607",
   "metadata": {},
   "outputs": [],
   "source": []
  },
  {
   "cell_type": "code",
   "execution_count": null,
   "id": "b9db384c",
   "metadata": {},
   "outputs": [],
   "source": [
    "#print(cft.argmax())"
   ]
  },
  {
   "cell_type": "code",
   "execution_count": null,
   "id": "1cfccfe0",
   "metadata": {},
   "outputs": [],
   "source": [
    "channel_picks = []\n",
    "chan_number = 0\n",
    "\n",
    "for channel in data_filt.T:\n",
    "    das_trace = obspy.core.trace.Trace(channel)\n",
    "    das_trace.stats['sampling_rate'] = 100.0\n",
    "    df = das_trace.stats.sampling_rate\n",
    "    cft = classic_sta_lta(das_trace, int(5 * df), int(10 * df))\n",
    "    \n",
    "    channel_picks.append( cft.argmax() / 100 )\n",
    "    \n",
    "    chan_number +=1"
   ]
  },
  {
   "cell_type": "code",
   "execution_count": null,
   "id": "8f21447f",
   "metadata": {},
   "outputs": [],
   "source": []
  },
  {
   "cell_type": "code",
   "execution_count": null,
   "id": "7ecd0c88",
   "metadata": {},
   "outputs": [],
   "source": [
    "plt.plot(channel_picks)\n",
    "#plt.ylim([7000,8000])\n",
    "plt.ylabel('Time (s)')\n",
    "plt.xlabel('Channel Number')"
   ]
  },
  {
   "cell_type": "code",
   "execution_count": null,
   "id": "41c18a2e",
   "metadata": {},
   "outputs": [],
   "source": [
    "local_earthquake_quicklook(dates,data_filt,st,st2,x_max,\n",
    "                           stitle,das_vmax=0.02,\n",
    "                           network_name=network_name)"
   ]
  },
  {
   "cell_type": "code",
   "execution_count": null,
   "id": "27c31226",
   "metadata": {},
   "outputs": [],
   "source": []
  },
  {
   "cell_type": "code",
   "execution_count": null,
   "id": "8f66c4d4",
   "metadata": {},
   "outputs": [],
   "source": []
  },
  {
   "cell_type": "code",
   "execution_count": null,
   "id": "5ce17bae",
   "metadata": {},
   "outputs": [],
   "source": []
  },
  {
   "cell_type": "markdown",
   "id": "5f901394",
   "metadata": {},
   "source": [
    "# Routine for picking wave arrival times from lcoal events"
   ]
  },
  {
   "cell_type": "code",
   "execution_count": 36,
   "id": "c9b5c6f5",
   "metadata": {},
   "outputs": [],
   "source": [
    "#Function that returns the DAS data according to USGS earthquake events\n",
    "\n",
    "def das_downloader(this_id, cab='seadasn'):\n",
    "    this_event = event_df[event_df.id==this_id]\n",
    "    t0 = this_event['time'].iloc[0]\n",
    "\n",
    "    cable = cab\n",
    "    record_length = 5 #minutes\n",
    "    \n",
    "    try:\n",
    "        if cable == 'seadasn':\n",
    "            prefix = 'seadasn'\n",
    "            network_name = 'SeaDAS-N'\n",
    "            if t0 < datetime.datetime(2022, 6, 20, 0, 0, 0):\n",
    "                datastore='/data/data0/seadasn_2022-03-17_2022-06-20/'\n",
    "            elif t0 > datetime.datetime(2022, 6, 20, 0, 0, 0) and t0 < datetime.datetime(2022, 10, 6, 0, 0, 0):\n",
    "                datastore='/data/data7/seadasn_2022-06-21_2022-10-06/'\n",
    "            elif t0 > datetime.datetime(2022, 11, 1, 0, 0, 0) and t0 < datetime.datetime(2022, 11, 5, 0, 0, 0):\n",
    "                datastore='/data/data4/seadasn_2021-11-01_2021-11-05/'\n",
    "            elif t0 > datetime.datetime(2022, 10, 13, 0, 0, 0) and t0 < datetime.datetime(2022, 11, 1, 0, 0, 0):\n",
    "                datastore='/data/data1/seadasn_2021-10-13_2021-11-01/'\n",
    "\n",
    "        elif cable == 'whidbey':\n",
    "            prefix = 'whidbey'\n",
    "            network_name='Whidbey-DAS'\n",
    "            datastore = '/data/data5/Converted/'\n",
    "\n",
    "        data,dates,attrs = open_sintela_file(prefix,\n",
    "                                             t0,\n",
    "                                             datastore,\n",
    "                                             number_of_files=record_length,\n",
    "                                             verbose=True)\n",
    "        x_max=data.shape[1] * attrs['SpatialSamplingInterval']\n",
    "        \n",
    "        low_cut = 2\n",
    "        hi_cut = 10\n",
    "\n",
    "        b,a = butter(2,(low_cut,hi_cut),'bp',fs=attrs['MaximumFrequency']*2)\n",
    "        data_filt = filtfilt(b,a,data,axis=0)\n",
    "    \n",
    "    except:\n",
    "        print('No data for this quake!')\n",
    "        data = None\n",
    "        dates = None\n",
    "        attrs = None\n",
    "        x_max = None\n",
    "        data_filt = None\n",
    "    return data, dates, attrs, x_max, this_id, data_filt, t0"
   ]
  },
  {
   "cell_type": "code",
   "execution_count": 37,
   "id": "9121d5d8",
   "metadata": {},
   "outputs": [
    {
     "name": "stdout",
     "output_type": "stream",
     "text": [
      "Returned 57 events\n"
     ]
    }
   ],
   "source": [
    "\n",
    "#Load events (specify search radius)\n",
    "events = search(starttime = datetime.datetime(2022, 3, 17, 0, 0), \n",
    "                endtime   = datetime.datetime.now(),\n",
    "                maxradiuskm=30, \n",
    "                latitude=47.60, \n",
    "                longitude=-122.33)\n",
    "\n",
    "print(\"Returned %s events\" % len(events))\n",
    "\n",
    "#Get list of USGS events\n",
    "event_df = get_summary_data_frame(events)\n",
    "event_df = event_df.sort_values(by=['magnitude'],ascending=False)\n",
    "\n",
    "#Create a list with the event id numbers for data download\n",
    "earthquake_list = event_df['id'].values.tolist()"
   ]
  },
  {
   "cell_type": "code",
   "execution_count": null,
   "id": "a52f408d",
   "metadata": {},
   "outputs": [],
   "source": []
  },
  {
   "cell_type": "code",
   "execution_count": 72,
   "id": "d766f331",
   "metadata": {},
   "outputs": [
    {
     "name": "stdout",
     "output_type": "stream",
     "text": [
      "/data/data7/seadasn_2022-06-21_2022-10-06/seadasn_2022-06-25_13-08*.h5\n",
      "/data/data7/seadasn_2022-06-21_2022-10-06/seadasn_2022-06-25_13-09*.h5\n",
      "/data/data7/seadasn_2022-06-21_2022-10-06/seadasn_2022-06-25_13-10*.h5\n",
      "/data/data7/seadasn_2022-06-21_2022-10-06/seadasn_2022-06-25_13-11*.h5\n",
      "/data/data7/seadasn_2022-06-21_2022-10-06/seadasn_2022-06-25_13-12*.h5\n",
      "1750\n"
     ]
    }
   ],
   "source": [
    "arrival_picks = {}\n",
    "das_quake_attrs = {}\n",
    "\n",
    "for i in earthquake_list[:1]:\n",
    "    \n",
    "    data, dates, attrs, x_max, this_id, data_filt, t0 = das_downloader(i)\n",
    "    \n",
    "    if attrs != None:\n",
    "        \n",
    "        print(attrs['NumberOfLoci'])\n",
    "        \n",
    "    das_quake_attrs[this_id] = attrs\n",
    "    if  x_max != None:\n",
    "        channel_picks = []\n",
    "        chan_number = 0\n",
    "        for channel in data_filt.T:           \n",
    "            das_trace = obspy.core.trace.Trace(channel)\n",
    "            das_trace.stats['sampling_rate'] = 100.0\n",
    "            df = das_trace.stats.sampling_rate\n",
    "            cft = classic_sta_lta(das_trace, int(0.5 * df), int(20 * df))\n",
    "\n",
    "            channel_picks.append( (cft.argmax() / attrs['PulseRate'] - (t0 - dates[0] ).total_seconds() ))#divide ny pulse rate to account for  unit change to seconds \n",
    "\n",
    "            chan_number +=1\n",
    "    \n",
    "    arrival_picks[str(i)] = channel_picks\n",
    "    "
   ]
  },
  {
   "cell_type": "code",
   "execution_count": null,
   "id": "01d0fafa",
   "metadata": {},
   "outputs": [],
   "source": []
  },
  {
   "cell_type": "code",
   "execution_count": null,
   "id": "6867c03d",
   "metadata": {},
   "outputs": [],
   "source": []
  },
  {
   "cell_type": "code",
   "execution_count": null,
   "id": "e91fced0",
   "metadata": {},
   "outputs": [],
   "source": []
  },
  {
   "cell_type": "code",
   "execution_count": 73,
   "id": "80d85a67",
   "metadata": {},
   "outputs": [
    {
     "name": "stdout",
     "output_type": "stream",
     "text": [
      "uw61846087\n"
     ]
    }
   ],
   "source": [
    "for i in arrival_picks:\n",
    "    print(i)"
   ]
  },
  {
   "cell_type": "code",
   "execution_count": 74,
   "id": "05a8415c",
   "metadata": {},
   "outputs": [],
   "source": [
    "arrival_times_1749 = []\n",
    "\n",
    "for i in arrival_picks:\n",
    "    if len(arrival_picks[i]) == 1749:\n",
    "        #print(i)\n",
    "        arrival_times_1749.append(arrival_picks[i])"
   ]
  },
  {
   "cell_type": "code",
   "execution_count": 75,
   "id": "e8a8a092",
   "metadata": {},
   "outputs": [],
   "source": [
    "arrival_times_1749 = np.asarray(arrival_times_1749)"
   ]
  },
  {
   "cell_type": "code",
   "execution_count": 76,
   "id": "2461e6e7",
   "metadata": {},
   "outputs": [
    {
     "data": {
      "image/png": "[encoded data removed]",
      "text/plain": [
       "<Figure size 640x480 with 1 Axes>"
      ]
     },
     "metadata": {},
     "output_type": "display_data"
    }
   ],
   "source": [
    "plt.plot(arrival_times_1749.T)\n",
    "plt.show()\n",
    "#plt.colorbar(label = 'Arrival Time (s)')"
   ]
  },
  {
   "cell_type": "code",
   "execution_count": null,
   "id": "b902b40a",
   "metadata": {},
   "outputs": [],
   "source": []
  },
  {
   "cell_type": "code",
   "execution_count": null,
   "id": "4b462bcf",
   "metadata": {},
   "outputs": [],
   "source": []
  },
  {
   "cell_type": "code",
   "execution_count": null,
   "id": "ba6e5208",
   "metadata": {},
   "outputs": [],
   "source": []
  },
  {
   "cell_type": "code",
   "execution_count": null,
   "id": "0686f27a",
   "metadata": {},
   "outputs": [],
   "source": [
    "#Load the fiber location and calibration data\n",
    "fiber_location = pd.read_csv('fiberroute.csv', header=1)\n",
    "fiber_calibration = pd.read_csv('calibration.csv', header=1)\n",
    "\n",
    "import geopy.distance\n",
    "fiber_distance = []\n",
    "\n",
    "for index, row in fiber_location.iterrows():\n",
    "    if index == 0 :\n",
    "        fiber_distance.append(0)\n",
    "    elif index <= len(fiber_location.index) -1:\n",
    "        coords_1 = (row['Lat'], row['Long'])\n",
    "        coords_2 = (fiber_location.iloc[index-1]['Lat'], fiber_location.iloc[index-1]['Long'])\n",
    "        distance = geopy.distance.geodesic(coords_1, coords_2).m\n",
    "        fiber_distance.append(distance   + fiber_distance[-1])\n",
    "        \n",
    "fiber_location['Fiber Dist'] = fiber_distance\n",
    "\n",
    "#Plot\n",
    "fig, ax = plt.subplots(figsize = (8,7))\n",
    "ax.plot(fiber_location['Long'], fiber_location['Lat'], zorder=1, alpha= 0.2, c='b')\n",
    "ax.plot(fiber_calibration['Long'], fiber_calibration['Lat'], zorder=1, alpha= 0.2, c='g')"
   ]
  },
  {
   "cell_type": "code",
   "execution_count": null,
   "id": "e57bfe83",
   "metadata": {},
   "outputs": [],
   "source": []
  },
  {
   "cell_type": "code",
   "execution_count": null,
   "id": "aece8671",
   "metadata": {},
   "outputs": [],
   "source": []
  },
  {
   "cell_type": "code",
   "execution_count": null,
   "id": "dbef5b64",
   "metadata": {},
   "outputs": [],
   "source": []
  },
  {
   "cell_type": "code",
   "execution_count": null,
   "id": "cd1453fa",
   "metadata": {},
   "outputs": [],
   "source": [
    "#Calculate the fiber distance between points in the fiber location file\n",
    "import geopy.distance\n",
    "fiber_distance = []\n",
    "\n",
    "for index, row in fiber_location.iterrows():\n",
    "    if index == 0 :\n",
    "        fiber_distance.append(0)\n",
    "    elif index <= len(fiber_location.index) -1:\n",
    "        coords_1 = (row['Lat'], row['Long'])\n",
    "        coords_2 = (fiber_location.iloc[index-1]['Lat'], fiber_location.iloc[index-1]['Long'])\n",
    "        distance = geopy.distance.geodesic(coords_1, coords_2).m\n",
    "        fiber_distance.append(distance   + fiber_distance[-1])\n",
    "        \n",
    "fiber_location['Fiber Dist'] = fiber_distance"
   ]
  },
  {
   "cell_type": "code",
   "execution_count": null,
   "id": "2383d024",
   "metadata": {},
   "outputs": [],
   "source": []
  },
  {
   "cell_type": "code",
   "execution_count": null,
   "id": "d82e64a9",
   "metadata": {},
   "outputs": [],
   "source": [
    "fiber_location"
   ]
  },
  {
   "cell_type": "code",
   "execution_count": null,
   "id": "0441e3fd",
   "metadata": {},
   "outputs": [],
   "source": [
    "fiber_calibration"
   ]
  },
  {
   "cell_type": "code",
   "execution_count": null,
   "id": "85faa1e4",
   "metadata": {},
   "outputs": [],
   "source": [
    "opt_dis_merge = []\n",
    "\n",
    "for index_fib, row_fib in fiber_location.iterrows():\n",
    "    l = []\n",
    "    for index_cal, row_cal in fiber_calibration.iterrows():\n",
    "        if row_fib['Lat'] == row_cal['Lat'] and row_fib['Long'] == row_cal['Long']:\n",
    "            l.append(row_cal['Opt Dist'])\n",
    "        else:\n",
    "            pass\n",
    "    if l:\n",
    "        opt_dis_merge.append(l[0])\n",
    "    else:\n",
    "        opt_dis_merge.append(np.nan)"
   ]
  },
  {
   "cell_type": "code",
   "execution_count": null,
   "id": "07517377",
   "metadata": {},
   "outputs": [],
   "source": [
    "fiber_location['Opt Dist'] = opt_dis_merge\n",
    "dis_interp = fiber_location['Opt Dist'].interpolate(method='linear', fill_value='extrapolate')\n",
    "fiber_location['Opt Dist Interp'] = dis_interp\n",
    "\n",
    "fiber_location"
   ]
  },
  {
   "cell_type": "code",
   "execution_count": null,
   "id": "143b0a25",
   "metadata": {},
   "outputs": [],
   "source": []
  },
  {
   "cell_type": "code",
   "execution_count": null,
   "id": "2127d116",
   "metadata": {},
   "outputs": [],
   "source": []
  },
  {
   "cell_type": "code",
   "execution_count": null,
   "id": "6cdb86fd",
   "metadata": {},
   "outputs": [],
   "source": []
  },
  {
   "cell_type": "code",
   "execution_count": null,
   "id": "74910dab",
   "metadata": {},
   "outputs": [],
   "source": []
  },
  {
   "cell_type": "code",
   "execution_count": null,
   "id": "cb10bc1d",
   "metadata": {},
   "outputs": [],
   "source": []
  },
  {
   "cell_type": "markdown",
   "id": "47f9e302",
   "metadata": {},
   "source": [
    "### Routine for interpolating the channel location based off the calibration file."
   ]
  },
  {
   "cell_type": "code",
   "execution_count": null,
   "id": "07a0a932",
   "metadata": {},
   "outputs": [],
   "source": [
    "import geopy.distance\n",
    "\n",
    "#For sintela fiberroute and calibration files\n",
    "def fiber_channel_locator(fiber_file = 'fiberroute.csv', cal_file='calibration.csv', chan_spac = 1749):\n",
    "\n",
    "    fiber_location = pd.read_csv(fiber_file, header=1)\n",
    "    fiber_calibration = pd.read_csv(cal_file, header=1)\n",
    "    fiber_distance = []\n",
    "\n",
    "    for index, row in fiber_location.iterrows():\n",
    "        if index == 0 :\n",
    "            fiber_distance.append(0)\n",
    "        elif index <= len(fiber_location.index) -1:\n",
    "            coords_1 = (row['Lat'], row['Long'])\n",
    "            coords_2 = (fiber_location.iloc[index-1]['Lat'], fiber_location.iloc[index-1]['Long'])\n",
    "            distance = geopy.distance.geodesic(coords_1, coords_2).m\n",
    "            fiber_distance.append(distance   + fiber_distance[-1])\n",
    "\n",
    "    fiber_location['Fiber Dist'] = fiber_distance"
   ]
  },
  {
   "cell_type": "code",
   "execution_count": null,
   "id": "5fac125a",
   "metadata": {},
   "outputs": [],
   "source": []
  },
  {
   "cell_type": "code",
   "execution_count": null,
   "id": "c5d4384b",
   "metadata": {},
   "outputs": [],
   "source": []
  },
  {
   "cell_type": "code",
   "execution_count": null,
   "id": "030887db",
   "metadata": {},
   "outputs": [],
   "source": []
  },
  {
   "cell_type": "code",
   "execution_count": null,
   "id": "7956e56e",
   "metadata": {},
   "outputs": [],
   "source": []
  },
  {
   "cell_type": "code",
   "execution_count": null,
   "id": "f68ed5ba",
   "metadata": {},
   "outputs": [],
   "source": []
  },
  {
   "cell_type": "code",
   "execution_count": null,
   "id": "ce8319c3",
   "metadata": {},
   "outputs": [],
   "source": []
  },
  {
   "cell_type": "markdown",
   "id": "2f1ce772",
   "metadata": {},
   "source": [
    "# Widbey Island Work - \n",
    "## Plotting the fiber location and interpolated optical distance"
   ]
  },
  {
   "cell_type": "code",
   "execution_count": null,
   "id": "39f7fdae",
   "metadata": {},
   "outputs": [],
   "source": [
    "#Load the fiber location and calibration data\n",
    "fiber_location_w = pd.read_csv('fiberroute_whidbey.csv', header=1)\n",
    "fiber_calibration_w = pd.read_csv('calibration_whidbey.csv', header=1)\n",
    "\n",
    "#Plot\n",
    "fig, ax = plt.subplots(figsize = (8,7))\n",
    "ax.plot(fiber_location_w['Long'], fiber_location_w['Lat'], zorder=1, alpha= 0.2, c='b')\n",
    "ax.plot(fiber_calibration_w['Long'], fiber_calibration_w['Lat'], zorder=1, alpha= 0.2, c='g')"
   ]
  },
  {
   "cell_type": "code",
   "execution_count": null,
   "id": "707a1cf7",
   "metadata": {},
   "outputs": [],
   "source": [
    "import geopy.distance\n",
    "fiber_distance_w = []\n",
    "\n",
    "for index, row in fiber_location_w.iterrows():\n",
    "    if index == 0 :\n",
    "        fiber_distance_w.append(0)\n",
    "    elif index <= len(fiber_location_w.index) -1:\n",
    "        coords_1 = (row['Lat'], row['Long'])\n",
    "        coords_2 = (fiber_location_w.iloc[index-1]['Lat'], fiber_location_w.iloc[index-1]['Long'])\n",
    "        distance = geopy.distance.geodesic(coords_1, coords_2).m\n",
    "        fiber_distance_w.append(distance  + fiber_distance_w[-1])\n",
    "        \n",
    "fiber_location_w['Fiber Dist'] = fiber_distance_w"
   ]
  },
  {
   "cell_type": "code",
   "execution_count": null,
   "id": "ebe555df",
   "metadata": {},
   "outputs": [],
   "source": [
    "opt_dis_merge_w = []\n",
    "\n",
    "for index_fib, row_fib in fiber_location_w.iterrows():\n",
    "    l = []\n",
    "    for index_cal, row_cal in fiber_calibration.iterrows():\n",
    "        if row_fib['Lat'] == row_cal['Lat'] and row_fib['Long'] == row_cal['Long']:\n",
    "            l.append(row_cal['Opt Dist'])\n",
    "        else:\n",
    "            pass\n",
    "    if l:\n",
    "        opt_dis_merge_w.append(l[0])\n",
    "    else:\n",
    "        opt_dis_merge_w.append(np.nan)"
   ]
  },
  {
   "cell_type": "code",
   "execution_count": null,
   "id": "be2cb187",
   "metadata": {},
   "outputs": [],
   "source": [
    "fiber_location_w['Opt Dist'] = opt_dis_merge_w\n",
    "dis_interp_w = fiber_location_w['Opt Dist'].interpolate(method='linear', fill_value='extrapolate')\n",
    "fiber_location_w['Opt Dist Interp'] = dis_interp_w\n",
    "\n",
    "fiber_location_w"
   ]
  },
  {
   "cell_type": "code",
   "execution_count": null,
   "id": "c8828ac2",
   "metadata": {},
   "outputs": [],
   "source": []
  },
  {
   "cell_type": "markdown",
   "id": "d0232630",
   "metadata": {},
   "source": [
    "# Constructing the G matrix (distances)"
   ]
  },
  {
   "cell_type": "code",
   "execution_count": null,
   "id": "baad6560",
   "metadata": {},
   "outputs": [],
   "source": [
    "\n",
    "\n"
   ]
  },
  {
   "cell_type": "code",
   "execution_count": null,
   "id": "81492d4f",
   "metadata": {},
   "outputs": [],
   "source": [
    "import geopy.distance\n",
    "import pandas as pd\n",
    "from libcomcat.search import search\n",
    "from libcomcat.dataframes import get_summary_data_frame\n",
    "import h5py\n",
    "import matplotlib.pyplot as plt\n",
    "from scipy.signal import butter, filtfilt\n",
    "import numpy as np\n",
    "import datetime\n",
    "from dasquakes import sintela_to_datetime, open_sintela_file, get_file_number, local_earthquake_quicklook\n",
    "import obspy\n",
    "from obspy import UTCDateTime\n",
    "from obspy.clients.fdsn import Client\n",
    "\n",
    "G =[]\n",
    "\n",
    "fiber_location = pd.read_csv('fiberroute.csv', header=1)\n",
    "fiber_calibration = pd.read_csv('calibration.csv', header=1)\n",
    "\n",
    "events = search(starttime = datetime.datetime(2022, 3, 17, 0, 0), \n",
    "                endtime   = datetime.datetime.now(),\n",
    "                maxradiuskm=50, \n",
    "                latitude=47.60, \n",
    "                longitude=-122.33)\n",
    "\n",
    "event_df = get_summary_data_frame(events)\n",
    "\n",
    "for i in event_df.iloc:\n",
    "    for j in fiber_location.iloc:\n",
    "        coords_1 = (i['latitude'], i['longitude']) #earthquake origin coordinates\n",
    "        coords_2 = (j['Lat'], j['Long'])\n",
    "        distance = geopy.distance.geodesic(coords_1, coords_2).m\n",
    "        G.append(distance)\n",
    "        \n",
    "G = np.asarray(G)\n",
    "G = np.reshape(G, (len(event_df), len(fiber_location)))\n",
    "print(G)"
   ]
  },
  {
   "cell_type": "code",
   "execution_count": null,
   "id": "fae3e2b9",
   "metadata": {},
   "outputs": [],
   "source": []
  },
  {
   "cell_type": "code",
   "execution_count": null,
   "id": "d4b72dde",
   "metadata": {},
   "outputs": [],
   "source": []
  },
  {
   "cell_type": "code",
   "execution_count": null,
   "id": "708051cd",
   "metadata": {},
   "outputs": [],
   "source": []
  }
 ],
 "metadata": {
  "kernelspec": {
   "display_name": "libcomcat",
   "language": "python",
   "name": "libcomcat"
  },
  "language_info": {
   "codemirror_mode": {
    "name": "ipython",
    "version": 3
   },
   "file_extension": ".py",
   "mimetype": "text/x-python",
   "name": "python",
   "nbconvert_exporter": "python",
   "pygments_lexer": "ipython3",
   "version": "3.7.12"
  }
 },
 "nbformat": 4,
 "nbformat_minor": 5
}
