{
 "cells": [
  {
   "cell_type": "code",
   "execution_count": 1,
   "id": "057e107b",
   "metadata": {},
   "outputs": [
    {
     "name": "stdout",
     "output_type": "stream",
     "text": [
      "/bin/bash: {sys.executable}: command not found\r\n"
     ]
    }
   ],
   "source": [
    "import h5py\n",
    "import matplotlib.pyplot as plt\n",
    "import numpy as np\n",
    "from numpy.fft import fft2, fftfreq, fftshift\n",
    "from glob import glob\n",
    "!{sys.executable} -m pip install tqdm\n",
    "from tqdm import tqdm\n",
    "import datetime\n",
    "from time import perf_counter\n",
    "from scipy.sparse.linalg import svds\n",
    "from dasquakes import *"
   ]
  },
  {
   "cell_type": "code",
   "execution_count": 2,
   "id": "7e3f5e80",
   "metadata": {},
   "outputs": [],
   "source": [
    "\n",
    "#def get_fft(filename):\n",
    " #   data_file=h5py.File(filename)\n",
    "  #  data=data_file['/Acquisition/Raw[0]/RawData']\n",
    "   # downsample=10 #q=20\n",
    "    #subseadata=data[::downsample,2450:3200]\n",
    "   # subseadata=data[:,2450:3200]\n",
    "    #ft=fftshift(fft2(subseadata))\n",
    "    #f=fftshift(fftfreq(subseadata.shape[0],d=0.01*downsample))\n",
    "    #k=fftshift(fftfreq(subseadata.shape[1],d=3.17))\n",
    "    #return ft, f, k"
   ]
  },
  {
   "cell_type": "code",
   "execution_count": 3,
   "id": "6d01cf39",
   "metadata": {},
   "outputs": [],
   "source": [
    "#glob.glob('/data/data6/whidbey/whidbey_2022-11-17_00-*-39_UTC.h5')\n",
    "#glob.glob('/data/data6/whidbey/whidbey_2022-11-17_00-00-39_UTC.h5')"
   ]
  },
  {
   "cell_type": "code",
   "execution_count": 4,
   "id": "125f0a11",
   "metadata": {},
   "outputs": [],
   "source": [
    "#filename='/data/data6/whidbey/whidbey_2022-11-17_00-00-39_UTC.h5'\n",
    "#ft,f,k=get_fft(filename)"
   ]
  },
  {
   "cell_type": "code",
   "execution_count": 5,
   "id": "e33a390f",
   "metadata": {},
   "outputs": [],
   "source": [
    "\n",
    "\n",
    "#definition of variables\n",
    "\n",
    "q = 10         # decimation factor\n",
    "N = 300     # number of samples to analyze\n",
    "dt = 60          # number of minutes between samples\n",
    "nt = int(6000/q) # Number of time steps in each sample\n",
    "nx = 375         # Number of subsea channels at Whidbey\n",
    "D = np.zeros((nx*nt,N))\n",
    "t = []\n",
    "start_time=datetime.datetime(2022, 7, 5, 0, 0, 0)"
   ]
  },
  {
   "cell_type": "code",
   "execution_count": 6,
   "id": "03a81257",
   "metadata": {
    "scrolled": false
   },
   "outputs": [
    {
     "name": "stderr",
     "output_type": "stream",
     "text": [
      "  0%|          | 1/300 [00:00<01:06,  4.49it/s]"
     ]
    },
    {
     "name": "stdout",
     "output_type": "stream",
     "text": [
      "error'ed out\n"
     ]
    },
    {
     "name": "stderr",
     "output_type": "stream",
     "text": [
      "  1%|          | 3/300 [00:00<01:12,  4.08it/s]"
     ]
    },
    {
     "name": "stdout",
     "output_type": "stream",
     "text": [
      "error'ed out\n",
      "error'ed out\n"
     ]
    },
    {
     "name": "stderr",
     "output_type": "stream",
     "text": [
      "\r",
      "  1%|▏         | 4/300 [00:00<01:09,  4.27it/s]"
     ]
    },
    {
     "name": "stdout",
     "output_type": "stream",
     "text": [
      "error'ed out\n"
     ]
    },
    {
     "name": "stderr",
     "output_type": "stream",
     "text": [
      "\r",
      "  2%|▏         | 5/300 [00:01<01:07,  4.37it/s]"
     ]
    },
    {
     "name": "stdout",
     "output_type": "stream",
     "text": [
      "error'ed out\n"
     ]
    },
    {
     "name": "stderr",
     "output_type": "stream",
     "text": [
      "  2%|▏         | 7/300 [00:01<01:03,  4.61it/s]"
     ]
    },
    {
     "name": "stdout",
     "output_type": "stream",
     "text": [
      "error'ed out\n",
      "error'ed out\n"
     ]
    },
    {
     "name": "stderr",
     "output_type": "stream",
     "text": [
      "  3%|▎         | 9/300 [00:02<01:00,  4.81it/s]"
     ]
    },
    {
     "name": "stdout",
     "output_type": "stream",
     "text": [
      "error'ed out\n",
      "error'ed out\n"
     ]
    },
    {
     "name": "stderr",
     "output_type": "stream",
     "text": [
      "\r",
      "  3%|▎         | 10/300 [00:02<00:59,  4.84it/s]"
     ]
    },
    {
     "name": "stdout",
     "output_type": "stream",
     "text": [
      "error'ed out\n"
     ]
    },
    {
     "name": "stderr",
     "output_type": "stream",
     "text": [
      "  4%|▍         | 12/300 [00:02<00:58,  4.89it/s]"
     ]
    },
    {
     "name": "stdout",
     "output_type": "stream",
     "text": [
      "error'ed out\n",
      "error'ed out\n"
     ]
    },
    {
     "name": "stderr",
     "output_type": "stream",
     "text": [
      "\r",
      "  4%|▍         | 13/300 [00:02<00:58,  4.91it/s]"
     ]
    },
    {
     "name": "stdout",
     "output_type": "stream",
     "text": [
      "error'ed out\n"
     ]
    },
    {
     "name": "stderr",
     "output_type": "stream",
     "text": [
      "  5%|▌         | 16/300 [00:03<00:57,  4.95it/s]"
     ]
    },
    {
     "name": "stdout",
     "output_type": "stream",
     "text": [
      "error'ed out\n",
      "error'ed out\n",
      "error'ed out\n"
     ]
    },
    {
     "name": "stderr",
     "output_type": "stream",
     "text": [
      "  6%|▌         | 18/300 [00:03<00:56,  4.98it/s]"
     ]
    },
    {
     "name": "stdout",
     "output_type": "stream",
     "text": [
      "error'ed out\n",
      "error'ed out\n"
     ]
    },
    {
     "name": "stderr",
     "output_type": "stream",
     "text": [
      "  7%|▋         | 20/300 [00:04<00:56,  4.98it/s]"
     ]
    },
    {
     "name": "stdout",
     "output_type": "stream",
     "text": [
      "error'ed out\n",
      "error'ed out\n"
     ]
    },
    {
     "name": "stderr",
     "output_type": "stream",
     "text": [
      "  7%|▋         | 22/300 [00:04<00:55,  4.99it/s]"
     ]
    },
    {
     "name": "stdout",
     "output_type": "stream",
     "text": [
      "error'ed out\n",
      "error'ed out\n"
     ]
    },
    {
     "name": "stderr",
     "output_type": "stream",
     "text": [
      "  8%|▊         | 24/300 [00:05<00:55,  5.00it/s]"
     ]
    },
    {
     "name": "stdout",
     "output_type": "stream",
     "text": [
      "error'ed out\n",
      "error'ed out\n"
     ]
    },
    {
     "name": "stderr",
     "output_type": "stream",
     "text": [
      "  9%|▊         | 26/300 [00:05<00:54,  5.01it/s]"
     ]
    },
    {
     "name": "stdout",
     "output_type": "stream",
     "text": [
      "error'ed out\n",
      "error'ed out\n"
     ]
    },
    {
     "name": "stderr",
     "output_type": "stream",
     "text": [
      "\r",
      "  9%|▉         | 27/300 [00:05<00:57,  4.74it/s]"
     ]
    },
    {
     "name": "stdout",
     "output_type": "stream",
     "text": [
      "error'ed out\n"
     ]
    },
    {
     "name": "stderr",
     "output_type": "stream",
     "text": [
      " 10%|▉         | 29/300 [00:06<01:00,  4.47it/s]"
     ]
    },
    {
     "name": "stdout",
     "output_type": "stream",
     "text": [
      "error'ed out\n",
      "error'ed out\n"
     ]
    },
    {
     "name": "stderr",
     "output_type": "stream",
     "text": [
      " 10%|█         | 31/300 [00:06<00:57,  4.72it/s]"
     ]
    },
    {
     "name": "stdout",
     "output_type": "stream",
     "text": [
      "error'ed out\n",
      "error'ed out\n"
     ]
    },
    {
     "name": "stderr",
     "output_type": "stream",
     "text": [
      " 11%|█         | 33/300 [00:06<00:55,  4.85it/s]"
     ]
    },
    {
     "name": "stdout",
     "output_type": "stream",
     "text": [
      "error'ed out\n",
      "error'ed out\n"
     ]
    },
    {
     "name": "stderr",
     "output_type": "stream",
     "text": [
      " 12%|█▏        | 35/300 [00:07<00:54,  4.90it/s]"
     ]
    },
    {
     "name": "stdout",
     "output_type": "stream",
     "text": [
      "error'ed out\n",
      "error'ed out\n"
     ]
    },
    {
     "name": "stderr",
     "output_type": "stream",
     "text": [
      " 12%|█▏        | 37/300 [00:07<00:53,  4.95it/s]"
     ]
    },
    {
     "name": "stdout",
     "output_type": "stream",
     "text": [
      "error'ed out\n",
      "error'ed out\n"
     ]
    },
    {
     "name": "stderr",
     "output_type": "stream",
     "text": [
      " 13%|█▎        | 39/300 [00:08<00:52,  5.01it/s]"
     ]
    },
    {
     "name": "stdout",
     "output_type": "stream",
     "text": [
      "error'ed out\n",
      "error'ed out\n"
     ]
    },
    {
     "name": "stderr",
     "output_type": "stream",
     "text": [
      " 14%|█▎        | 41/300 [00:08<00:51,  5.05it/s]"
     ]
    },
    {
     "name": "stdout",
     "output_type": "stream",
     "text": [
      "error'ed out\n",
      "error'ed out\n"
     ]
    },
    {
     "name": "stderr",
     "output_type": "stream",
     "text": [
      " 14%|█▍        | 43/300 [00:08<00:50,  5.07it/s]"
     ]
    },
    {
     "name": "stdout",
     "output_type": "stream",
     "text": [
      "error'ed out\n",
      "error'ed out\n"
     ]
    },
    {
     "name": "stderr",
     "output_type": "stream",
     "text": [
      "\r",
      " 15%|█▍        | 44/300 [00:09<00:51,  5.01it/s]"
     ]
    },
    {
     "name": "stdout",
     "output_type": "stream",
     "text": [
      "error'ed out\n"
     ]
    },
    {
     "name": "stderr",
     "output_type": "stream",
     "text": [
      " 15%|█▌        | 46/300 [00:09<00:51,  4.96it/s]"
     ]
    },
    {
     "name": "stdout",
     "output_type": "stream",
     "text": [
      "error'ed out\n",
      "error'ed out\n"
     ]
    },
    {
     "name": "stderr",
     "output_type": "stream",
     "text": [
      "\r",
      " 16%|█▌        | 47/300 [00:09<00:51,  4.95it/s]"
     ]
    },
    {
     "name": "stdout",
     "output_type": "stream",
     "text": [
      "error'ed out\n"
     ]
    },
    {
     "name": "stderr",
     "output_type": "stream",
     "text": [
      "\r",
      " 16%|█▌        | 48/300 [00:09<00:51,  4.91it/s]"
     ]
    },
    {
     "name": "stdout",
     "output_type": "stream",
     "text": [
      "error'ed out\n"
     ]
    },
    {
     "name": "stderr",
     "output_type": "stream",
     "text": [
      "\r",
      " 16%|█▋        | 49/300 [00:10<00:55,  4.49it/s]"
     ]
    },
    {
     "name": "stdout",
     "output_type": "stream",
     "text": [
      "error'ed out\n"
     ]
    },
    {
     "name": "stderr",
     "output_type": "stream",
     "text": [
      "\r",
      " 17%|█▋        | 50/300 [00:10<00:54,  4.55it/s]"
     ]
    },
    {
     "name": "stdout",
     "output_type": "stream",
     "text": [
      "error'ed out\n"
     ]
    },
    {
     "name": "stderr",
     "output_type": "stream",
     "text": [
      " 17%|█▋        | 52/300 [00:10<00:52,  4.76it/s]"
     ]
    },
    {
     "name": "stdout",
     "output_type": "stream",
     "text": [
      "error'ed out\n",
      "error'ed out\n"
     ]
    },
    {
     "name": "stderr",
     "output_type": "stream",
     "text": [
      "\r",
      " 18%|█▊        | 53/300 [00:11<00:54,  4.57it/s]"
     ]
    },
    {
     "name": "stdout",
     "output_type": "stream",
     "text": [
      "error'ed out\n"
     ]
    },
    {
     "name": "stderr",
     "output_type": "stream",
     "text": [
      "\r",
      " 18%|█▊        | 54/300 [00:11<00:55,  4.43it/s]"
     ]
    },
    {
     "name": "stdout",
     "output_type": "stream",
     "text": [
      "error'ed out\n"
     ]
    },
    {
     "name": "stderr",
     "output_type": "stream",
     "text": [
      "\r",
      " 18%|█▊        | 55/300 [00:11<00:53,  4.54it/s]"
     ]
    },
    {
     "name": "stdout",
     "output_type": "stream",
     "text": [
      "error'ed out\n"
     ]
    },
    {
     "name": "stderr",
     "output_type": "stream",
     "text": [
      "\r",
      " 19%|█▊        | 56/300 [00:11<00:53,  4.58it/s]"
     ]
    },
    {
     "name": "stdout",
     "output_type": "stream",
     "text": [
      "error'ed out\n"
     ]
    },
    {
     "name": "stderr",
     "output_type": "stream",
     "text": [
      "\r",
      " 19%|█▉        | 57/300 [00:11<00:52,  4.62it/s]"
     ]
    },
    {
     "name": "stdout",
     "output_type": "stream",
     "text": [
      "error'ed out\n"
     ]
    },
    {
     "name": "stderr",
     "output_type": "stream",
     "text": [
      "\r",
      " 19%|█▉        | 58/300 [00:12<00:52,  4.61it/s]"
     ]
    },
    {
     "name": "stdout",
     "output_type": "stream",
     "text": [
      "error'ed out\n"
     ]
    },
    {
     "name": "stderr",
     "output_type": "stream",
     "text": [
      "\r",
      " 20%|█▉        | 59/300 [00:12<00:52,  4.61it/s]"
     ]
    },
    {
     "name": "stdout",
     "output_type": "stream",
     "text": [
      "error'ed out\n"
     ]
    },
    {
     "name": "stderr",
     "output_type": "stream",
     "text": [
      "\r",
      " 20%|██        | 60/300 [00:12<00:51,  4.63it/s]"
     ]
    },
    {
     "name": "stdout",
     "output_type": "stream",
     "text": [
      "error'ed out\n"
     ]
    },
    {
     "name": "stderr",
     "output_type": "stream",
     "text": [
      "\r",
      " 20%|██        | 61/300 [00:12<00:51,  4.65it/s]"
     ]
    },
    {
     "name": "stdout",
     "output_type": "stream",
     "text": [
      "error'ed out\n"
     ]
    },
    {
     "name": "stderr",
     "output_type": "stream",
     "text": [
      " 21%|██        | 63/300 [00:13<00:49,  4.77it/s]"
     ]
    },
    {
     "name": "stdout",
     "output_type": "stream",
     "text": [
      "error'ed out\n",
      "error'ed out\n"
     ]
    },
    {
     "name": "stderr",
     "output_type": "stream",
     "text": [
      " 22%|██▏       | 65/300 [00:13<00:48,  4.82it/s]"
     ]
    },
    {
     "name": "stdout",
     "output_type": "stream",
     "text": [
      "error'ed out\n",
      "error'ed out\n"
     ]
    },
    {
     "name": "stderr",
     "output_type": "stream",
     "text": [
      " 22%|██▏       | 67/300 [00:14<00:47,  4.88it/s]"
     ]
    },
    {
     "name": "stdout",
     "output_type": "stream",
     "text": [
      "error'ed out\n",
      "error'ed out\n"
     ]
    },
    {
     "name": "stderr",
     "output_type": "stream",
     "text": [
      "\r",
      " 23%|██▎       | 68/300 [00:14<00:47,  4.91it/s]"
     ]
    },
    {
     "name": "stdout",
     "output_type": "stream",
     "text": [
      "error'ed out\n"
     ]
    },
    {
     "name": "stderr",
     "output_type": "stream",
     "text": [
      " 23%|██▎       | 70/300 [00:14<00:46,  4.92it/s]"
     ]
    },
    {
     "name": "stdout",
     "output_type": "stream",
     "text": [
      "error'ed out\n",
      "error'ed out\n"
     ]
    },
    {
     "name": "stderr",
     "output_type": "stream",
     "text": [
      " 24%|██▍       | 72/300 [00:15<00:46,  4.92it/s]"
     ]
    },
    {
     "name": "stdout",
     "output_type": "stream",
     "text": [
      "error'ed out\n",
      "error'ed out\n"
     ]
    },
    {
     "name": "stderr",
     "output_type": "stream",
     "text": [
      " 25%|██▍       | 74/300 [00:15<00:45,  4.92it/s]"
     ]
    },
    {
     "name": "stdout",
     "output_type": "stream",
     "text": [
      "error'ed out\n",
      "error'ed out\n"
     ]
    },
    {
     "name": "stderr",
     "output_type": "stream",
     "text": [
      " 26%|██▌       | 77/300 [00:16<00:45,  4.94it/s]"
     ]
    },
    {
     "name": "stdout",
     "output_type": "stream",
     "text": [
      "error'ed out\n",
      "error'ed out\n",
      "error'ed out\n"
     ]
    },
    {
     "name": "stderr",
     "output_type": "stream",
     "text": [
      "\r",
      " 26%|██▌       | 78/300 [00:16<00:44,  4.96it/s]"
     ]
    },
    {
     "name": "stdout",
     "output_type": "stream",
     "text": [
      "error'ed out\n"
     ]
    },
    {
     "name": "stderr",
     "output_type": "stream",
     "text": [
      "\r",
      " 26%|██▋       | 79/300 [00:16<00:47,  4.70it/s]"
     ]
    },
    {
     "name": "stdout",
     "output_type": "stream",
     "text": [
      "error'ed out\n"
     ]
    },
    {
     "name": "stderr",
     "output_type": "stream",
     "text": [
      " 27%|██▋       | 81/300 [00:16<00:46,  4.66it/s]"
     ]
    },
    {
     "name": "stdout",
     "output_type": "stream",
     "text": [
      "error'ed out\n",
      "error'ed out\n"
     ]
    },
    {
     "name": "stderr",
     "output_type": "stream",
     "text": [
      "\r",
      " 27%|██▋       | 82/300 [00:17<00:45,  4.74it/s]"
     ]
    },
    {
     "name": "stdout",
     "output_type": "stream",
     "text": [
      "error'ed out\n"
     ]
    },
    {
     "name": "stderr",
     "output_type": "stream",
     "text": [
      " 28%|██▊       | 84/300 [00:17<00:44,  4.86it/s]"
     ]
    },
    {
     "name": "stdout",
     "output_type": "stream",
     "text": [
      "error'ed out\n",
      "error'ed out\n"
     ]
    },
    {
     "name": "stderr",
     "output_type": "stream",
     "text": [
      "\r",
      " 28%|██▊       | 85/300 [00:17<00:44,  4.85it/s]"
     ]
    },
    {
     "name": "stdout",
     "output_type": "stream",
     "text": [
      "error'ed out\n"
     ]
    },
    {
     "name": "stderr",
     "output_type": "stream",
     "text": [
      "\r",
      " 29%|██▊       | 86/300 [00:17<00:44,  4.81it/s]"
     ]
    },
    {
     "name": "stdout",
     "output_type": "stream",
     "text": [
      "error'ed out\n"
     ]
    },
    {
     "name": "stderr",
     "output_type": "stream",
     "text": [
      " 29%|██▉       | 88/300 [00:18<00:43,  4.86it/s]"
     ]
    },
    {
     "name": "stdout",
     "output_type": "stream",
     "text": [
      "error'ed out\n",
      "error'ed out\n"
     ]
    },
    {
     "name": "stderr",
     "output_type": "stream",
     "text": [
      " 30%|███       | 90/300 [00:18<00:43,  4.88it/s]"
     ]
    },
    {
     "name": "stdout",
     "output_type": "stream",
     "text": [
      "error'ed out\n",
      "error'ed out\n"
     ]
    },
    {
     "name": "stderr",
     "output_type": "stream",
     "text": [
      "\r",
      " 30%|███       | 91/300 [00:18<00:42,  4.89it/s]"
     ]
    },
    {
     "name": "stdout",
     "output_type": "stream",
     "text": [
      "error'ed out\n"
     ]
    },
    {
     "name": "stderr",
     "output_type": "stream",
     "text": [
      " 31%|███       | 93/300 [00:19<00:42,  4.90it/s]"
     ]
    },
    {
     "name": "stdout",
     "output_type": "stream",
     "text": [
      "error'ed out\n",
      "error'ed out\n"
     ]
    },
    {
     "name": "stderr",
     "output_type": "stream",
     "text": [
      " 32%|███▏      | 95/300 [00:19<00:41,  4.91it/s]"
     ]
    },
    {
     "name": "stdout",
     "output_type": "stream",
     "text": [
      "error'ed out\n",
      "error'ed out\n"
     ]
    },
    {
     "name": "stderr",
     "output_type": "stream",
     "text": [
      " 32%|███▏      | 97/300 [00:20<00:41,  4.92it/s]"
     ]
    },
    {
     "name": "stdout",
     "output_type": "stream",
     "text": [
      "error'ed out\n",
      "error'ed out\n"
     ]
    },
    {
     "name": "stderr",
     "output_type": "stream",
     "text": [
      " 33%|███▎      | 100/300 [00:20<00:40,  4.95it/s]"
     ]
    },
    {
     "name": "stdout",
     "output_type": "stream",
     "text": [
      "error'ed out\n",
      "error'ed out\n",
      "error'ed out\n"
     ]
    },
    {
     "name": "stderr",
     "output_type": "stream",
     "text": [
      "\r",
      " 34%|███▎      | 101/300 [00:21<00:40,  4.96it/s]"
     ]
    },
    {
     "name": "stdout",
     "output_type": "stream",
     "text": [
      "error'ed out\n",
      "error'ed out\n"
     ]
    },
    {
     "name": "stderr",
     "output_type": "stream",
     "text": [
      " 34%|███▍      | 103/300 [00:21<00:39,  4.98it/s]"
     ]
    },
    {
     "name": "stdout",
     "output_type": "stream",
     "text": [
      "error'ed out\n"
     ]
    },
    {
     "name": "stderr",
     "output_type": "stream",
     "text": [
      "\r",
      " 35%|███▍      | 104/300 [00:21<00:40,  4.86it/s]"
     ]
    },
    {
     "name": "stdout",
     "output_type": "stream",
     "text": [
      "error'ed out\n"
     ]
    },
    {
     "name": "stderr",
     "output_type": "stream",
     "text": [
      "\r",
      " 35%|███▌      | 105/300 [00:21<00:47,  4.11it/s]"
     ]
    },
    {
     "name": "stdout",
     "output_type": "stream",
     "text": [
      "error'ed out\n"
     ]
    },
    {
     "name": "stderr",
     "output_type": "stream",
     "text": [
      "\r",
      " 35%|███▌      | 106/300 [00:22<00:44,  4.33it/s]"
     ]
    },
    {
     "name": "stdout",
     "output_type": "stream",
     "text": [
      "error'ed out\n"
     ]
    },
    {
     "name": "stderr",
     "output_type": "stream",
     "text": [
      " 36%|███▌      | 108/300 [00:22<00:41,  4.62it/s]"
     ]
    },
    {
     "name": "stdout",
     "output_type": "stream",
     "text": [
      "error'ed out\n",
      "error'ed out\n"
     ]
    },
    {
     "name": "stderr",
     "output_type": "stream",
     "text": [
      " 37%|███▋      | 110/300 [00:22<00:39,  4.77it/s]"
     ]
    },
    {
     "name": "stdout",
     "output_type": "stream",
     "text": [
      "error'ed out\n",
      "error'ed out\n"
     ]
    },
    {
     "name": "stderr",
     "output_type": "stream",
     "text": [
      " 37%|███▋      | 112/300 [00:23<00:38,  4.84it/s]"
     ]
    },
    {
     "name": "stdout",
     "output_type": "stream",
     "text": [
      "error'ed out\n",
      "error'ed out\n"
     ]
    },
    {
     "name": "stderr",
     "output_type": "stream",
     "text": [
      " 38%|███▊      | 114/300 [00:23<00:38,  4.89it/s]"
     ]
    },
    {
     "name": "stdout",
     "output_type": "stream",
     "text": [
      "error'ed out\n",
      "error'ed out\n"
     ]
    },
    {
     "name": "stderr",
     "output_type": "stream",
     "text": [
      " 39%|███▊      | 116/300 [00:24<00:37,  4.91it/s]"
     ]
    },
    {
     "name": "stdout",
     "output_type": "stream",
     "text": [
      "error'ed out\n",
      "error'ed out\n"
     ]
    },
    {
     "name": "stderr",
     "output_type": "stream",
     "text": [
      "\r",
      " 39%|███▉      | 117/300 [00:24<00:37,  4.92it/s]"
     ]
    },
    {
     "name": "stdout",
     "output_type": "stream",
     "text": [
      "error'ed out\n"
     ]
    },
    {
     "name": "stderr",
     "output_type": "stream",
     "text": [
      " 40%|███▉      | 119/300 [00:24<00:36,  4.92it/s]"
     ]
    },
    {
     "name": "stdout",
     "output_type": "stream",
     "text": [
      "error'ed out\n",
      "error'ed out\n"
     ]
    },
    {
     "name": "stderr",
     "output_type": "stream",
     "text": [
      "\r",
      " 40%|████      | 120/300 [00:25<00:36,  4.93it/s]"
     ]
    },
    {
     "name": "stdout",
     "output_type": "stream",
     "text": [
      "error'ed out\n"
     ]
    },
    {
     "name": "stderr",
     "output_type": "stream",
     "text": [
      "\r",
      " 40%|████      | 121/300 [00:25<00:36,  4.94it/s]"
     ]
    },
    {
     "name": "stdout",
     "output_type": "stream",
     "text": [
      "error'ed out\n"
     ]
    },
    {
     "name": "stderr",
     "output_type": "stream",
     "text": [
      " 41%|████      | 123/300 [00:25<00:35,  4.94it/s]"
     ]
    },
    {
     "name": "stdout",
     "output_type": "stream",
     "text": [
      "error'ed out\n",
      "error'ed out\n"
     ]
    },
    {
     "name": "stderr",
     "output_type": "stream",
     "text": [
      " 42%|████▏     | 126/300 [00:26<00:35,  4.96it/s]"
     ]
    },
    {
     "name": "stdout",
     "output_type": "stream",
     "text": [
      "error'ed out\n",
      "error'ed out\n",
      "error'ed out\n"
     ]
    },
    {
     "name": "stderr",
     "output_type": "stream",
     "text": [
      " 43%|████▎     | 128/300 [00:26<00:34,  4.98it/s]"
     ]
    },
    {
     "name": "stdout",
     "output_type": "stream",
     "text": [
      "error'ed out\n",
      "error'ed out\n"
     ]
    },
    {
     "name": "stderr",
     "output_type": "stream",
     "text": [
      "\r",
      " 43%|████▎     | 129/300 [00:26<00:34,  4.95it/s]"
     ]
    },
    {
     "name": "stdout",
     "output_type": "stream",
     "text": [
      "error'ed out\n"
     ]
    },
    {
     "name": "stderr",
     "output_type": "stream",
     "text": [
      "\r",
      " 43%|████▎     | 130/300 [00:27<00:34,  4.89it/s]"
     ]
    },
    {
     "name": "stdout",
     "output_type": "stream",
     "text": [
      "error'ed out\n"
     ]
    },
    {
     "name": "stderr",
     "output_type": "stream",
     "text": [
      "\r",
      " 44%|████▎     | 131/300 [00:27<00:36,  4.65it/s]"
     ]
    },
    {
     "name": "stdout",
     "output_type": "stream",
     "text": [
      "error'ed out\n"
     ]
    },
    {
     "name": "stderr",
     "output_type": "stream",
     "text": [
      "\r",
      " 44%|████▍     | 132/300 [00:27<00:37,  4.52it/s]"
     ]
    },
    {
     "name": "stdout",
     "output_type": "stream",
     "text": [
      "error'ed out\n"
     ]
    },
    {
     "name": "stderr",
     "output_type": "stream",
     "text": [
      "\r",
      " 44%|████▍     | 133/300 [00:27<00:36,  4.63it/s]"
     ]
    },
    {
     "name": "stdout",
     "output_type": "stream",
     "text": [
      "error'ed out\n"
     ]
    },
    {
     "name": "stderr",
     "output_type": "stream",
     "text": [
      "\r",
      " 45%|████▍     | 134/300 [00:27<00:38,  4.27it/s]"
     ]
    },
    {
     "name": "stdout",
     "output_type": "stream",
     "text": [
      "error'ed out\n"
     ]
    },
    {
     "name": "stderr",
     "output_type": "stream",
     "text": [
      "\r",
      " 45%|████▌     | 135/300 [00:28<00:40,  4.05it/s]"
     ]
    },
    {
     "name": "stdout",
     "output_type": "stream",
     "text": [
      "error'ed out\n"
     ]
    },
    {
     "name": "stderr",
     "output_type": "stream",
     "text": [
      "\r",
      " 45%|████▌     | 136/300 [00:28<00:41,  3.91it/s]"
     ]
    },
    {
     "name": "stdout",
     "output_type": "stream",
     "text": [
      "error'ed out\n"
     ]
    },
    {
     "name": "stderr",
     "output_type": "stream",
     "text": [
      " 46%|████▌     | 138/300 [00:29<00:40,  3.99it/s]"
     ]
    },
    {
     "name": "stdout",
     "output_type": "stream",
     "text": [
      "error'ed out\n",
      "error'ed out\n"
     ]
    },
    {
     "name": "stderr",
     "output_type": "stream",
     "text": [
      "\r",
      " 46%|████▋     | 139/300 [00:29<00:41,  3.87it/s]"
     ]
    },
    {
     "name": "stdout",
     "output_type": "stream",
     "text": [
      "error'ed out\n"
     ]
    },
    {
     "name": "stderr",
     "output_type": "stream",
     "text": [
      "\r",
      " 47%|████▋     | 140/300 [00:29<00:42,  3.75it/s]"
     ]
    },
    {
     "name": "stdout",
     "output_type": "stream",
     "text": [
      "error'ed out\n"
     ]
    },
    {
     "name": "stderr",
     "output_type": "stream",
     "text": [
      "\r",
      " 47%|████▋     | 141/300 [00:29<00:40,  3.88it/s]"
     ]
    },
    {
     "name": "stdout",
     "output_type": "stream",
     "text": [
      "error'ed out\n"
     ]
    },
    {
     "name": "stderr",
     "output_type": "stream",
     "text": [
      "\r",
      " 47%|████▋     | 142/300 [00:30<00:40,  3.93it/s]"
     ]
    },
    {
     "name": "stdout",
     "output_type": "stream",
     "text": [
      "error'ed out\n"
     ]
    },
    {
     "name": "stderr",
     "output_type": "stream",
     "text": [
      "\r",
      " 48%|████▊     | 143/300 [00:30<00:40,  3.84it/s]"
     ]
    },
    {
     "name": "stdout",
     "output_type": "stream",
     "text": [
      "error'ed out\n"
     ]
    },
    {
     "name": "stderr",
     "output_type": "stream",
     "text": [
      "\r",
      " 48%|████▊     | 144/300 [00:30<00:41,  3.75it/s]"
     ]
    },
    {
     "name": "stdout",
     "output_type": "stream",
     "text": [
      "error'ed out\n"
     ]
    },
    {
     "name": "stderr",
     "output_type": "stream",
     "text": [
      "\r",
      " 48%|████▊     | 145/300 [00:30<00:39,  3.96it/s]"
     ]
    },
    {
     "name": "stdout",
     "output_type": "stream",
     "text": [
      "error'ed out\n"
     ]
    },
    {
     "name": "stderr",
     "output_type": "stream",
     "text": [
      "\r",
      " 49%|████▊     | 146/300 [00:31<00:39,  3.93it/s]"
     ]
    },
    {
     "name": "stdout",
     "output_type": "stream",
     "text": [
      "error'ed out\n"
     ]
    },
    {
     "name": "stderr",
     "output_type": "stream",
     "text": [
      "\r",
      " 49%|████▉     | 147/300 [00:31<00:39,  3.83it/s]"
     ]
    },
    {
     "name": "stdout",
     "output_type": "stream",
     "text": [
      "error'ed out\n"
     ]
    },
    {
     "name": "stderr",
     "output_type": "stream",
     "text": [
      "\r",
      " 49%|████▉     | 148/300 [00:31<00:38,  3.96it/s]"
     ]
    },
    {
     "name": "stdout",
     "output_type": "stream",
     "text": [
      "error'ed out\n"
     ]
    },
    {
     "name": "stderr",
     "output_type": "stream",
     "text": [
      "\r",
      " 50%|████▉     | 149/300 [00:31<00:37,  4.01it/s]"
     ]
    },
    {
     "name": "stdout",
     "output_type": "stream",
     "text": [
      "error'ed out\n"
     ]
    },
    {
     "name": "stderr",
     "output_type": "stream",
     "text": [
      "\r",
      " 50%|█████     | 150/300 [00:32<00:38,  3.90it/s]"
     ]
    },
    {
     "name": "stdout",
     "output_type": "stream",
     "text": [
      "error'ed out\n",
      "error'ed out\n"
     ]
    },
    {
     "name": "stderr",
     "output_type": "stream",
     "text": [
      " 51%|█████     | 152/300 [00:32<00:36,  4.01it/s]"
     ]
    },
    {
     "name": "stdout",
     "output_type": "stream",
     "text": [
      "error'ed out\n"
     ]
    },
    {
     "name": "stderr",
     "output_type": "stream",
     "text": [
      "\r",
      " 51%|█████     | 153/300 [00:32<00:37,  3.88it/s]"
     ]
    },
    {
     "name": "stdout",
     "output_type": "stream",
     "text": [
      "error'ed out\n"
     ]
    },
    {
     "name": "stderr",
     "output_type": "stream",
     "text": [
      "\r",
      " 51%|█████▏    | 154/300 [00:33<00:35,  4.15it/s]"
     ]
    },
    {
     "name": "stdout",
     "output_type": "stream",
     "text": [
      "error'ed out\n"
     ]
    },
    {
     "name": "stderr",
     "output_type": "stream",
     "text": [
      "\r",
      " 52%|█████▏    | 155/300 [00:33<00:36,  3.98it/s]"
     ]
    },
    {
     "name": "stdout",
     "output_type": "stream",
     "text": [
      "error'ed out\n"
     ]
    },
    {
     "name": "stderr",
     "output_type": "stream",
     "text": [
      "\r",
      " 52%|█████▏    | 156/300 [00:33<00:37,  3.85it/s]"
     ]
    },
    {
     "name": "stdout",
     "output_type": "stream",
     "text": [
      "error'ed out\n"
     ]
    },
    {
     "name": "stderr",
     "output_type": "stream",
     "text": [
      "\r",
      " 52%|█████▏    | 157/300 [00:33<00:35,  4.04it/s]"
     ]
    },
    {
     "name": "stdout",
     "output_type": "stream",
     "text": [
      "error'ed out\n"
     ]
    },
    {
     "name": "stderr",
     "output_type": "stream",
     "text": [
      "\r",
      " 53%|█████▎    | 158/300 [00:34<00:35,  3.98it/s]"
     ]
    },
    {
     "name": "stdout",
     "output_type": "stream",
     "text": [
      "error'ed out\n"
     ]
    },
    {
     "name": "stderr",
     "output_type": "stream",
     "text": [
      "\r",
      " 53%|█████▎    | 159/300 [00:34<00:36,  3.85it/s]"
     ]
    },
    {
     "name": "stdout",
     "output_type": "stream",
     "text": [
      "error'ed out\n"
     ]
    },
    {
     "name": "stderr",
     "output_type": "stream",
     "text": [
      " 54%|█████▎    | 161/300 [00:34<00:34,  3.98it/s]"
     ]
    },
    {
     "name": "stdout",
     "output_type": "stream",
     "text": [
      "error'ed out\n",
      "error'ed out\n"
     ]
    },
    {
     "name": "stderr",
     "output_type": "stream",
     "text": [
      "\r",
      " 54%|█████▍    | 162/300 [00:35<00:35,  3.86it/s]"
     ]
    },
    {
     "name": "stdout",
     "output_type": "stream",
     "text": [
      "error'ed out\n"
     ]
    },
    {
     "name": "stderr",
     "output_type": "stream",
     "text": [
      "\r",
      " 54%|█████▍    | 163/300 [00:35<00:33,  4.14it/s]"
     ]
    },
    {
     "name": "stdout",
     "output_type": "stream",
     "text": [
      "error'ed out\n"
     ]
    },
    {
     "name": "stderr",
     "output_type": "stream",
     "text": [
      "\r",
      " 55%|█████▍    | 164/300 [00:35<00:34,  3.97it/s]"
     ]
    },
    {
     "name": "stdout",
     "output_type": "stream",
     "text": [
      "error'ed out\n"
     ]
    },
    {
     "name": "stderr",
     "output_type": "stream",
     "text": [
      "\r",
      " 55%|█████▌    | 165/300 [00:35<00:35,  3.84it/s]"
     ]
    },
    {
     "name": "stdout",
     "output_type": "stream",
     "text": [
      "error'ed out\n",
      "error'ed out\n"
     ]
    },
    {
     "name": "stderr",
     "output_type": "stream",
     "text": [
      " 56%|█████▌    | 167/300 [00:36<00:33,  3.96it/s]"
     ]
    },
    {
     "name": "stdout",
     "output_type": "stream",
     "text": [
      "error'ed out\n"
     ]
    },
    {
     "name": "stderr",
     "output_type": "stream",
     "text": [
      "\r",
      " 56%|█████▌    | 168/300 [00:36<00:34,  3.84it/s]"
     ]
    },
    {
     "name": "stdout",
     "output_type": "stream",
     "text": [
      "error'ed out\n"
     ]
    },
    {
     "name": "stderr",
     "output_type": "stream",
     "text": [
      "\r",
      " 56%|█████▋    | 169/300 [00:36<00:31,  4.10it/s]"
     ]
    },
    {
     "name": "stdout",
     "output_type": "stream",
     "text": [
      "error'ed out\n"
     ]
    },
    {
     "name": "stderr",
     "output_type": "stream",
     "text": [
      "\r",
      " 57%|█████▋    | 170/300 [00:37<00:32,  3.95it/s]"
     ]
    },
    {
     "name": "stdout",
     "output_type": "stream",
     "text": [
      "error'ed out\n"
     ]
    },
    {
     "name": "stderr",
     "output_type": "stream",
     "text": [
      "\r",
      " 57%|█████▋    | 171/300 [00:37<00:33,  3.88it/s]"
     ]
    },
    {
     "name": "stdout",
     "output_type": "stream",
     "text": [
      "error'ed out\n"
     ]
    },
    {
     "name": "stderr",
     "output_type": "stream",
     "text": [
      "\r",
      " 57%|█████▋    | 172/300 [00:37<00:31,  4.12it/s]"
     ]
    },
    {
     "name": "stdout",
     "output_type": "stream",
     "text": [
      "error'ed out\n"
     ]
    },
    {
     "name": "stderr",
     "output_type": "stream",
     "text": [
      "\r",
      " 58%|█████▊    | 173/300 [00:37<00:32,  3.94it/s]"
     ]
    },
    {
     "name": "stdout",
     "output_type": "stream",
     "text": [
      "error'ed out\n"
     ]
    },
    {
     "name": "stderr",
     "output_type": "stream",
     "text": [
      "\r",
      " 58%|█████▊    | 174/300 [00:38<00:30,  4.08it/s]"
     ]
    },
    {
     "name": "stdout",
     "output_type": "stream",
     "text": [
      "error'ed out\n"
     ]
    },
    {
     "name": "stderr",
     "output_type": "stream",
     "text": [
      "\r",
      " 58%|█████▊    | 175/300 [00:38<00:30,  4.04it/s]"
     ]
    },
    {
     "name": "stdout",
     "output_type": "stream",
     "text": [
      "error'ed out\n"
     ]
    },
    {
     "name": "stderr",
     "output_type": "stream",
     "text": [
      "\r",
      " 59%|█████▊    | 176/300 [00:38<00:31,  3.88it/s]"
     ]
    },
    {
     "name": "stdout",
     "output_type": "stream",
     "text": [
      "error'ed out\n"
     ]
    },
    {
     "name": "stderr",
     "output_type": "stream",
     "text": [
      " 59%|█████▉    | 178/300 [00:39<00:30,  3.97it/s]"
     ]
    },
    {
     "name": "stdout",
     "output_type": "stream",
     "text": [
      "error'ed out\n",
      "error'ed out\n"
     ]
    },
    {
     "name": "stderr",
     "output_type": "stream",
     "text": [
      "\r",
      " 60%|█████▉    | 179/300 [00:39<00:30,  4.03it/s]"
     ]
    },
    {
     "name": "stdout",
     "output_type": "stream",
     "text": [
      "error'ed out\n"
     ]
    },
    {
     "name": "stderr",
     "output_type": "stream",
     "text": [
      "\r",
      " 60%|██████    | 180/300 [00:39<00:29,  4.06it/s]"
     ]
    },
    {
     "name": "stdout",
     "output_type": "stream",
     "text": [
      "error'ed out\n"
     ]
    },
    {
     "name": "stderr",
     "output_type": "stream",
     "text": [
      "\r",
      " 60%|██████    | 181/300 [00:39<00:30,  3.93it/s]"
     ]
    },
    {
     "name": "stdout",
     "output_type": "stream",
     "text": [
      "error'ed out\n"
     ]
    },
    {
     "name": "stderr",
     "output_type": "stream",
     "text": [
      "\r",
      " 61%|██████    | 182/300 [00:40<00:30,  3.87it/s]"
     ]
    },
    {
     "name": "stdout",
     "output_type": "stream",
     "text": [
      "error'ed out\n"
     ]
    },
    {
     "name": "stderr",
     "output_type": "stream",
     "text": [
      "\r",
      " 61%|██████    | 183/300 [00:40<00:28,  4.08it/s]"
     ]
    },
    {
     "name": "stdout",
     "output_type": "stream",
     "text": [
      "error'ed out\n"
     ]
    },
    {
     "name": "stderr",
     "output_type": "stream",
     "text": [
      "\r",
      " 61%|██████▏   | 184/300 [00:40<00:29,  3.94it/s]"
     ]
    },
    {
     "name": "stdout",
     "output_type": "stream",
     "text": [
      "error'ed out\n"
     ]
    },
    {
     "name": "stderr",
     "output_type": "stream",
     "text": [
      "\r",
      " 62%|██████▏   | 185/300 [00:40<00:29,  3.85it/s]"
     ]
    },
    {
     "name": "stdout",
     "output_type": "stream",
     "text": [
      "error'ed out\n"
     ]
    },
    {
     "name": "stderr",
     "output_type": "stream",
     "text": [
      "\r",
      " 62%|██████▏   | 186/300 [00:41<00:27,  4.08it/s]"
     ]
    },
    {
     "name": "stdout",
     "output_type": "stream",
     "text": [
      "error'ed out\n"
     ]
    },
    {
     "name": "stderr",
     "output_type": "stream",
     "text": [
      "\r",
      " 62%|██████▏   | 187/300 [00:41<00:28,  3.94it/s]"
     ]
    },
    {
     "name": "stdout",
     "output_type": "stream",
     "text": [
      "error'ed out\n"
     ]
    },
    {
     "name": "stderr",
     "output_type": "stream",
     "text": [
      "\r",
      " 63%|██████▎   | 188/300 [00:41<00:29,  3.85it/s]"
     ]
    },
    {
     "name": "stdout",
     "output_type": "stream",
     "text": [
      "error'ed out\n"
     ]
    },
    {
     "name": "stderr",
     "output_type": "stream",
     "text": [
      "\r",
      " 63%|██████▎   | 189/300 [00:41<00:27,  4.08it/s]"
     ]
    },
    {
     "name": "stdout",
     "output_type": "stream",
     "text": [
      "error'ed out\n"
     ]
    },
    {
     "name": "stderr",
     "output_type": "stream",
     "text": [
      "\r",
      " 63%|██████▎   | 190/300 [00:42<00:27,  3.94it/s]"
     ]
    },
    {
     "name": "stdout",
     "output_type": "stream",
     "text": [
      "error'ed out\n"
     ]
    },
    {
     "name": "stderr",
     "output_type": "stream",
     "text": [
      "\r",
      " 64%|██████▎   | 191/300 [00:42<00:28,  3.82it/s]"
     ]
    },
    {
     "name": "stdout",
     "output_type": "stream",
     "text": [
      "error'ed out\n"
     ]
    },
    {
     "name": "stderr",
     "output_type": "stream",
     "text": [
      "\r",
      " 64%|██████▍   | 192/300 [00:42<00:26,  4.09it/s]"
     ]
    },
    {
     "name": "stdout",
     "output_type": "stream",
     "text": [
      "error'ed out\n"
     ]
    },
    {
     "name": "stderr",
     "output_type": "stream",
     "text": [
      "\r",
      " 64%|██████▍   | 193/300 [00:42<00:27,  3.94it/s]"
     ]
    },
    {
     "name": "stdout",
     "output_type": "stream",
     "text": [
      "error'ed out\n"
     ]
    },
    {
     "name": "stderr",
     "output_type": "stream",
     "text": [
      "\r",
      " 65%|██████▍   | 194/300 [00:43<00:27,  3.82it/s]"
     ]
    },
    {
     "name": "stdout",
     "output_type": "stream",
     "text": [
      "error'ed out\n"
     ]
    },
    {
     "name": "stderr",
     "output_type": "stream",
     "text": [
      "\r",
      " 65%|██████▌   | 195/300 [00:43<00:25,  4.10it/s]"
     ]
    },
    {
     "name": "stdout",
     "output_type": "stream",
     "text": [
      "error'ed out\n"
     ]
    },
    {
     "name": "stderr",
     "output_type": "stream",
     "text": [
      "\r",
      " 65%|██████▌   | 196/300 [00:43<00:26,  3.94it/s]"
     ]
    },
    {
     "name": "stdout",
     "output_type": "stream",
     "text": [
      "error'ed out\n"
     ]
    },
    {
     "name": "stderr",
     "output_type": "stream",
     "text": [
      "\r",
      " 66%|██████▌   | 197/300 [00:43<00:26,  3.82it/s]"
     ]
    },
    {
     "name": "stdout",
     "output_type": "stream",
     "text": [
      "error'ed out\n"
     ]
    },
    {
     "name": "stderr",
     "output_type": "stream",
     "text": [
      "\r",
      " 66%|██████▌   | 198/300 [00:44<00:24,  4.10it/s]"
     ]
    },
    {
     "name": "stdout",
     "output_type": "stream",
     "text": [
      "error'ed out\n"
     ]
    },
    {
     "name": "stderr",
     "output_type": "stream",
     "text": [
      "\r",
      " 66%|██████▋   | 199/300 [00:44<00:25,  3.96it/s]"
     ]
    },
    {
     "name": "stdout",
     "output_type": "stream",
     "text": [
      "error'ed out\n"
     ]
    },
    {
     "name": "stderr",
     "output_type": "stream",
     "text": [
      "\r",
      " 67%|██████▋   | 200/300 [00:44<00:25,  3.92it/s]"
     ]
    },
    {
     "name": "stdout",
     "output_type": "stream",
     "text": [
      "error'ed out\n"
     ]
    },
    {
     "name": "stderr",
     "output_type": "stream",
     "text": [
      "\r",
      " 67%|██████▋   | 201/300 [00:44<00:24,  4.10it/s]"
     ]
    },
    {
     "name": "stdout",
     "output_type": "stream",
     "text": [
      "error'ed out\n"
     ]
    },
    {
     "name": "stderr",
     "output_type": "stream",
     "text": [
      "\r",
      " 67%|██████▋   | 202/300 [00:45<00:24,  3.95it/s]"
     ]
    },
    {
     "name": "stdout",
     "output_type": "stream",
     "text": [
      "error'ed out\n"
     ]
    },
    {
     "name": "stderr",
     "output_type": "stream",
     "text": [
      "\r",
      " 68%|██████▊   | 203/300 [00:45<00:25,  3.87it/s]"
     ]
    },
    {
     "name": "stdout",
     "output_type": "stream",
     "text": [
      "error'ed out\n"
     ]
    },
    {
     "name": "stderr",
     "output_type": "stream",
     "text": [
      "\r",
      " 68%|██████▊   | 204/300 [00:45<00:23,  4.10it/s]"
     ]
    },
    {
     "name": "stdout",
     "output_type": "stream",
     "text": [
      "error'ed out\n"
     ]
    },
    {
     "name": "stderr",
     "output_type": "stream",
     "text": [
      "\r",
      " 68%|██████▊   | 205/300 [00:45<00:24,  3.94it/s]"
     ]
    },
    {
     "name": "stdout",
     "output_type": "stream",
     "text": [
      "error'ed out\n"
     ]
    },
    {
     "name": "stderr",
     "output_type": "stream",
     "text": [
      " 69%|██████▉   | 207/300 [00:46<00:22,  4.11it/s]"
     ]
    },
    {
     "name": "stdout",
     "output_type": "stream",
     "text": [
      "error'ed out\n",
      "error'ed out\n"
     ]
    },
    {
     "name": "stderr",
     "output_type": "stream",
     "text": [
      "\r",
      " 69%|██████▉   | 208/300 [00:46<00:23,  3.96it/s]"
     ]
    },
    {
     "name": "stdout",
     "output_type": "stream",
     "text": [
      "error'ed out\n"
     ]
    },
    {
     "name": "stderr",
     "output_type": "stream",
     "text": [
      "\r",
      " 70%|██████▉   | 209/300 [00:46<00:23,  3.86it/s]"
     ]
    },
    {
     "name": "stdout",
     "output_type": "stream",
     "text": [
      "error'ed out\n"
     ]
    },
    {
     "name": "stderr",
     "output_type": "stream",
     "text": [
      "\r",
      " 70%|███████   | 210/300 [00:47<00:21,  4.13it/s]"
     ]
    },
    {
     "name": "stdout",
     "output_type": "stream",
     "text": [
      "error'ed out\n"
     ]
    },
    {
     "name": "stderr",
     "output_type": "stream",
     "text": [
      "\r",
      " 70%|███████   | 211/300 [00:47<00:22,  3.93it/s]"
     ]
    },
    {
     "name": "stdout",
     "output_type": "stream",
     "text": [
      "error'ed out\n"
     ]
    },
    {
     "name": "stderr",
     "output_type": "stream",
     "text": [
      "\r",
      " 71%|███████   | 212/300 [00:47<00:22,  3.99it/s]"
     ]
    },
    {
     "name": "stdout",
     "output_type": "stream",
     "text": [
      "error'ed out\n"
     ]
    },
    {
     "name": "stderr",
     "output_type": "stream",
     "text": [
      "\r",
      " 71%|███████   | 213/300 [00:47<00:21,  4.08it/s]"
     ]
    },
    {
     "name": "stdout",
     "output_type": "stream",
     "text": [
      "error'ed out\n"
     ]
    },
    {
     "name": "stderr",
     "output_type": "stream",
     "text": [
      "\r",
      " 71%|███████▏  | 214/300 [00:48<00:21,  3.93it/s]"
     ]
    },
    {
     "name": "stdout",
     "output_type": "stream",
     "text": [
      "error'ed out\n"
     ]
    },
    {
     "name": "stderr",
     "output_type": "stream",
     "text": [
      "\r",
      " 72%|███████▏  | 215/300 [00:48<00:20,  4.11it/s]"
     ]
    },
    {
     "name": "stdout",
     "output_type": "stream",
     "text": [
      "error'ed out\n"
     ]
    },
    {
     "name": "stderr",
     "output_type": "stream",
     "text": [
      "\r",
      " 72%|███████▏  | 216/300 [00:48<00:20,  4.05it/s]"
     ]
    },
    {
     "name": "stdout",
     "output_type": "stream",
     "text": [
      "error'ed out\n"
     ]
    },
    {
     "name": "stderr",
     "output_type": "stream",
     "text": [
      "100%|██████████| 300/300 [01:24<00:00,  3.56it/s]\n"
     ]
    }
   ],
   "source": [
    "#loop to read many files and calculate fk\n",
    "#the variable this column is saving each ft\n",
    "#i is the contador of the loop\n",
    "for i in tqdm(range(N)):\n",
    "       this_time = start_time + i*datetime.timedelta(minutes=dt)\n",
    "       t.append(this_time)\n",
    "       ft,f,k = fk_analysis(this_time,draw_figure=False,downsamplefactor=q,\n",
    "                           record_length = 1)\n",
    "   #     if len(ft) == 1:\n",
    "    #        continue\n",
    "\n",
    "      #  shape = ft.shape\n",
    "       # save_nt = shape[0]\n",
    "        #save_nx = shape[1]\n",
    "\n",
    "        #if  save_nt< nt:\n",
    "         #   allft = np.zeros((nt,nx))\n",
    "          #  allft[0:save_nt,0:nx] = np.abs(ft)\n",
    "          #  this_column =  allft.flatten()\n",
    "      #  elif save_nt > nt:\n",
    "       #      allft= np.zeros((nt,nx))\n",
    "        #     allft[0:nt,0:nx] = np.abs(ft[0:nt,0:nx])\n",
    "         #    this_column =   allft.flatten()\n",
    "        #else:\n",
    "         #   this_column = np.abs( ft.flatten() )\n",
    "        #D[:,i] = this_column\n",
    "       \n",
    "            "
   ]
  },
  {
   "cell_type": "code",
   "execution_count": 7,
   "id": "c03a0e23",
   "metadata": {},
   "outputs": [],
   "source": [
    " #converting the time in a numpy array\n",
    "t=np.array(t)\n"
   ]
  },
  {
   "cell_type": "code",
   "execution_count": 8,
   "id": "28545360",
   "metadata": {},
   "outputs": [
    {
     "data": {
      "text/plain": [
       "(600, 375)"
      ]
     },
     "execution_count": 8,
     "metadata": {},
     "output_type": "execute_result"
    }
   ],
   "source": [
    "#D.shape\n",
    "ft.shape"
   ]
  },
  {
   "cell_type": "code",
   "execution_count": 9,
   "id": "b1075947",
   "metadata": {},
   "outputs": [
    {
     "name": "stdout",
     "output_type": "stream",
     "text": [
      "[[193.89646704  62.51685025  48.83708007 ...  48.83708007  62.51685025\n",
      "  193.89646704]\n",
      " [109.30810618  12.30229122 142.31903485 ...  57.01814445  67.68969703\n",
      "   63.31481555]\n",
      " [ 18.24362749 117.17223646  43.46509698 ... 133.68161055  56.9133493\n",
      "   80.37737224]\n",
      " ...\n",
      " [ 28.11181724  66.9284082   93.87508978 ... 119.02092248  76.70931728\n",
      "   57.3346503 ]\n",
      " [ 80.37737224  56.9133493  133.68161055 ...  43.46509698 117.17223646\n",
      "   18.24362749]\n",
      " [ 63.31481555  67.68969703  57.01814445 ... 142.31903485  12.30229122\n",
      "  109.30810618]]\n"
     ]
    }
   ],
   "source": [
    "absft=np.abs(ft)\n",
    "print(absft)"
   ]
  },
  {
   "cell_type": "markdown",
   "id": "810ccc70",
   "metadata": {},
   "source": [
    "#CALCULATING SVD TO THIS D (JUST 250 )"
   ]
  },
  {
   "cell_type": "code",
   "execution_count": 10,
   "id": "41c346a8",
   "metadata": {},
   "outputs": [
    {
     "data": {
      "text/plain": [
       "[<matplotlib.lines.Line2D at 0x7f0d0e7ba7f0>,\n",
       " <matplotlib.lines.Line2D at 0x7f0d0e7ba860>,\n",
       " <matplotlib.lines.Line2D at 0x7f0d0e7ba908>,\n",
       " <matplotlib.lines.Line2D at 0x7f0d0e7ba9b0>,\n",
       " <matplotlib.lines.Line2D at 0x7f0d0e7baa58>,\n",
       " <matplotlib.lines.Line2D at 0x7f0d0e7bab00>,\n",
       " <matplotlib.lines.Line2D at 0x7f0d0e7baba8>,\n",
       " <matplotlib.lines.Line2D at 0x7f0d0e7bac50>,\n",
       " <matplotlib.lines.Line2D at 0x7f0d0e7bacf8>,\n",
       " <matplotlib.lines.Line2D at 0x7f0d0e7bada0>,\n",
       " <matplotlib.lines.Line2D at 0x7f0d0e7ba7b8>,\n",
       " <matplotlib.lines.Line2D at 0x7f0d0e7baeb8>,\n",
       " <matplotlib.lines.Line2D at 0x7f0d0e7baf60>,\n",
       " <matplotlib.lines.Line2D at 0x7f0d0e7ac048>,\n",
       " <matplotlib.lines.Line2D at 0x7f0d0e7ac0f0>,\n",
       " <matplotlib.lines.Line2D at 0x7f0d0e7ac198>,\n",
       " <matplotlib.lines.Line2D at 0x7f0d0e7ac240>,\n",
       " <matplotlib.lines.Line2D at 0x7f0d0e7ac2e8>,\n",
       " <matplotlib.lines.Line2D at 0x7f0d0e7ac390>,\n",
       " <matplotlib.lines.Line2D at 0x7f0d0e7ac438>,\n",
       " <matplotlib.lines.Line2D at 0x7f0d0e7ac4e0>,\n",
       " <matplotlib.lines.Line2D at 0x7f0d0e7ac588>,\n",
       " <matplotlib.lines.Line2D at 0x7f0d0e7ac630>,\n",
       " <matplotlib.lines.Line2D at 0x7f0d0e7ac6d8>,\n",
       " <matplotlib.lines.Line2D at 0x7f0d0e7ac780>,\n",
       " <matplotlib.lines.Line2D at 0x7f0d0e7ac828>,\n",
       " <matplotlib.lines.Line2D at 0x7f0d0e7ac8d0>,\n",
       " <matplotlib.lines.Line2D at 0x7f0d0e7ac978>,\n",
       " <matplotlib.lines.Line2D at 0x7f0d0e7aca20>,\n",
       " <matplotlib.lines.Line2D at 0x7f0d0e7acac8>,\n",
       " <matplotlib.lines.Line2D at 0x7f0d0e7acb70>,\n",
       " <matplotlib.lines.Line2D at 0x7f0d0e7acc18>,\n",
       " <matplotlib.lines.Line2D at 0x7f0d0e7accc0>,\n",
       " <matplotlib.lines.Line2D at 0x7f0d0e7acd68>,\n",
       " <matplotlib.lines.Line2D at 0x7f0d0e7ace10>,\n",
       " <matplotlib.lines.Line2D at 0x7f0d0e7aceb8>,\n",
       " <matplotlib.lines.Line2D at 0x7f0d0e7acf60>,\n",
       " <matplotlib.lines.Line2D at 0x7f0d0e78f048>,\n",
       " <matplotlib.lines.Line2D at 0x7f0d0e78f0f0>,\n",
       " <matplotlib.lines.Line2D at 0x7f0d0e78f198>,\n",
       " <matplotlib.lines.Line2D at 0x7f0d0e78f240>,\n",
       " <matplotlib.lines.Line2D at 0x7f0d0e78f2e8>,\n",
       " <matplotlib.lines.Line2D at 0x7f0d0e78f390>,\n",
       " <matplotlib.lines.Line2D at 0x7f0d0e78f438>,\n",
       " <matplotlib.lines.Line2D at 0x7f0d0e78f4e0>,\n",
       " <matplotlib.lines.Line2D at 0x7f0d0e78f588>,\n",
       " <matplotlib.lines.Line2D at 0x7f0d0e78f630>,\n",
       " <matplotlib.lines.Line2D at 0x7f0d0e78f6d8>,\n",
       " <matplotlib.lines.Line2D at 0x7f0d0e78f780>,\n",
       " <matplotlib.lines.Line2D at 0x7f0d0e78f828>,\n",
       " <matplotlib.lines.Line2D at 0x7f0d0e78f8d0>,\n",
       " <matplotlib.lines.Line2D at 0x7f0d0e78f978>,\n",
       " <matplotlib.lines.Line2D at 0x7f0d0e78fa20>,\n",
       " <matplotlib.lines.Line2D at 0x7f0d0e78fac8>,\n",
       " <matplotlib.lines.Line2D at 0x7f0d0e78fb70>,\n",
       " <matplotlib.lines.Line2D at 0x7f0d0e78fc18>,\n",
       " <matplotlib.lines.Line2D at 0x7f0d0e78fcc0>,\n",
       " <matplotlib.lines.Line2D at 0x7f0d0e78fd68>,\n",
       " <matplotlib.lines.Line2D at 0x7f0d0e78fe10>,\n",
       " <matplotlib.lines.Line2D at 0x7f0d0e78feb8>,\n",
       " <matplotlib.lines.Line2D at 0x7f0d0e78ff60>,\n",
       " <matplotlib.lines.Line2D at 0x7f0d0e799048>,\n",
       " <matplotlib.lines.Line2D at 0x7f0d0e7990f0>,\n",
       " <matplotlib.lines.Line2D at 0x7f0d0e799198>,\n",
       " <matplotlib.lines.Line2D at 0x7f0d0e799240>,\n",
       " <matplotlib.lines.Line2D at 0x7f0d0e7992e8>,\n",
       " <matplotlib.lines.Line2D at 0x7f0d0e799390>,\n",
       " <matplotlib.lines.Line2D at 0x7f0d0e799438>,\n",
       " <matplotlib.lines.Line2D at 0x7f0d0e7994e0>,\n",
       " <matplotlib.lines.Line2D at 0x7f0d0e799588>,\n",
       " <matplotlib.lines.Line2D at 0x7f0d0e799630>,\n",
       " <matplotlib.lines.Line2D at 0x7f0d0e7996d8>,\n",
       " <matplotlib.lines.Line2D at 0x7f0d0e799780>,\n",
       " <matplotlib.lines.Line2D at 0x7f0d0e799828>,\n",
       " <matplotlib.lines.Line2D at 0x7f0d0e7998d0>,\n",
       " <matplotlib.lines.Line2D at 0x7f0d0e799978>,\n",
       " <matplotlib.lines.Line2D at 0x7f0d0e799a20>,\n",
       " <matplotlib.lines.Line2D at 0x7f0d0e799ac8>,\n",
       " <matplotlib.lines.Line2D at 0x7f0d0e799b70>,\n",
       " <matplotlib.lines.Line2D at 0x7f0d0e799c18>,\n",
       " <matplotlib.lines.Line2D at 0x7f0d0e799cc0>,\n",
       " <matplotlib.lines.Line2D at 0x7f0d0e799d68>,\n",
       " <matplotlib.lines.Line2D at 0x7f0d0e799e10>,\n",
       " <matplotlib.lines.Line2D at 0x7f0d0e799eb8>,\n",
       " <matplotlib.lines.Line2D at 0x7f0d0e799f60>,\n",
       " <matplotlib.lines.Line2D at 0x7f0d0faf7048>,\n",
       " <matplotlib.lines.Line2D at 0x7f0d0faf70f0>,\n",
       " <matplotlib.lines.Line2D at 0x7f0d0faf7198>,\n",
       " <matplotlib.lines.Line2D at 0x7f0d0faf7240>,\n",
       " <matplotlib.lines.Line2D at 0x7f0d0faf72e8>,\n",
       " <matplotlib.lines.Line2D at 0x7f0d0faf7390>,\n",
       " <matplotlib.lines.Line2D at 0x7f0d0faf7438>,\n",
       " <matplotlib.lines.Line2D at 0x7f0d0faf74e0>,\n",
       " <matplotlib.lines.Line2D at 0x7f0d0faf7588>,\n",
       " <matplotlib.lines.Line2D at 0x7f0d0faf7630>,\n",
       " <matplotlib.lines.Line2D at 0x7f0d0faf76d8>,\n",
       " <matplotlib.lines.Line2D at 0x7f0d0faf7780>,\n",
       " <matplotlib.lines.Line2D at 0x7f0d0faf7828>,\n",
       " <matplotlib.lines.Line2D at 0x7f0d0faf78d0>,\n",
       " <matplotlib.lines.Line2D at 0x7f0d0faf7978>,\n",
       " <matplotlib.lines.Line2D at 0x7f0d0faf7a20>,\n",
       " <matplotlib.lines.Line2D at 0x7f0d0faf7ac8>,\n",
       " <matplotlib.lines.Line2D at 0x7f0d0faf7b70>,\n",
       " <matplotlib.lines.Line2D at 0x7f0d0faf7c18>,\n",
       " <matplotlib.lines.Line2D at 0x7f0d0faf7cc0>,\n",
       " <matplotlib.lines.Line2D at 0x7f0d0faf7d68>,\n",
       " <matplotlib.lines.Line2D at 0x7f0d0faf7e10>,\n",
       " <matplotlib.lines.Line2D at 0x7f0d0faf7eb8>,\n",
       " <matplotlib.lines.Line2D at 0x7f0d0faf7f60>,\n",
       " <matplotlib.lines.Line2D at 0x7f0d0faec048>,\n",
       " <matplotlib.lines.Line2D at 0x7f0d0faec0f0>,\n",
       " <matplotlib.lines.Line2D at 0x7f0d0faec198>,\n",
       " <matplotlib.lines.Line2D at 0x7f0d0faec240>,\n",
       " <matplotlib.lines.Line2D at 0x7f0d0faec2e8>,\n",
       " <matplotlib.lines.Line2D at 0x7f0d0faec390>,\n",
       " <matplotlib.lines.Line2D at 0x7f0d0faec438>,\n",
       " <matplotlib.lines.Line2D at 0x7f0d0faec4e0>,\n",
       " <matplotlib.lines.Line2D at 0x7f0d0faec588>,\n",
       " <matplotlib.lines.Line2D at 0x7f0d0faec630>,\n",
       " <matplotlib.lines.Line2D at 0x7f0d0faec6d8>,\n",
       " <matplotlib.lines.Line2D at 0x7f0d0faec780>,\n",
       " <matplotlib.lines.Line2D at 0x7f0d0faec828>,\n",
       " <matplotlib.lines.Line2D at 0x7f0d0faec8d0>,\n",
       " <matplotlib.lines.Line2D at 0x7f0d0faec978>,\n",
       " <matplotlib.lines.Line2D at 0x7f0d0faeca20>,\n",
       " <matplotlib.lines.Line2D at 0x7f0d0faecac8>,\n",
       " <matplotlib.lines.Line2D at 0x7f0d0faecb70>,\n",
       " <matplotlib.lines.Line2D at 0x7f0d0faecc18>,\n",
       " <matplotlib.lines.Line2D at 0x7f0d0faeccc0>,\n",
       " <matplotlib.lines.Line2D at 0x7f0d0faecd68>,\n",
       " <matplotlib.lines.Line2D at 0x7f0d0faece10>,\n",
       " <matplotlib.lines.Line2D at 0x7f0d0faeceb8>,\n",
       " <matplotlib.lines.Line2D at 0x7f0d0faecf60>,\n",
       " <matplotlib.lines.Line2D at 0x7f0d0fae6048>,\n",
       " <matplotlib.lines.Line2D at 0x7f0d0fae60f0>,\n",
       " <matplotlib.lines.Line2D at 0x7f0d0fae6198>,\n",
       " <matplotlib.lines.Line2D at 0x7f0d0fae6240>,\n",
       " <matplotlib.lines.Line2D at 0x7f0d0fae62e8>,\n",
       " <matplotlib.lines.Line2D at 0x7f0d0fae6390>,\n",
       " <matplotlib.lines.Line2D at 0x7f0d0fae6438>,\n",
       " <matplotlib.lines.Line2D at 0x7f0d0fae64e0>,\n",
       " <matplotlib.lines.Line2D at 0x7f0d0fae6588>,\n",
       " <matplotlib.lines.Line2D at 0x7f0d0fae6630>,\n",
       " <matplotlib.lines.Line2D at 0x7f0d0fae66d8>,\n",
       " <matplotlib.lines.Line2D at 0x7f0d0fae6780>,\n",
       " <matplotlib.lines.Line2D at 0x7f0d0fae6828>,\n",
       " <matplotlib.lines.Line2D at 0x7f0d0fae68d0>,\n",
       " <matplotlib.lines.Line2D at 0x7f0d0fae6978>,\n",
       " <matplotlib.lines.Line2D at 0x7f0d0fae6a20>,\n",
       " <matplotlib.lines.Line2D at 0x7f0d0fae6ac8>,\n",
       " <matplotlib.lines.Line2D at 0x7f0d0fae6b70>,\n",
       " <matplotlib.lines.Line2D at 0x7f0d0fae6c18>,\n",
       " <matplotlib.lines.Line2D at 0x7f0d0fae6cc0>,\n",
       " <matplotlib.lines.Line2D at 0x7f0d0fae6d68>,\n",
       " <matplotlib.lines.Line2D at 0x7f0d0fae6e10>,\n",
       " <matplotlib.lines.Line2D at 0x7f0d0fae6eb8>,\n",
       " <matplotlib.lines.Line2D at 0x7f0d0fae6f60>,\n",
       " <matplotlib.lines.Line2D at 0x7f0d0fada048>,\n",
       " <matplotlib.lines.Line2D at 0x7f0d0fada0f0>,\n",
       " <matplotlib.lines.Line2D at 0x7f0d0fada198>,\n",
       " <matplotlib.lines.Line2D at 0x7f0d0fada240>,\n",
       " <matplotlib.lines.Line2D at 0x7f0d0fada2e8>,\n",
       " <matplotlib.lines.Line2D at 0x7f0d0fada390>,\n",
       " <matplotlib.lines.Line2D at 0x7f0d0fada438>,\n",
       " <matplotlib.lines.Line2D at 0x7f0d0fada4e0>,\n",
       " <matplotlib.lines.Line2D at 0x7f0d0fada588>,\n",
       " <matplotlib.lines.Line2D at 0x7f0d0fada630>,\n",
       " <matplotlib.lines.Line2D at 0x7f0d0fada6d8>,\n",
       " <matplotlib.lines.Line2D at 0x7f0d0fada780>,\n",
       " <matplotlib.lines.Line2D at 0x7f0d0fada828>,\n",
       " <matplotlib.lines.Line2D at 0x7f0d0fada8d0>,\n",
       " <matplotlib.lines.Line2D at 0x7f0d0fada978>,\n",
       " <matplotlib.lines.Line2D at 0x7f0d0fadaa20>,\n",
       " <matplotlib.lines.Line2D at 0x7f0d0fadaac8>,\n",
       " <matplotlib.lines.Line2D at 0x7f0d0fadab70>,\n",
       " <matplotlib.lines.Line2D at 0x7f0d0fadac18>,\n",
       " <matplotlib.lines.Line2D at 0x7f0d0fadacc0>,\n",
       " <matplotlib.lines.Line2D at 0x7f0d0fadad68>,\n",
       " <matplotlib.lines.Line2D at 0x7f0d0fadae10>,\n",
       " <matplotlib.lines.Line2D at 0x7f0d0fadaeb8>,\n",
       " <matplotlib.lines.Line2D at 0x7f0d0fadaf60>,\n",
       " <matplotlib.lines.Line2D at 0x7f0d0face048>,\n",
       " <matplotlib.lines.Line2D at 0x7f0d0face0f0>,\n",
       " <matplotlib.lines.Line2D at 0x7f0d0face198>,\n",
       " <matplotlib.lines.Line2D at 0x7f0d0face240>,\n",
       " <matplotlib.lines.Line2D at 0x7f0d0face2e8>,\n",
       " <matplotlib.lines.Line2D at 0x7f0d0face390>,\n",
       " <matplotlib.lines.Line2D at 0x7f0d0face438>,\n",
       " <matplotlib.lines.Line2D at 0x7f0d0face4e0>,\n",
       " <matplotlib.lines.Line2D at 0x7f0d0face588>,\n",
       " <matplotlib.lines.Line2D at 0x7f0d0face630>,\n",
       " <matplotlib.lines.Line2D at 0x7f0d0face6d8>,\n",
       " <matplotlib.lines.Line2D at 0x7f0d0face780>,\n",
       " <matplotlib.lines.Line2D at 0x7f0d0face828>,\n",
       " <matplotlib.lines.Line2D at 0x7f0d0face8d0>,\n",
       " <matplotlib.lines.Line2D at 0x7f0d0face978>,\n",
       " <matplotlib.lines.Line2D at 0x7f0d0facea20>,\n",
       " <matplotlib.lines.Line2D at 0x7f0d0faceac8>,\n",
       " <matplotlib.lines.Line2D at 0x7f0d0faceb70>,\n",
       " <matplotlib.lines.Line2D at 0x7f0d0facec18>,\n",
       " <matplotlib.lines.Line2D at 0x7f0d0facecc0>,\n",
       " <matplotlib.lines.Line2D at 0x7f0d0faced68>,\n",
       " <matplotlib.lines.Line2D at 0x7f0d0facee10>,\n",
       " <matplotlib.lines.Line2D at 0x7f0d0faceeb8>,\n",
       " <matplotlib.lines.Line2D at 0x7f0d0facef60>,\n",
       " <matplotlib.lines.Line2D at 0x7f0d0fad6048>,\n",
       " <matplotlib.lines.Line2D at 0x7f0d0fad60f0>,\n",
       " <matplotlib.lines.Line2D at 0x7f0d0fad6198>,\n",
       " <matplotlib.lines.Line2D at 0x7f0d0fad6240>,\n",
       " <matplotlib.lines.Line2D at 0x7f0d0fad62e8>,\n",
       " <matplotlib.lines.Line2D at 0x7f0d0fad6390>,\n",
       " <matplotlib.lines.Line2D at 0x7f0d0fad6438>,\n",
       " <matplotlib.lines.Line2D at 0x7f0d0fad64e0>,\n",
       " <matplotlib.lines.Line2D at 0x7f0d0fad6588>,\n",
       " <matplotlib.lines.Line2D at 0x7f0d0fad6630>,\n",
       " <matplotlib.lines.Line2D at 0x7f0d0fad66d8>,\n",
       " <matplotlib.lines.Line2D at 0x7f0d0fad6780>,\n",
       " <matplotlib.lines.Line2D at 0x7f0d0fad6828>,\n",
       " <matplotlib.lines.Line2D at 0x7f0d0fad68d0>,\n",
       " <matplotlib.lines.Line2D at 0x7f0d0fad6978>,\n",
       " <matplotlib.lines.Line2D at 0x7f0d0fad6a20>,\n",
       " <matplotlib.lines.Line2D at 0x7f0d0fad6ac8>,\n",
       " <matplotlib.lines.Line2D at 0x7f0d0fad6b70>,\n",
       " <matplotlib.lines.Line2D at 0x7f0d0fad6c18>,\n",
       " <matplotlib.lines.Line2D at 0x7f0d0fad6cc0>,\n",
       " <matplotlib.lines.Line2D at 0x7f0d0fad6d68>,\n",
       " <matplotlib.lines.Line2D at 0x7f0d0fad6e10>,\n",
       " <matplotlib.lines.Line2D at 0x7f0d0fad6eb8>,\n",
       " <matplotlib.lines.Line2D at 0x7f0d0fad6f60>,\n",
       " <matplotlib.lines.Line2D at 0x7f0d0fabe048>,\n",
       " <matplotlib.lines.Line2D at 0x7f0d0fabe0f0>,\n",
       " <matplotlib.lines.Line2D at 0x7f0d0fabe198>,\n",
       " <matplotlib.lines.Line2D at 0x7f0d0fabe240>,\n",
       " <matplotlib.lines.Line2D at 0x7f0d0fabe2e8>,\n",
       " <matplotlib.lines.Line2D at 0x7f0d0fabe390>,\n",
       " <matplotlib.lines.Line2D at 0x7f0d0fabe438>,\n",
       " <matplotlib.lines.Line2D at 0x7f0d0fabe4e0>,\n",
       " <matplotlib.lines.Line2D at 0x7f0d0fabe588>,\n",
       " <matplotlib.lines.Line2D at 0x7f0d0fabe630>,\n",
       " <matplotlib.lines.Line2D at 0x7f0d0fabe6d8>,\n",
       " <matplotlib.lines.Line2D at 0x7f0d0fabe780>,\n",
       " <matplotlib.lines.Line2D at 0x7f0d0fabe828>,\n",
       " <matplotlib.lines.Line2D at 0x7f0d0fabe8d0>,\n",
       " <matplotlib.lines.Line2D at 0x7f0d0fabe978>,\n",
       " <matplotlib.lines.Line2D at 0x7f0d0fabea20>,\n",
       " <matplotlib.lines.Line2D at 0x7f0d0fabeac8>,\n",
       " <matplotlib.lines.Line2D at 0x7f0d0fabeb70>,\n",
       " <matplotlib.lines.Line2D at 0x7f0d0fabec18>,\n",
       " <matplotlib.lines.Line2D at 0x7f0d0fabecc0>,\n",
       " <matplotlib.lines.Line2D at 0x7f0d0fabed68>,\n",
       " <matplotlib.lines.Line2D at 0x7f0d0fabee10>,\n",
       " <matplotlib.lines.Line2D at 0x7f0d0fabeeb8>,\n",
       " <matplotlib.lines.Line2D at 0x7f0d0fabef60>,\n",
       " <matplotlib.lines.Line2D at 0x7f0d0e6f9048>,\n",
       " <matplotlib.lines.Line2D at 0x7f0d0e6f90f0>,\n",
       " <matplotlib.lines.Line2D at 0x7f0d0e6f9198>,\n",
       " <matplotlib.lines.Line2D at 0x7f0d0e6f9240>,\n",
       " <matplotlib.lines.Line2D at 0x7f0d0e6f92e8>,\n",
       " <matplotlib.lines.Line2D at 0x7f0d0e6f9390>,\n",
       " <matplotlib.lines.Line2D at 0x7f0d0e6f9438>,\n",
       " <matplotlib.lines.Line2D at 0x7f0d0e6f94e0>,\n",
       " <matplotlib.lines.Line2D at 0x7f0d0e6f9588>,\n",
       " <matplotlib.lines.Line2D at 0x7f0d0e6f9630>,\n",
       " <matplotlib.lines.Line2D at 0x7f0d0e6f96d8>,\n",
       " <matplotlib.lines.Line2D at 0x7f0d0e6f9780>,\n",
       " <matplotlib.lines.Line2D at 0x7f0d0e6f9828>,\n",
       " <matplotlib.lines.Line2D at 0x7f0d0e6f98d0>,\n",
       " <matplotlib.lines.Line2D at 0x7f0d0e6f9978>,\n",
       " <matplotlib.lines.Line2D at 0x7f0d0e6f9a20>,\n",
       " <matplotlib.lines.Line2D at 0x7f0d0e6f9ac8>,\n",
       " <matplotlib.lines.Line2D at 0x7f0d0e6f9b70>,\n",
       " <matplotlib.lines.Line2D at 0x7f0d0e6f9c18>,\n",
       " <matplotlib.lines.Line2D at 0x7f0d0e6f9cc0>,\n",
       " <matplotlib.lines.Line2D at 0x7f0d0e6f9d68>,\n",
       " <matplotlib.lines.Line2D at 0x7f0d0e6f9e10>,\n",
       " <matplotlib.lines.Line2D at 0x7f0d0e6f9eb8>,\n",
       " <matplotlib.lines.Line2D at 0x7f0d0e6f9f60>,\n",
       " <matplotlib.lines.Line2D at 0x7f0d0e6ee048>,\n",
       " <matplotlib.lines.Line2D at 0x7f0d0e6ee0f0>,\n",
       " <matplotlib.lines.Line2D at 0x7f0d0e6ee198>,\n",
       " <matplotlib.lines.Line2D at 0x7f0d0e6ee240>,\n",
       " <matplotlib.lines.Line2D at 0x7f0d0e6ee2e8>,\n",
       " <matplotlib.lines.Line2D at 0x7f0d0e6ee390>,\n",
       " <matplotlib.lines.Line2D at 0x7f0d0e6ee438>,\n",
       " <matplotlib.lines.Line2D at 0x7f0d0e6ee4e0>,\n",
       " <matplotlib.lines.Line2D at 0x7f0d0e6ee588>,\n",
       " <matplotlib.lines.Line2D at 0x7f0d0e6ee630>,\n",
       " <matplotlib.lines.Line2D at 0x7f0d0e6ee6d8>,\n",
       " <matplotlib.lines.Line2D at 0x7f0d0e6ee780>,\n",
       " <matplotlib.lines.Line2D at 0x7f0d0e6ee828>,\n",
       " <matplotlib.lines.Line2D at 0x7f0d0e6ee8d0>,\n",
       " <matplotlib.lines.Line2D at 0x7f0d0e6ee978>,\n",
       " <matplotlib.lines.Line2D at 0x7f0d0e6eea20>,\n",
       " <matplotlib.lines.Line2D at 0x7f0d0e6eeac8>,\n",
       " <matplotlib.lines.Line2D at 0x7f0d0e6eeb70>,\n",
       " <matplotlib.lines.Line2D at 0x7f0d0e6eec18>,\n",
       " <matplotlib.lines.Line2D at 0x7f0d0e6eecc0>,\n",
       " <matplotlib.lines.Line2D at 0x7f0d0e6eed68>,\n",
       " <matplotlib.lines.Line2D at 0x7f0d0e6eee10>,\n",
       " <matplotlib.lines.Line2D at 0x7f0d0e6eeeb8>,\n",
       " <matplotlib.lines.Line2D at 0x7f0d0e6eef60>,\n",
       " <matplotlib.lines.Line2D at 0x7f0d0e6e5048>,\n",
       " <matplotlib.lines.Line2D at 0x7f0d0e6e50f0>,\n",
       " <matplotlib.lines.Line2D at 0x7f0d0e6e5198>,\n",
       " <matplotlib.lines.Line2D at 0x7f0d0e6e5240>,\n",
       " <matplotlib.lines.Line2D at 0x7f0d0e6e52e8>,\n",
       " <matplotlib.lines.Line2D at 0x7f0d0e6e5390>,\n",
       " <matplotlib.lines.Line2D at 0x7f0d0e6e5438>,\n",
       " <matplotlib.lines.Line2D at 0x7f0d0e6e54e0>,\n",
       " <matplotlib.lines.Line2D at 0x7f0d0e6e5588>,\n",
       " <matplotlib.lines.Line2D at 0x7f0d0e6e5630>,\n",
       " <matplotlib.lines.Line2D at 0x7f0d0e6e56d8>,\n",
       " <matplotlib.lines.Line2D at 0x7f0d0e6e5780>,\n",
       " <matplotlib.lines.Line2D at 0x7f0d0e6e5828>,\n",
       " <matplotlib.lines.Line2D at 0x7f0d0e6e58d0>,\n",
       " <matplotlib.lines.Line2D at 0x7f0d0e6e5978>,\n",
       " <matplotlib.lines.Line2D at 0x7f0d0e6e5a20>,\n",
       " <matplotlib.lines.Line2D at 0x7f0d0e6e5ac8>,\n",
       " <matplotlib.lines.Line2D at 0x7f0d0e6e5b70>,\n",
       " <matplotlib.lines.Line2D at 0x7f0d0e6e5c18>,\n",
       " <matplotlib.lines.Line2D at 0x7f0d0e6e5cc0>,\n",
       " <matplotlib.lines.Line2D at 0x7f0d0e6e5d68>,\n",
       " <matplotlib.lines.Line2D at 0x7f0d0e6e5e10>,\n",
       " <matplotlib.lines.Line2D at 0x7f0d0e6e5eb8>,\n",
       " <matplotlib.lines.Line2D at 0x7f0d0e6e5f60>,\n",
       " <matplotlib.lines.Line2D at 0x7f0d0e6dc048>,\n",
       " <matplotlib.lines.Line2D at 0x7f0d0e6dc0f0>,\n",
       " <matplotlib.lines.Line2D at 0x7f0d0e6dc198>,\n",
       " <matplotlib.lines.Line2D at 0x7f0d0e6dc240>,\n",
       " <matplotlib.lines.Line2D at 0x7f0d0e6dc2e8>,\n",
       " <matplotlib.lines.Line2D at 0x7f0d0e6dc390>,\n",
       " <matplotlib.lines.Line2D at 0x7f0d0e6dc438>,\n",
       " <matplotlib.lines.Line2D at 0x7f0d0e6dc4e0>,\n",
       " <matplotlib.lines.Line2D at 0x7f0d0e6dc588>,\n",
       " <matplotlib.lines.Line2D at 0x7f0d0e6dc630>,\n",
       " <matplotlib.lines.Line2D at 0x7f0d0e6dc6d8>,\n",
       " <matplotlib.lines.Line2D at 0x7f0d0e6dc780>,\n",
       " <matplotlib.lines.Line2D at 0x7f0d0e6dc828>,\n",
       " <matplotlib.lines.Line2D at 0x7f0d0e6dc8d0>,\n",
       " <matplotlib.lines.Line2D at 0x7f0d0e6dc978>,\n",
       " <matplotlib.lines.Line2D at 0x7f0d0e6dca20>,\n",
       " <matplotlib.lines.Line2D at 0x7f0d0e6dcac8>,\n",
       " <matplotlib.lines.Line2D at 0x7f0d0e6dcb70>,\n",
       " <matplotlib.lines.Line2D at 0x7f0d0e6dcc18>,\n",
       " <matplotlib.lines.Line2D at 0x7f0d0e6dccc0>,\n",
       " <matplotlib.lines.Line2D at 0x7f0d0e6dcd68>,\n",
       " <matplotlib.lines.Line2D at 0x7f0d0e6dce10>,\n",
       " <matplotlib.lines.Line2D at 0x7f0d0e6dceb8>,\n",
       " <matplotlib.lines.Line2D at 0x7f0d0e6dcf60>,\n",
       " <matplotlib.lines.Line2D at 0x7f0d0e6d3048>,\n",
       " <matplotlib.lines.Line2D at 0x7f0d0e6d30f0>,\n",
       " <matplotlib.lines.Line2D at 0x7f0d0e6d3198>,\n",
       " <matplotlib.lines.Line2D at 0x7f0d0e6d3240>,\n",
       " <matplotlib.lines.Line2D at 0x7f0d0e6d32e8>,\n",
       " <matplotlib.lines.Line2D at 0x7f0d0e6d3390>,\n",
       " <matplotlib.lines.Line2D at 0x7f0d0e6d3438>,\n",
       " <matplotlib.lines.Line2D at 0x7f0d0e6d34e0>,\n",
       " <matplotlib.lines.Line2D at 0x7f0d0e6d3588>,\n",
       " <matplotlib.lines.Line2D at 0x7f0d0e6d3630>,\n",
       " <matplotlib.lines.Line2D at 0x7f0d0e6d36d8>,\n",
       " <matplotlib.lines.Line2D at 0x7f0d0e6d3780>,\n",
       " <matplotlib.lines.Line2D at 0x7f0d0e6d3828>,\n",
       " <matplotlib.lines.Line2D at 0x7f0d0e6d38d0>,\n",
       " <matplotlib.lines.Line2D at 0x7f0d0e6d3978>,\n",
       " <matplotlib.lines.Line2D at 0x7f0d0e6d3a20>,\n",
       " <matplotlib.lines.Line2D at 0x7f0d0e6d3ac8>,\n",
       " <matplotlib.lines.Line2D at 0x7f0d0e6d3b70>,\n",
       " <matplotlib.lines.Line2D at 0x7f0d0e6d3c18>,\n",
       " <matplotlib.lines.Line2D at 0x7f0d0e6d3cc0>,\n",
       " <matplotlib.lines.Line2D at 0x7f0d0e6d3d68>,\n",
       " <matplotlib.lines.Line2D at 0x7f0d0e6d3e10>,\n",
       " <matplotlib.lines.Line2D at 0x7f0d0e6d3eb8>,\n",
       " <matplotlib.lines.Line2D at 0x7f0d0e6d3f60>,\n",
       " <matplotlib.lines.Line2D at 0x7f0d0e6cb048>,\n",
       " <matplotlib.lines.Line2D at 0x7f0d0e6cb0f0>]"
      ]
     },
     "execution_count": 10,
     "metadata": {},
     "output_type": "execute_result"
    },
    {
     "data": {
      "image/png": "[encoded data removed]",
      "text/plain": [
       "<Figure size 432x288 with 1 Axes>"
      ]
     },
     "metadata": {
      "needs_background": "light"
     },
     "output_type": "display_data"
    }
   ],
   "source": [
    "plt.plot(np.log10(absft))\n",
    "#ns = N\n",
    "#nPoints=ns\n",
    "#Davg = np.mean(D,axis=1)                  # Compute mean\n",
    "#B = D - np.tile(Davg,(nPoints,1)).T       # Mean-subtracted data\n",
    "#print(B.shape)"
   ]
  },
  {
   "cell_type": "code",
   "execution_count": 11,
   "id": "16eca365",
   "metadata": {},
   "outputs": [
    {
     "data": {
      "text/plain": [
       "Text(0.5, 1.0, 'F-k plot for whidbey Island')"
      ]
     },
     "execution_count": 11,
     "metadata": {},
     "output_type": "execute_result"
    },
    {
     "data": {
      "image/png": "[encoded data removed]",
      "text/plain": [
       "<Figure size 432x288 with 1 Axes>"
      ]
     },
     "metadata": {
      "needs_background": "light"
     },
     "output_type": "display_data"
    }
   ],
   "source": [
    "plt.imshow(np.log10(absft), extent=[k[0],k[-1],f[0],f[-1]], aspect='auto')\n",
    "#plt.imshow(np.log10(np.abs(ft)), extent=[k[0],k[-1],f[0],f[-1]], aspect='auto')\n",
    "plt.ylabel('Frequency, (Hz)')\n",
    "plt.xlabel('Wavenumber (1/m)')\n",
    "plt.title('F-k plot for whidbey Island')\n",
    "#MAKING D a square matrix\n",
    "#U,S,V = svds( D[:,0:ns] )\n",
    "#S.shape"
   ]
  },
  {
   "cell_type": "code",
   "execution_count": 12,
   "id": "0f6c7add",
   "metadata": {},
   "outputs": [
    {
     "name": "stdout",
     "output_type": "stream",
     "text": [
      "Defaulting to user installation because normal site-packages is not writeable\n",
      "Requirement already satisfied: sklearn in /home/velgueta/.local/lib/python3.6/site-packages (0.0.post1)\n",
      "\u001b[33mWARNING: You are using pip version 21.1.2; however, version 21.3.1 is available.\n",
      "You should consider upgrading via the '/usr/bin/python3 -m pip install --upgrade pip' command.\u001b[0m\n"
     ]
    }
   ],
   "source": [
    "#import numpy.linalg as ln\n",
    "import sys\n",
    "!{sys.executable} -m pip install sklearn\n"
   ]
  },
  {
   "cell_type": "code",
   "execution_count": 13,
   "id": "601e8c5a",
   "metadata": {},
   "outputs": [],
   "source": [
    "import sklearn \n",
    "from sklearn.decomposition import PCA"
   ]
  },
  {
   "cell_type": "code",
   "execution_count": 14,
   "id": "143b00b8",
   "metadata": {},
   "outputs": [
    {
     "name": "stdout",
     "output_type": "stream",
     "text": [
      "PCA(n_components=3)\n"
     ]
    }
   ],
   "source": [
    "from sklearn.decomposition import PCA # this is the SKLEAN model\n",
    "#pca=PCA(n_components=3).fit(D.transpose())\n",
    "pca=PCA(n_components=3).fit(absft)# retain all 3 components\n",
    "#pca=PCA().fit(D.transpose())# retain all 3 components\n",
    "print(pca)"
   ]
  },
  {
   "cell_type": "code",
   "execution_count": 15,
   "id": "910be382",
   "metadata": {},
   "outputs": [
    {
     "name": "stdout",
     "output_type": "stream",
     "text": [
      "[[ 0.04396701  0.07926732  0.0429742  ...  0.0429742   0.07926732\n",
      "   0.04396701]\n",
      " [-0.01523473  0.00590272 -0.04894867 ... -0.04894867  0.00590272\n",
      "  -0.01523473]\n",
      " [-0.00561752 -0.06851755  0.10265429 ... -0.10265429  0.06851755\n",
      "   0.00561752]]\n"
     ]
    }
   ],
   "source": [
    "print(pca.components_)"
   ]
  },
  {
   "cell_type": "code",
   "execution_count": 16,
   "id": "4199e936",
   "metadata": {},
   "outputs": [
    {
     "data": {
      "text/plain": [
       "3"
      ]
     },
     "execution_count": 16,
     "metadata": {},
     "output_type": "execute_result"
    }
   ],
   "source": [
    "len(pca.components_)"
   ]
  },
  {
   "cell_type": "code",
   "execution_count": 17,
   "id": "69d1d90a",
   "metadata": {},
   "outputs": [
    {
     "name": "stdout",
     "output_type": "stream",
     "text": [
      "[0.83205381 0.05412756 0.02977717]\n"
     ]
    }
   ],
   "source": [
    "print(pca.explained_variance_ratio_)"
   ]
  },
  {
   "cell_type": "code",
   "execution_count": 18,
   "id": "1864d054",
   "metadata": {},
   "outputs": [
    {
     "name": "stdout",
     "output_type": "stream",
     "text": [
      "[3.02007804e+08 1.96465008e+07 1.08081216e+07]\n"
     ]
    }
   ],
   "source": [
    "# The 3 PCs' explained variance\n",
    "print(pca.explained_variance_)"
   ]
  },
  {
   "cell_type": "code",
   "execution_count": 19,
   "id": "d4ae3b3c",
   "metadata": {},
   "outputs": [],
   "source": [
    "\n",
    "#import math\n",
    "#azimuth=math.degrees(math.atan2(pca.components_[0][0],pca.components_[0][1]))\n",
    "#if azimuth <0:azimuth+=360\n",
    "#print(\"direction of the plate \",azimuth,\" degrees from North\")"
   ]
  },
  {
   "cell_type": "code",
   "execution_count": 20,
   "id": "d9c8abdb",
   "metadata": {},
   "outputs": [],
   "source": [
    "#print(pca.explained_variance_ratio_)\n",
    "#fig,ax=plt.subplots(2,1,figsize=(11,8))\n",
    "#ax[0].plot(pca.explained_variance_ratio_);ax[0].set_xticks(range(0,3))\n",
    "#ax[0].set_xlabel('Number of dimensions')\n",
    "#ax[0].set_ylabel('Explained variance ')\n",
    "#ax[0].set_title('Variance explained with each PC')\n",
    "#ax[1].plot(np.cumsum(pca.explained_variance_ratio_))\n",
    "#ax[1].set_xlabel('Number of dimensions')\n",
    "#ax[1].set_ylabel('Explained variance ')\n",
    "#ax[1].set_title('Variance explained with cumulated PCs')"
   ]
  },
  {
   "cell_type": "code",
   "execution_count": 21,
   "id": "10157bc0",
   "metadata": {},
   "outputs": [
    {
     "name": "stdout",
     "output_type": "stream",
     "text": [
      "minimum dimension size to explain 95% of the variance  1\n"
     ]
    }
   ],
   "source": [
    "d = np.argmax(np.cumsum(pca.explained_variance_ratio_)>=0.95) +1\n",
    "print(\"minimum dimension size to explain 95% of the variance \",d)"
   ]
  },
  {
   "cell_type": "code",
   "execution_count": 22,
   "id": "1b63a175",
   "metadata": {},
   "outputs": [],
   "source": [
    "pca = PCA(n_components=d).fit(absft)\n",
    "D_pca = pca.transform(absft)\n",
    "#print(\"original shape:   \", D.shape)\n",
    "#print(pca)\n",
    "#plt.scatter(D[0,:],D[1,:])\n",
    "#print(\"transformed shape:\", D_pca.shape)"
   ]
  },
  {
   "cell_type": "code",
   "execution_count": 33,
   "id": "45c6c184",
   "metadata": {},
   "outputs": [
    {
     "name": "stdout",
     "output_type": "stream",
     "text": [
      "(600, 375)\n"
     ]
    },
    {
     "data": {
      "text/plain": [
       "<matplotlib.image.AxesImage at 0x7f0d0f549198>"
      ]
     },
     "execution_count": 33,
     "metadata": {},
     "output_type": "execute_result"
    },
    {
     "data": {
      "image/png": "[encoded data removed]",
      "text/plain": [
       "<Figure size 432x288 with 1 Axes>"
      ]
     },
     "metadata": {
      "needs_background": "light"
     },
     "output_type": "display_data"
    }
   ],
   "source": [
    "D_new = pca.inverse_transform(D_pca)\n",
    "print(D_new.shape)\n",
    "#plt.imshow(np.log10(absft), extent=[k[0],k[-1],f[0],f[-1]], aspect='auto')\n",
    "plt.imshow(np.abs(ft),aspect='auto',vmin=0,vmax=10000,extent=[k[0],k[-1],f[0],f[-1]],cmap='gray_r')\n",
    "##plt.ylim([-4,4])\n"
   ]
  },
  {
   "cell_type": "code",
   "execution_count": 29,
   "id": "f4a2285f",
   "metadata": {},
   "outputs": [
    {
     "data": {
      "image/png": "[encoded data removed]",
      "text/plain": [
       "<Figure size 432x288 with 1 Axes>"
      ]
     },
     "metadata": {
      "needs_background": "light"
     },
     "output_type": "display_data"
    }
   ],
   "source": [
    "\n",
    "plt.imshow(np.abs(D_new),aspect='auto',vmin=0,vmax=10000,extent=[k[0],k[-1],f[0],f[-1]],cmap='gray_r')\n",
    "plt.ylim([-4,4])\n",
    "plt.grid(True)\n",
    "plt.ylim(-2,2)\n",
    "plt.show()"
   ]
  },
  {
   "cell_type": "code",
   "execution_count": null,
   "id": "861057da",
   "metadata": {},
   "outputs": [],
   "source": []
  },
  {
   "cell_type": "code",
   "execution_count": null,
   "id": "2cc4cb74",
   "metadata": {},
   "outputs": [],
   "source": []
  },
  {
   "cell_type": "code",
   "execution_count": null,
   "id": "eed4c9b0",
   "metadata": {},
   "outputs": [],
   "source": []
  },
  {
   "cell_type": "code",
   "execution_count": null,
   "id": "3d4bbc51",
   "metadata": {},
   "outputs": [],
   "source": []
  },
  {
   "cell_type": "code",
   "execution_count": null,
   "id": "3fc21141",
   "metadata": {},
   "outputs": [],
   "source": []
  },
  {
   "cell_type": "code",
   "execution_count": null,
   "id": "61a5fcfb",
   "metadata": {},
   "outputs": [],
   "source": []
  }
 ],
 "metadata": {
  "kernelspec": {
   "display_name": "Python (Obspy)",
   "language": "python",
   "name": "obspy"
  },
  "language_info": {
   "codemirror_mode": {
    "name": "ipython",
    "version": 3
   },
   "file_extension": ".py",
   "mimetype": "text/x-python",
   "name": "python",
   "nbconvert_exporter": "python",
   "pygments_lexer": "ipython3",
   "version": "3.6.8"
  }
 },
 "nbformat": 4,
 "nbformat_minor": 5
}
