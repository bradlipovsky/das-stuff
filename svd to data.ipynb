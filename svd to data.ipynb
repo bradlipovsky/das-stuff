{
 "cells": [
  {
   "cell_type": "code",
   "execution_count": 1,
   "id": "7fb222c6",
   "metadata": {},
   "outputs": [],
   "source": [
    "    \n",
    "import h5py\n",
    "import matplotlib.pyplot as plt\n",
    "from scipy.sparse.linalg import svds\n",
    "import numpy as np\n",
    "from numpy.fft import fft2, fftfreq, fftshift"
   ]
  },
  {
   "cell_type": "code",
   "execution_count": 2,
   "id": "551ab9d9",
   "metadata": {},
   "outputs": [],
   "source": [
    "\n",
    "\n",
    "\n",
    "\n",
    "filename = '/data/data6/whidbey/whidbey_2022-12-01_00-00-28_UTC.h5'\n",
    "data_file = h5py.File(filename)\n"
   ]
  },
  {
   "cell_type": "code",
   "execution_count": 3,
   "id": "4a45a3f3",
   "metadata": {},
   "outputs": [],
   "source": [
    "data= data_file['/Acquisition/Raw[0]/RawData']\n",
    "nt,nx = data.shape\n"
   ]
  },
  {
   "cell_type": "code",
   "execution_count": 5,
   "id": "964b8903",
   "metadata": {},
   "outputs": [],
   "source": [
    "downsample=10 \n",
    "subseadata=data[::downsample,2450:3200]\n",
    "subseadata=data[:,2450:3200]\n",
    "ft=fftshift(fft2(subseadata))\n",
    "f=fftshift(fftfreq(subseadata.shape[0],d=0.01*downsample))\n",
    "k=fftshift(fftfreq(subseadata.shape[1],d=3.17))\n",
    "\n"
   ]
  },
  {
   "cell_type": "code",
   "execution_count": 6,
   "id": "f84eeff2",
   "metadata": {},
   "outputs": [
    {
     "data": {
      "text/plain": [
       "(6000, 750)"
      ]
     },
     "execution_count": 6,
     "metadata": {},
     "output_type": "execute_result"
    }
   ],
   "source": [
    "ft.shape"
   ]
  },
  {
   "cell_type": "code",
   "execution_count": 7,
   "id": "51c7f1bc",
   "metadata": {},
   "outputs": [],
   "source": [
    "ft=ft.flatten()"
   ]
  },
  {
   "cell_type": "code",
   "execution_count": 9,
   "id": "c422f27c",
   "metadata": {},
   "outputs": [
    {
     "data": {
      "text/plain": [
       "(4500000,)"
      ]
     },
     "execution_count": 9,
     "metadata": {},
     "output_type": "execute_result"
    }
   ],
   "source": [
    "ft.shape"
   ]
  },
  {
   "cell_type": "code",
   "execution_count": 10,
   "id": "6ac646e9",
   "metadata": {},
   "outputs": [
    {
     "ename": "ValueError",
     "evalue": "`k` must be an integer satisfying `0 < k < min(A.shape)`.",
     "output_type": "error",
     "traceback": [
      "\u001b[0;31m---------------------------------------------------------------------------\u001b[0m",
      "\u001b[0;31mValueError\u001b[0m                                Traceback (most recent call last)",
      "Cell \u001b[0;32mIn [10], line 1\u001b[0m\n\u001b[0;32m----> 1\u001b[0m U,S,V \u001b[38;5;241m=\u001b[39m \u001b[43msvds\u001b[49m\u001b[43m(\u001b[49m\u001b[43mft\u001b[49m\u001b[43m)\u001b[49m\n\u001b[1;32m      2\u001b[0m S\u001b[38;5;241m=\u001b[39mnp\u001b[38;5;241m.\u001b[39mdiag(S)\n",
      "File \u001b[0;32m~/.conda/envs/python-obspy/lib/python3.9/site-packages/scipy/sparse/linalg/_eigen/_svds.py:252\u001b[0m, in \u001b[0;36msvds\u001b[0;34m(A, k, ncv, tol, which, v0, maxiter, return_singular_vectors, solver, random_state, options)\u001b[0m\n\u001b[1;32m    107\u001b[0m \u001b[38;5;124;03m\"\"\"\u001b[39;00m\n\u001b[1;32m    108\u001b[0m \u001b[38;5;124;03mPartial singular value decomposition of a sparse matrix.\u001b[39;00m\n\u001b[1;32m    109\u001b[0m \n\u001b[0;32m   (...)\u001b[0m\n\u001b[1;32m    248\u001b[0m \n\u001b[1;32m    249\u001b[0m \u001b[38;5;124;03m\"\"\"\u001b[39;00m\n\u001b[1;32m    250\u001b[0m rs_was_None \u001b[38;5;241m=\u001b[39m random_state \u001b[38;5;129;01mis\u001b[39;00m \u001b[38;5;28;01mNone\u001b[39;00m  \u001b[38;5;66;03m# avoid changing v0 for arpack/lobpcg\u001b[39;00m\n\u001b[0;32m--> 252\u001b[0m args \u001b[38;5;241m=\u001b[39m \u001b[43m_iv\u001b[49m\u001b[43m(\u001b[49m\u001b[43mA\u001b[49m\u001b[43m,\u001b[49m\u001b[43m \u001b[49m\u001b[43mk\u001b[49m\u001b[43m,\u001b[49m\u001b[43m \u001b[49m\u001b[43mncv\u001b[49m\u001b[43m,\u001b[49m\u001b[43m \u001b[49m\u001b[43mtol\u001b[49m\u001b[43m,\u001b[49m\u001b[43m \u001b[49m\u001b[43mwhich\u001b[49m\u001b[43m,\u001b[49m\u001b[43m \u001b[49m\u001b[43mv0\u001b[49m\u001b[43m,\u001b[49m\u001b[43m \u001b[49m\u001b[43mmaxiter\u001b[49m\u001b[43m,\u001b[49m\u001b[43m \u001b[49m\u001b[43mreturn_singular_vectors\u001b[49m\u001b[43m,\u001b[49m\n\u001b[1;32m    253\u001b[0m \u001b[43m           \u001b[49m\u001b[43msolver\u001b[49m\u001b[43m,\u001b[49m\u001b[43m \u001b[49m\u001b[43mrandom_state\u001b[49m\u001b[43m)\u001b[49m\n\u001b[1;32m    254\u001b[0m (A, k, ncv, tol, which, v0, maxiter,\n\u001b[1;32m    255\u001b[0m  return_singular_vectors, solver, random_state) \u001b[38;5;241m=\u001b[39m args\n\u001b[1;32m    257\u001b[0m largest \u001b[38;5;241m=\u001b[39m (which \u001b[38;5;241m==\u001b[39m \u001b[38;5;124m'\u001b[39m\u001b[38;5;124mLM\u001b[39m\u001b[38;5;124m'\u001b[39m)\n",
      "File \u001b[0;32m~/.conda/envs/python-obspy/lib/python3.9/site-packages/scipy/sparse/linalg/_eigen/_svds.py:49\u001b[0m, in \u001b[0;36m_iv\u001b[0;34m(A, k, ncv, tol, which, v0, maxiter, return_singular, solver, random_state)\u001b[0m\n\u001b[1;32m     47\u001b[0m \u001b[38;5;28;01mif\u001b[39;00m \u001b[38;5;28mint\u001b[39m(k) \u001b[38;5;241m!=\u001b[39m k \u001b[38;5;129;01mor\u001b[39;00m \u001b[38;5;129;01mnot\u001b[39;00m (\u001b[38;5;241m0\u001b[39m \u001b[38;5;241m<\u001b[39m k \u001b[38;5;241m<\u001b[39m\u001b[38;5;241m=\u001b[39m kmax):\n\u001b[1;32m     48\u001b[0m     message \u001b[38;5;241m=\u001b[39m \u001b[38;5;124m\"\u001b[39m\u001b[38;5;124m`k` must be an integer satisfying `0 < k < min(A.shape)`.\u001b[39m\u001b[38;5;124m\"\u001b[39m\n\u001b[0;32m---> 49\u001b[0m     \u001b[38;5;28;01mraise\u001b[39;00m \u001b[38;5;167;01mValueError\u001b[39;00m(message)\n\u001b[1;32m     50\u001b[0m k \u001b[38;5;241m=\u001b[39m \u001b[38;5;28mint\u001b[39m(k)\n\u001b[1;32m     52\u001b[0m \u001b[38;5;66;03m# input validation/standardization for `ncv`\u001b[39;00m\n",
      "\u001b[0;31mValueError\u001b[0m: `k` must be an integer satisfying `0 < k < min(A.shape)`."
     ]
    }
   ],
   "source": [
    "U,S,V = svds(ft)\n",
    "S=np.diag(S)"
   ]
  },
  {
   "cell_type": "code",
   "execution_count": null,
   "id": "41f6b08a",
   "metadata": {},
   "outputs": [],
   "source": []
  }
 ],
 "metadata": {
  "kernelspec": {
   "display_name": "Python 3 (ipykernel)",
   "language": "python",
   "name": "python3"
  },
  "language_info": {
   "codemirror_mode": {
    "name": "ipython",
    "version": 3
   },
   "file_extension": ".py",
   "mimetype": "text/x-python",
   "name": "python",
   "nbconvert_exporter": "python",
   "pygments_lexer": "ipython3",
   "version": "3.9.13"
  }
 },
 "nbformat": 4,
 "nbformat_minor": 5
}
